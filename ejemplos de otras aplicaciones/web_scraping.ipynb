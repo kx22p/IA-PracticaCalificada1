{
 "cells": [
  {
   "cell_type": "code",
   "execution_count": 1,
   "id": "d6a705c6",
   "metadata": {
    "collapsed": true
   },
   "outputs": [
    {
     "name": "stdout",
     "output_type": "stream",
     "text": [
      "Requirement already satisfied: requests in c:\\users\\dulce hogar\\appdata\\local\\programs\\python\\python39\\lib\\site-packages (2.25.1)"
     ]
    },
    {
     "name": "stderr",
     "output_type": "stream",
     "text": [
      "WARNING: Value for scheme.headers does not match. Please report this to <https://github.com/pypa/pip/issues/9617>\n",
      "distutils: c:\\users\\dulce hogar\\appdata\\local\\programs\\python\\python39\\Include\\UNKNOWN\n",
      "sysconfig: c:\\users\\dulce hogar\\appdata\\local\\programs\\python\\python39\\Include\n",
      "WARNING: Additional context:\n",
      "user = False\n",
      "home = None\n",
      "root = None\n",
      "prefix = None\n",
      "WARNING: Value for scheme.headers does not match. Please report this to <https://github.com/pypa/pip/issues/9617>\n",
      "distutils: c:\\users\\dulce hogar\\appdata\\local\\programs\\python\\python39\\Include\\UNKNOWN\n",
      "sysconfig: c:\\users\\dulce hogar\\appdata\\local\\programs\\python\\python39\\Include\n",
      "WARNING: Additional context:\n",
      "user = False\n",
      "home = None\n",
      "root = None\n",
      "prefix = None\n"
     ]
    },
    {
     "name": "stdout",
     "output_type": "stream",
     "text": [
      "\n",
      "Requirement already satisfied: urllib3<1.27,>=1.21.1 in c:\\users\\dulce hogar\\appdata\\local\\programs\\python\\python39\\lib\\site-packages (from requests) (1.26.4)\n",
      "Requirement already satisfied: certifi>=2017.4.17 in c:\\users\\dulce hogar\\appdata\\local\\programs\\python\\python39\\lib\\site-packages (from requests) (2020.12.5)\n",
      "Requirement already satisfied: chardet<5,>=3.0.2 in c:\\users\\dulce hogar\\appdata\\local\\programs\\python\\python39\\lib\\site-packages (from requests) (4.0.0)\n",
      "Requirement already satisfied: idna<3,>=2.5 in c:\\users\\dulce hogar\\appdata\\local\\programs\\python\\python39\\lib\\site-packages (from requests) (2.10)\n",
      "Requirement already satisfied: bs4 in c:\\users\\dulce hogar\\appdata\\local\\programs\\python\\python39\\lib\\site-packages (0.0.1)"
     ]
    },
    {
     "name": "stderr",
     "output_type": "stream",
     "text": [
      "WARNING: Value for scheme.headers does not match. Please report this to <https://github.com/pypa/pip/issues/9617>\n",
      "distutils: c:\\users\\dulce hogar\\appdata\\local\\programs\\python\\python39\\Include\\UNKNOWN\n",
      "sysconfig: c:\\users\\dulce hogar\\appdata\\local\\programs\\python\\python39\\Include\n",
      "WARNING: Additional context:\n",
      "user = False\n",
      "home = None\n",
      "root = None\n",
      "prefix = None\n",
      "WARNING: Value for scheme.headers does not match. Please report this to <https://github.com/pypa/pip/issues/9617>\n",
      "distutils: c:\\users\\dulce hogar\\appdata\\local\\programs\\python\\python39\\Include\\UNKNOWN\n",
      "sysconfig: c:\\users\\dulce hogar\\appdata\\local\\programs\\python\\python39\\Include\n",
      "WARNING: Additional context:\n",
      "user = False\n",
      "home = None\n",
      "root = None\n",
      "prefix = None\n"
     ]
    },
    {
     "name": "stdout",
     "output_type": "stream",
     "text": [
      "\n",
      "Requirement already satisfied: beautifulsoup4 in c:\\users\\dulce hogar\\appdata\\local\\programs\\python\\python39\\lib\\site-packages (from bs4) (4.9.3)\n",
      "Requirement already satisfied: soupsieve>1.2 in c:\\users\\dulce hogar\\appdata\\local\\programs\\python\\python39\\lib\\site-packages (from beautifulsoup4->bs4) (2.2.1)\n",
      "Requirement already satisfied: beautifulsoup4 in c:\\users\\dulce hogar\\appdata\\local\\programs\\python\\python39\\lib\\site-packages (4.9.3)\n",
      "Requirement already satisfied: soupsieve>1.2 in c:\\users\\dulce hogar\\appdata\\local\\programs\\python\\python39\\lib\\site-packages (from beautifulsoup4) (2.2.1)\n"
     ]
    },
    {
     "name": "stderr",
     "output_type": "stream",
     "text": [
      "WARNING: Value for scheme.headers does not match. Please report this to <https://github.com/pypa/pip/issues/9617>\n",
      "distutils: c:\\users\\dulce hogar\\appdata\\local\\programs\\python\\python39\\Include\\UNKNOWN\n",
      "sysconfig: c:\\users\\dulce hogar\\appdata\\local\\programs\\python\\python39\\Include\n",
      "WARNING: Additional context:\n",
      "user = False\n",
      "home = None\n",
      "root = None\n",
      "prefix = None\n",
      "WARNING: Value for scheme.headers does not match. Please report this to <https://github.com/pypa/pip/issues/9617>\n",
      "distutils: c:\\users\\dulce hogar\\appdata\\local\\programs\\python\\python39\\Include\\UNKNOWN\n",
      "sysconfig: c:\\users\\dulce hogar\\appdata\\local\\programs\\python\\python39\\Include\n",
      "WARNING: Additional context:\n",
      "user = False\n",
      "home = None\n",
      "root = None\n",
      "prefix = None\n"
     ]
    },
    {
     "name": "stdout",
     "output_type": "stream",
     "text": [
      "Requirement already satisfied: lxml in c:\\users\\dulce hogar\\appdata\\local\\programs\\python\\python39\\lib\\site-packages (4.6.3)\n"
     ]
    },
    {
     "name": "stderr",
     "output_type": "stream",
     "text": [
      "WARNING: Value for scheme.headers does not match. Please report this to <https://github.com/pypa/pip/issues/9617>\n",
      "distutils: c:\\users\\dulce hogar\\appdata\\local\\programs\\python\\python39\\Include\\UNKNOWN\n",
      "sysconfig: c:\\users\\dulce hogar\\appdata\\local\\programs\\python\\python39\\Include\n",
      "WARNING: Additional context:\n",
      "user = False\n",
      "home = None\n",
      "root = None\n",
      "prefix = None\n",
      "WARNING: Value for scheme.headers does not match. Please report this to <https://github.com/pypa/pip/issues/9617>\n",
      "distutils: c:\\users\\dulce hogar\\appdata\\local\\programs\\python\\python39\\Include\\UNKNOWN\n",
      "sysconfig: c:\\users\\dulce hogar\\appdata\\local\\programs\\python\\python39\\Include\n",
      "WARNING: Additional context:\n",
      "user = False\n",
      "home = None\n",
      "root = None\n",
      "prefix = None\n"
     ]
    },
    {
     "name": "stdout",
     "output_type": "stream",
     "text": [
      "Requirement already satisfied: html5lib in c:\\users\\dulce hogar\\appdata\\local\\programs\\python\\python39\\lib\\site-packages (1.1)\n",
      "Requirement already satisfied: webencodings in c:\\users\\dulce hogar\\appdata\\local\\programs\\python\\python39\\lib\\site-packages (from html5lib) (0.5.1)\n",
      "Requirement already satisfied: six>=1.9 in c:\\users\\dulce hogar\\appdata\\local\\programs\\python\\python39\\lib\\site-packages (from html5lib) (1.15.0)\n"
     ]
    },
    {
     "name": "stderr",
     "output_type": "stream",
     "text": [
      "WARNING: Value for scheme.headers does not match. Please report this to <https://github.com/pypa/pip/issues/9617>\n",
      "distutils: c:\\users\\dulce hogar\\appdata\\local\\programs\\python\\python39\\Include\\UNKNOWN\n",
      "sysconfig: c:\\users\\dulce hogar\\appdata\\local\\programs\\python\\python39\\Include\n",
      "WARNING: Additional context:\n",
      "user = False\n",
      "home = None\n",
      "root = None\n",
      "prefix = None\n",
      "WARNING: Value for scheme.headers does not match. Please report this to <https://github.com/pypa/pip/issues/9617>\n",
      "distutils: c:\\users\\dulce hogar\\appdata\\local\\programs\\python\\python39\\Include\\UNKNOWN\n",
      "sysconfig: c:\\users\\dulce hogar\\appdata\\local\\programs\\python\\python39\\Include\n",
      "WARNING: Additional context:\n",
      "user = False\n",
      "home = None\n",
      "root = None\n",
      "prefix = None\n"
     ]
    }
   ],
   "source": [
    "!pip install requests\n",
    "!pip install bs4\n",
    "!pip install beautifulsoup4\n",
    "!pip install lxml\n",
    "!pip install html5lib"
   ]
  },
  {
   "cell_type": "code",
   "execution_count": 2,
   "id": "1cb9ab03",
   "metadata": {},
   "outputs": [],
   "source": [
    "import requests\n",
    "from bs4 import BeautifulSoup\n",
    "from lxml import etree\n",
    "import bs4"
   ]
  },
  {
   "cell_type": "code",
   "execution_count": 3,
   "id": "b504a80e",
   "metadata": {},
   "outputs": [],
   "source": [
    "baseurl ='https://statsroyale.com/es'"
   ]
  },
  {
   "cell_type": "code",
   "execution_count": 4,
   "id": "cfdda169",
   "metadata": {},
   "outputs": [],
   "source": [
    "headers ={'User-Agent':'Mozilla/5.0 (iPhone; CPU iPhone OS 10_0 like Mac OS X) AppleWebKit/602.4.6 (KHTML, like Gecko) Version/10.0 Mobile/14A346 Safari/E7FBAF'}"
   ]
  },
  {
   "cell_type": "code",
   "execution_count": 5,
   "id": "f8831d20",
   "metadata": {},
   "outputs": [],
   "source": [
    "r = requests.get('https://statsroyale.com/es/cards')"
   ]
  },
  {
   "cell_type": "code",
   "execution_count": 6,
   "id": "89238923",
   "metadata": {},
   "outputs": [],
   "source": [
    "soup = BeautifulSoup(r.content, 'lxml')"
   ]
  },
  {
   "cell_type": "code",
   "execution_count": 7,
   "id": "3ea7b59d",
   "metadata": {},
   "outputs": [],
   "source": [
    "cardlist =soup.find_all('div',class_=\"cards__card\")"
   ]
  },
  {
   "cell_type": "code",
   "execution_count": 8,
   "id": "a1344b81",
   "metadata": {},
   "outputs": [],
   "source": [
    "cardlinks =[]\n",
    "for item in cardlist:\n",
    "    for link in item.find_all('a', href= True): \n",
    "        cardlinks.append(link['href'])"
   ]
  },
  {
   "cell_type": "code",
   "execution_count": 9,
   "id": "789a0729",
   "metadata": {},
   "outputs": [
    {
     "name": "stdout",
     "output_type": "stream",
     "text": [
      "102\n"
     ]
    }
   ],
   "source": [
    "print(len(cardlinks))"
   ]
  },
  {
   "cell_type": "code",
   "execution_count": 10,
   "id": "64c35bb5",
   "metadata": {},
   "outputs": [
    {
     "name": "stdout",
     "output_type": "stream",
     "text": [
      "{'name': 'Trío de mosqueteras', 'level': '9', 'quality': 'Especial', 'objective': 'De tierra y aire', 'scope': '6.0', 'speed': 'Media', 'letter_speed': '598', 'radio': 'None', 'tiem_of_life': 'None'}\n",
      "{'name': 'Gólem', 'level': '9', 'quality': 'Épica', 'objective': 'Estructuras', 'scope': 'Cuerpo a cuerpo', 'speed': 'Baja', 'letter_speed': '4256', 'radio': 'None', 'tiem_of_life': 'None'}\n",
      "{'name': 'Gigante eléctrico', 'level': '9', 'quality': 'Épica', 'objective': 'Estructuras', 'scope': 'Cuerpo a cuerpo', 'speed': 'Baja', 'letter_speed': '3591', 'radio': 'None', 'tiem_of_life': 'None'}\n",
      "{'name': 'Reclutas reales', 'level': '9', 'quality': 'Común', 'objective': 'Terrestres', 'scope': 'Cuerpo a cuerpo', 'speed': 'Media', 'letter_speed': '440', 'radio': 'None', 'tiem_of_life': 'None'}\n",
      "{'name': 'P.E.K.K.A.', 'level': '9', 'quality': 'Épica', 'objective': 'Terrestres', 'scope': 'Cuerpo a cuerpo', 'speed': 'Baja', 'letter_speed': '3125', 'radio': 'None', 'tiem_of_life': 'None'}\n",
      "{'name': 'Sabueso de lava', 'level': '9', 'quality': 'Legendaria', 'objective': 'Estructuras', 'scope': '3.5', 'speed': 'Baja', 'letter_speed': '3150', 'radio': 'None', 'tiem_of_life': 'None'}\n",
      "{'name': 'Megacaballero', 'level': '9', 'quality': 'Legendaria', 'objective': 'Terrestres', 'scope': 'Cuerpo a cuerpo', 'speed': 'Media', 'letter_speed': '3300', 'radio': '1.3', 'tiem_of_life': 'None'}\n",
      "{'name': 'Gigante noble', 'level': '9', 'quality': 'Común', 'objective': 'Estructuras', 'scope': '5.0', 'speed': 'Baja', 'letter_speed': '2544', 'radio': 'None', 'tiem_of_life': 'None'}\n",
      "{'name': 'Bárbaros de élite', 'level': '9', 'quality': 'Común', 'objective': 'Terrestres', 'scope': 'Cuerpo a cuerpo', 'speed': 'Alta', 'letter_speed': '1110', 'radio': 'None', 'tiem_of_life': 'None'}\n",
      "{'name': 'Esqueleto gigante', 'level': '9', 'quality': 'Épica', 'objective': 'Terrestres', 'scope': 'Cuerpo a cuerpo', 'speed': 'Media', 'letter_speed': '2793', 'radio': 'None', 'tiem_of_life': 'None'}\n",
      "{'name': 'Duende gigante', 'level': '9', 'quality': 'Épica', 'objective': 'Estructuras', 'scope': 'Cuerpo a cuerpo', 'speed': 'Media', 'letter_speed': '2616', 'radio': 'None', 'tiem_of_life': '0.0s'}\n",
      "{'name': 'Chispitas', 'level': '9', 'quality': 'Legendaria', 'objective': 'Terrestres', 'scope': '5.0', 'speed': 'Baja', 'letter_speed': '1200', 'radio': '1.8', 'tiem_of_life': 'None'}\n",
      "{'name': 'Bárbaros', 'level': '9', 'quality': 'Común', 'objective': 'Terrestres', 'scope': 'Cuerpo a cuerpo', 'speed': 'Media', 'letter_speed': '555', 'radio': 'None', 'tiem_of_life': 'None'}\n",
      "{'name': 'Horda de esbirros', 'level': '9', 'quality': 'Común', 'objective': 'De tierra y aire', 'scope': 'Cuerpo a cuerpo', 'speed': 'Alta', 'letter_speed': '190', 'radio': 'None', 'tiem_of_life': 'None'}\n",
      "{'name': 'Pillos', 'level': '9', 'quality': 'Común', 'objective': 'Terrestres', 'scope': 'Cuerpo a cuerpo', 'speed': 'Media', 'letter_speed': '1515', 'radio': 'None', 'tiem_of_life': 'None'}\n",
      "{'name': 'Globo bombástico', 'level': '9', 'quality': 'Épica', 'objective': 'Estructuras', 'scope': 'Cuerpo a cuerpo', 'speed': 'Media', 'letter_speed': '1396', 'radio': 'None', 'tiem_of_life': 'None'}\n",
      "{'name': 'Bruja', 'level': '9', 'quality': 'Épica', 'objective': 'De tierra y aire', 'scope': '5.5', 'speed': 'Media', 'letter_speed': '696', 'radio': '1.0', 'tiem_of_life': '7.0s'}\n",
      "{'name': 'Príncipe', 'level': '9', 'quality': 'Épica', 'objective': 'Terrestres', 'scope': 'Cuerpo a cuerpo', 'speed': 'Media', 'letter_speed': '1669', 'radio': 'None', 'tiem_of_life': 'None'}\n",
      "{'name': 'Lanzarrocas', 'level': '9', 'quality': 'Épica', 'objective': 'Terrestres', 'scope': '4.0', 'speed': 'Baja', 'letter_speed': '1729', 'radio': '1.8', 'tiem_of_life': 'None'}\n",
      "{'name': 'Verdugo', 'level': '9', 'quality': 'Épica', 'objective': 'De tierra y aire', 'scope': '4.5', 'speed': 'Media', 'letter_speed': '1010', 'radio': '1.0', 'tiem_of_life': 'None'}\n",
      "{'name': 'Cañón con ruedas', 'level': '9', 'quality': 'Épica', 'objective': 'Terrestres', 'scope': '5.5', 'speed': 'Media', 'letter_speed': '742', 'radio': 'None', 'tiem_of_life': 'None'}\n",
      "{'name': 'Dragón eléctrico', 'level': '9', 'quality': 'Épica', 'objective': 'De tierra y aire', 'scope': '3.5', 'speed': 'Media', 'letter_speed': '790', 'radio': 'None', 'tiem_of_life': 'None'}\n",
      "{'name': 'Montacarneros', 'level': '9', 'quality': 'Legendaria', 'objective': 'Estructuras', 'scope': 'Cuerpo a cuerpo', 'speed': 'Media', 'letter_speed': '1461', 'radio': 'None', 'tiem_of_life': '0.0s'}\n",
      "{'name': 'Gigante', 'level': '9', 'quality': 'Especial', 'objective': 'Estructuras', 'scope': 'Cuerpo a cuerpo', 'speed': 'Baja', 'letter_speed': '3275', 'radio': 'None', 'tiem_of_life': 'None'}\n",
      "{'name': 'Puercos reales', 'level': '9', 'quality': 'Especial', 'objective': 'Estructuras', 'scope': 'Cuerpo a cuerpo', 'speed': 'Muy alta', 'letter_speed': '695', 'radio': 'None', 'tiem_of_life': 'None'}\n",
      "{'name': 'Mago', 'level': '9', 'quality': 'Especial', 'objective': 'De tierra y aire', 'scope': '5.5', 'speed': 'Media', 'letter_speed': '598', 'radio': '1.5', 'tiem_of_life': 'None'}\n",
      "{'name': 'Dragones esqueleto', 'level': '9', 'quality': 'Común', 'objective': 'De tierra y aire', 'scope': '3.5', 'speed': 'Alta', 'letter_speed': '440', 'radio': '0.8', 'tiem_of_life': 'None'}\n",
      "{'name': 'Bebé dragón', 'level': '9', 'quality': 'Épica', 'objective': 'De tierra y aire', 'scope': '3.5', 'speed': 'Alta', 'letter_speed': '957', 'radio': '1.2', 'tiem_of_life': 'None'}\n",
      "{'name': 'Príncipe oscuro', 'level': '9', 'quality': 'Épica', 'objective': 'Terrestres', 'scope': 'Cuerpo a cuerpo', 'speed': 'Media', 'letter_speed': '1030', 'radio': '1.1', 'tiem_of_life': 'None'}\n",
      "{'name': 'Cazador', 'level': '9', 'quality': 'Épica', 'objective': 'De tierra y aire', 'scope': '4.0', 'speed': 'Media', 'letter_speed': '696', 'radio': '0.07', 'tiem_of_life': 'None'}\n",
      "{'name': 'Leñador', 'level': '9', 'quality': 'Legendaria', 'objective': 'Terrestres', 'scope': 'Cuerpo a cuerpo', 'speed': 'Muy alta', 'letter_speed': '1060', 'radio': 'None', 'tiem_of_life': 'None'}\n",
      "{'name': 'Dragón infernal', 'level': '9', 'quality': 'Legendaria', 'objective': 'De tierra y aire', 'scope': '3.5', 'speed': 'Media', 'letter_speed': '1070', 'radio': 'None', 'tiem_of_life': 'None'}\n",
      "{'name': 'Mago eléctrico', 'level': '9', 'quality': 'Legendaria', 'objective': 'De tierra y aire', 'scope': '5.0', 'speed': 'Alta', 'letter_speed': '75', 'radio': '2.5', 'tiem_of_life': 'None'}\n",
      "{'name': 'Bruja nocturna', 'level': '9', 'quality': 'Legendaria', 'objective': 'Terrestres', 'scope': 'Cuerpo a cuerpo', 'speed': 'Media', 'letter_speed': '750', 'radio': 'None', 'tiem_of_life': '7.0s'}\n",
      "{'name': 'Arquero mágico', 'level': '9', 'quality': 'Legendaria', 'objective': 'De tierra y aire', 'scope': '7.0', 'speed': 'Media', 'letter_speed': '440', 'radio': '0.3', 'tiem_of_life': 'None'}\n",
      "{'name': 'Bruja madre', 'level': '9', 'quality': 'Legendaria', 'objective': 'De tierra y aire', 'scope': '5.5', 'speed': 'Media', 'letter_speed': '560', 'radio': 'None', 'tiem_of_life': 'None'}\n",
      "{'name': 'Valquiria', 'level': '9', 'quality': 'Especial', 'objective': 'Terrestres', 'scope': 'Cuerpo a cuerpo', 'speed': 'Media', 'letter_speed': '1654', 'radio': '2', 'tiem_of_life': 'None'}\n",
      "{'name': 'Mosquetera', 'level': '9', 'quality': 'Especial', 'objective': 'De tierra y aire', 'scope': '6.0', 'speed': 'Media', 'letter_speed': '598', 'radio': 'None', 'tiem_of_life': 'None'}\n",
      "{'name': 'Mini P.E.K.K.A.', 'level': '9', 'quality': 'Especial', 'objective': 'Terrestres', 'scope': 'Cuerpo a cuerpo', 'speed': 'Alta', 'letter_speed': '1129', 'radio': 'None', 'tiem_of_life': 'None'}\n",
      "{'name': 'Montapuercos', 'level': '9', 'quality': 'Especial', 'objective': 'Estructuras', 'scope': 'Cuerpo a cuerpo', 'speed': 'Muy alta', 'letter_speed': '1408', 'radio': 'None', 'tiem_of_life': 'None'}\n",
      "{'name': 'Ariete de batalla', 'level': '9', 'quality': 'Especial', 'objective': 'Estructuras', 'scope': 'Cuerpo a cuerpo', 'speed': 'Media', 'letter_speed': '756', 'radio': 'None', 'tiem_of_life': 'None'}\n",
      "{'name': 'Electrocutadores', 'level': '9', 'quality': 'Especial', 'objective': 'De tierra y aire', 'scope': '4.5', 'speed': 'Media', 'letter_speed': '440', 'radio': 'None', 'tiem_of_life': 'None'}\n",
      "{'name': 'Máquina voladora', 'level': '9', 'quality': 'Especial', 'objective': 'De tierra y aire', 'scope': '6.0', 'speed': 'Alta', 'letter_speed': '510', 'radio': 'None', 'tiem_of_life': 'None'}\n",
      "{'name': 'Curandera guerrera', 'level': '9', 'quality': 'Especial', 'objective': 'Terrestres', 'scope': 'Cuerpo a cuerpo', 'speed': 'Media', 'letter_speed': '1425', 'radio': 'None', 'tiem_of_life': 'None'}\n",
      "{'name': 'Caballero', 'level': '9', 'quality': 'Común', 'objective': 'Terrestres', 'scope': 'Cuerpo a cuerpo', 'speed': 'Media', 'letter_speed': '1380', 'radio': 'None', 'tiem_of_life': 'None'}\n",
      "{'name': 'Arqueras', 'level': '9', 'quality': 'Común', 'objective': 'De tierra y aire', 'scope': '5.0', 'speed': 'Media', 'letter_speed': '252', 'radio': 'None', 'tiem_of_life': 'None'}\n",
      "{'name': 'Esbirros', 'level': '9', 'quality': 'Común', 'objective': 'De tierra y aire', 'scope': 'Cuerpo a cuerpo', 'speed': 'Alta', 'letter_speed': '190', 'radio': 'None', 'tiem_of_life': 'None'}\n",
      "{'name': 'Pandilla de duendes', 'level': '9', 'quality': 'Común', 'objective': 'Terrestres', 'scope': 'Cuerpo a cuerpo', 'speed': 'Muy alta', 'letter_speed': '167', 'radio': 'None', 'tiem_of_life': 'None'}\n",
      "{'name': 'Barril de esqueletos', 'level': '9', 'quality': 'Común', 'objective': 'Estructuras', 'scope': 'Cuerpo a cuerpo', 'speed': 'Alta', 'letter_speed': '440', 'radio': 'None', 'tiem_of_life': 'None'}\n",
      "{'name': 'Lanzafuegos', 'level': '9', 'quality': 'Común', 'objective': 'De tierra y aire', 'scope': '6.0', 'speed': 'Alta', 'letter_speed': '252', 'radio': 'None', 'tiem_of_life': 'None'}\n",
      "{'name': 'Ejército de esqueletos', 'level': '9', 'quality': 'Épica', 'objective': 'Terrestres', 'scope': 'Cuerpo a cuerpo', 'speed': 'Alta', 'letter_speed': '67', 'radio': 'None', 'tiem_of_life': 'None'}\n",
      "{'name': 'Guardias', 'level': '9', 'quality': 'Épica', 'objective': 'Terrestres', 'scope': 'Cuerpo a cuerpo', 'speed': 'Alta', 'letter_speed': '67', 'radio': 'None', 'tiem_of_life': 'None'}\n",
      "{'name': 'Mago de hielo', 'level': '9', 'quality': 'Legendaria', 'objective': 'De tierra y aire', 'scope': '5.5', 'speed': 'Media', 'letter_speed': '590', 'radio': '1.0', 'tiem_of_life': 'None'}\n",
      "{'name': 'Princesa', 'level': '9', 'quality': 'Legendaria', 'objective': 'De tierra y aire', 'scope': '9.0', 'speed': 'Media', 'letter_speed': '216', 'radio': '2.5', 'tiem_of_life': 'None'}\n",
      "{'name': 'Minero', 'level': '9', 'quality': 'Legendaria', 'objective': 'Terrestres', 'scope': 'Cuerpo a cuerpo', 'speed': 'Alta', 'letter_speed': '1000', 'radio': 'None', 'tiem_of_life': 'None'}\n",
      "{'name': 'Bandida', 'level': '9', 'quality': 'Legendaria', 'objective': 'Terrestres', 'scope': 'Cuerpo a cuerpo', 'speed': 'Alta', 'letter_speed': '750', 'radio': 'None', 'tiem_of_life': 'None'}\n",
      "{'name': 'Fantasma real', 'level': '9', 'quality': 'Legendaria', 'objective': 'Terrestres', 'scope': 'Cuerpo a cuerpo', 'speed': 'Alta', 'letter_speed': '1000', 'radio': '1', 'tiem_of_life': 'None'}\n",
      "{'name': 'Pescador', 'level': '9', 'quality': 'Legendaria', 'objective': 'Terrestres', 'scope': 'Cuerpo a cuerpo', 'speed': 'Media', 'letter_speed': '720', 'radio': 'None', 'tiem_of_life': 'None'}\n",
      "{'name': 'Megaesbirro', 'level': '9', 'quality': 'Especial', 'objective': 'De tierra y aire', 'scope': 'Cuerpo a cuerpo', 'speed': 'Media', 'letter_speed': '695', 'radio': 'None', 'tiem_of_life': 'None'}\n",
      "{'name': 'Duende lanzadardos', 'level': '9', 'quality': 'Especial', 'objective': 'De tierra y aire', 'scope': '6.5', 'speed': 'Muy alta', 'letter_speed': '216', 'radio': 'None', 'tiem_of_life': 'None'}\n",
      "{'name': 'Gólem de elixir', 'level': '9', 'quality': 'Especial', 'objective': 'Estructuras', 'scope': 'Cuerpo a cuerpo', 'speed': 'Baja', 'letter_speed': '1196', 'radio': 'None', 'tiem_of_life': 'None'}\n",
      "{'name': 'Duendes', 'level': '9', 'quality': 'Común', 'objective': 'Terrestres', 'scope': 'Cuerpo a cuerpo', 'speed': 'Muy alta', 'letter_speed': '167', 'radio': 'None', 'tiem_of_life': 'None'}\n",
      "{'name': 'Bombardero', 'level': '9', 'quality': 'Común', 'objective': 'Terrestres', 'scope': '5.0', 'speed': 'Media', 'letter_speed': '275', 'radio': '1.5', 'tiem_of_life': 'None'}\n",
      "{'name': 'Duendes con lanza', 'level': '9', 'quality': 'Común', 'objective': 'De tierra y aire', 'scope': '5.0', 'speed': 'Muy alta', 'letter_speed': '110', 'radio': 'None', 'tiem_of_life': 'None'}\n",
      "{'name': 'Espíritus de fuego', 'level': '9', 'quality': 'Común', 'objective': 'De tierra y aire', 'scope': '2.0', 'speed': 'Muy alta', 'letter_speed': '91', 'radio': '1.7', 'tiem_of_life': 'None'}\n",
      "{'name': 'Murciélagos', 'level': '9', 'quality': 'Común', 'objective': 'De tierra y aire', 'scope': 'Cuerpo a cuerpo', 'speed': 'Muy alta', 'letter_speed': '67', 'radio': 'None', 'tiem_of_life': 'None'}\n",
      "{'name': 'Rompemuros', 'level': '9', 'quality': 'Épica', 'objective': 'Estructuras', 'scope': 'Cuerpo a cuerpo', 'speed': 'Muy alta', 'letter_speed': '275', 'radio': '1.5', 'tiem_of_life': 'None'}\n",
      "{'name': 'Gólem de hielo', 'level': '9', 'quality': 'Especial', 'objective': 'Estructuras', 'scope': 'Cuerpo a cuerpo', 'speed': 'Baja', 'letter_speed': '994', 'radio': 'None', 'tiem_of_life': 'None'}\n",
      "{'name': 'Esqueletos', 'level': '9', 'quality': 'Común', 'objective': 'Terrestres', 'scope': 'Cuerpo a cuerpo', 'speed': 'Alta', 'letter_speed': '67', 'radio': 'None', 'tiem_of_life': 'None'}\n",
      "{'name': 'Espíritu de hielo', 'level': '9', 'quality': 'Común', 'objective': 'De tierra y aire', 'scope': '2.5', 'speed': 'Muy alta', 'letter_speed': '190', 'radio': '1.5', 'tiem_of_life': 'None'}\n",
      "{'name': 'Espíritu eléctrico', 'level': '9', 'quality': 'Común', 'objective': 'De tierra y aire', 'scope': '2.5', 'speed': 'Muy alta', 'letter_speed': '190', 'radio': 'None', 'tiem_of_life': 'None'}\n",
      "{'name': 'Choza de bárbaros', 'level': '9', 'quality': 'Especial', 'objective': 'Terrestres', 'scope': 'Cuerpo a cuerpo', 'speed': 'Media', 'letter_speed': '1144', 'radio': 'None', 'tiem_of_life': '50sec'}\n",
      "{'name': 'Ballesta', 'level': '9', 'quality': 'Épica', 'objective': 'Terrestres', 'scope': '11.5', 'speed': 'None', 'letter_speed': '1330', 'radio': 'None', 'tiem_of_life': '30sec'}\n",
      "{'name': 'Recolector de elixir', 'level': '9', 'quality': 'Especial', 'objective': 'None', 'scope': 'None', 'speed': 'None', 'letter_speed': '888', 'radio': 'None', 'tiem_of_life': '8.5s'}\n",
      "{'name': 'Choza de duendes', 'level': '9', 'quality': 'Especial', 'objective': 'Terrestres', 'scope': '5.0', 'speed': 'Muy alta', 'letter_speed': '844', 'radio': 'None', 'tiem_of_life': '40sec'}\n",
      "{'name': 'Torre infernal', 'level': '9', 'quality': 'Especial', 'objective': 'De tierra y aire', 'scope': '6.0', 'speed': 'None', 'letter_speed': '1452', 'radio': 'None', 'tiem_of_life': '30sec'}\n",
      "{'name': 'Mortero', 'level': '9', 'quality': 'Común', 'objective': 'Terrestres', 'scope': '11.5', 'speed': 'None', 'letter_speed': '1219', 'radio': '2.0', 'tiem_of_life': '30sec'}\n",
      "{'name': 'Torre Tesla', 'level': '9', 'quality': 'Común', 'objective': 'De tierra y aire', 'scope': '5.5', 'speed': 'None', 'letter_speed': '954', 'radio': 'None', 'tiem_of_life': '35sec'}\n",
      "{'name': 'Torre bombardera', 'level': '9', 'quality': 'Especial', 'objective': 'Terrestres', 'scope': '6.0', 'speed': 'None', 'letter_speed': '1126', 'radio': '1.5', 'tiem_of_life': '25sec'}\n",
      "{'name': 'Horno', 'level': '9', 'quality': 'Especial', 'objective': 'Terrestres', 'scope': '2.0', 'speed': 'Muy alta', 'letter_speed': '844', 'radio': '1.7', 'tiem_of_life': '50sec'}\n",
      "{'name': 'Jaula del forzudo', 'level': '9', 'quality': 'Especial', 'objective': 'Terrestres', 'scope': '5.0', 'speed': 'Alta', 'letter_speed': '800', 'radio': 'None', 'tiem_of_life': '20sec'}\n",
      "{'name': 'Cañón', 'level': '9', 'quality': 'Común', 'objective': 'Terrestres', 'scope': '5.5', 'speed': 'None', 'letter_speed': '742', 'radio': 'None', 'tiem_of_life': '30sec'}\n",
      "{'name': 'Lápida', 'level': '9', 'quality': 'Especial', 'objective': 'Terrestres', 'scope': 'Cuerpo a cuerpo', 'speed': 'Alta', 'letter_speed': '440', 'radio': 'None', 'tiem_of_life': '40sec'}\n",
      "{'name': 'Rayo', 'level': 'None', 'quality': 'Épica', 'objective': 'None', 'scope': 'None', 'speed': 'None', 'letter_speed': 'None', 'radio': '3.5', 'tiem_of_life': '1.5s'}\n",
      "{'name': 'Cohete', 'level': '9', 'quality': 'Especial', 'objective': 'De tierra y aire', 'scope': 'None', 'speed': 'None', 'letter_speed': '1232', 'radio': '2.0', 'tiem_of_life': 'None'}\n",
      "{'name': 'Cementerio', 'level': '9', 'quality': 'Legendaria', 'objective': 'Terrestres', 'scope': 'Cuerpo a cuerpo', 'speed': 'Alta', 'letter_speed': '67', 'radio': '4', 'tiem_of_life': '10.0s'}\n",
      "{'name': 'Hielo', 'level': '9', 'quality': 'Épica', 'objective': 'De tierra y aire', 'scope': 'None', 'speed': 'None', 'letter_speed': '95', 'radio': '3', 'tiem_of_life': '4.0s'}\n",
      "{'name': 'Veneno', 'level': 'None', 'quality': 'Épica', 'objective': 'None', 'scope': 'None', 'speed': 'None', 'letter_speed': 'None', 'radio': '3.5', 'tiem_of_life': '8.0s'}\n",
      "{'name': 'Bola de fuego', 'level': '9', 'quality': 'Especial', 'objective': 'De tierra y aire', 'scope': 'None', 'speed': 'None', 'letter_speed': '572', 'radio': '2.5', 'tiem_of_life': 'None'}\n",
      "{'name': 'Flechas', 'level': '9', 'quality': 'Común', 'objective': 'De tierra y aire', 'scope': 'None', 'speed': 'None', 'letter_speed': '101', 'radio': '4.0', 'tiem_of_life': 'None'}\n",
      "{'name': 'Paquete real', 'level': 'None', 'quality': 'Común', 'objective': 'None', 'scope': 'None', 'speed': 'None', 'letter_speed': 'None', 'radio': '3', 'tiem_of_life': '2.0s'}\n",
      "{'name': 'Barril de duendes', 'level': 'None', 'quality': 'Épica', 'objective': 'Terrestres', 'scope': 'None', 'speed': 'None', 'letter_speed': 'None', 'radio': 'None', 'tiem_of_life': 'None'}\n",
      "{'name': 'Tornado', 'level': 'None', 'quality': 'Épica', 'objective': 'None', 'scope': 'None', 'speed': 'None', 'letter_speed': 'None', 'radio': '5.5', 'tiem_of_life': '1.1s'}\n",
      "{'name': 'Clon', 'level': '9', 'quality': 'Épica', 'objective': 'None', 'scope': 'None', 'speed': 'None', 'letter_speed': '9', 'radio': '3', 'tiem_of_life': '1.0s'}\n",
      "{'name': 'Terremoto', 'level': 'None', 'quality': 'Especial', 'objective': 'None', 'scope': 'None', 'speed': 'None', 'letter_speed': 'None', 'radio': '3.5', 'tiem_of_life': '3.0s'}\n",
      "{'name': 'Descarga', 'level': '9', 'quality': 'Común', 'objective': 'De tierra y aire', 'scope': 'None', 'speed': 'None', 'letter_speed': '159', 'radio': '2.5', 'tiem_of_life': 'None'}\n",
      "{'name': 'Bola de nieve', 'level': '9', 'quality': 'Común', 'objective': 'De tierra y aire', 'scope': 'None', 'speed': 'None', 'letter_speed': '159', 'radio': '2.5', 'tiem_of_life': 'None'}\n",
      "{'name': 'Furia', 'level': '9', 'quality': 'Épica', 'objective': 'None', 'scope': 'None', 'speed': 'None', 'letter_speed': '7.5s', 'radio': '5', 'tiem_of_life': 'None'}\n",
      "{'name': 'Barril de bárbaro', 'level': 'None', 'quality': 'Épica', 'objective': 'Terrestres', 'scope': '5.0', 'speed': 'None', 'letter_speed': 'None', 'radio': 'None', 'tiem_of_life': 'None'}\n",
      "{'name': 'El Tronco', 'level': '9', 'quality': 'Legendaria', 'objective': 'Terrestres', 'scope': '10.1', 'speed': 'None', 'letter_speed': '240', 'radio': 'None', 'tiem_of_life': 'None'}\n",
      "{'name': 'Espejo', 'level': 'None', 'quality': 'None', 'objective': 'None', 'scope': 'None', 'speed': 'None', 'letter_speed': 'None', 'radio': 'None', 'tiem_of_life': 'None'}\n",
      "{'name': 'Espíritu sanador', 'level': 'None', 'quality': 'None', 'objective': 'None', 'scope': 'None', 'speed': 'None', 'letter_speed': 'None', 'radio': 'None', 'tiem_of_life': 'None'}\n"
     ]
    }
   ],
   "source": [
    "for link in cardlinks:\n",
    "    r = requests.get(link, headers = headers)\n",
    "    soup = BeautifulSoup(r.content,'lxml')\n",
    "    name =soup.find('div',class_='ui__headerMedium card__cardName').text.strip()\n",
    "    try:\n",
    "        level = soup.find('th', class_='card__tableHeader card__isActiveHeader').text.strip()\n",
    "    except:\n",
    "        level = 'None'\n",
    "    try:\n",
    "        quality = soup.find('span',class_='card__rare').text.strip()\n",
    "    except:\n",
    "        try:\n",
    "            quality = soup.find('span',class_='card__legendary').text.strip()\n",
    "        except:\n",
    "            try:\n",
    "                quality = soup.find('span',class_='card__epic').text.strip()\n",
    "            except:\n",
    "                try:\n",
    "                    quality = soup.find('span',class_='card__common').text.strip()\n",
    "                except:\n",
    "                    quality = 'None'\n",
    "    try:\n",
    "        objective = soup.find('div', class_='card__metric card__target').find('div',class_='ui__mediumText card__count').text.strip()\n",
    "    except:\n",
    "        objective = 'None'\n",
    "    try:\n",
    "        scope = soup.find('div',class_='card__metric card__range').find('div',class_='ui__mediumText card__count').text.strip()\n",
    "    except:\n",
    "        scope = 'None'\n",
    "    try:\n",
    "        speed = soup.find('div',class_ ='card__metric card__movementSpeed').find('div',class_='ui__mediumText card__count').text.strip()\n",
    "    except:\n",
    "        speed = 'None'\n",
    "    try:\n",
    "        letter_speed = soup.find('tbody').find('td',class_='card__tableValue card__isActive').text.strip()\n",
    "    except:\n",
    "        letter_speed = 'None'\n",
    "    try:\n",
    "        radio = soup.find('div',class_='card__metric card__radius').find('div',class_='ui__mediumText card__count').text.strip()\n",
    "    except:\n",
    "        radio = 'None'\n",
    "    try:\n",
    "        time_of_life = soup.find('div',class_ = 'card__metric card__durationLifetime').find('div',class_='ui__mediumText card__count').text.strip()\n",
    "    except:\n",
    "        time_of_life = 'None'\n",
    "    CARDS ={\n",
    "        'name':name,\n",
    "        'level':level,\n",
    "        'quality':quality,\n",
    "        'objective': objective,\n",
    "        'scope':scope,\n",
    "        'speed':speed,\n",
    "        'letter_speed':letter_speed,\n",
    "        'radio': radio,\n",
    "        'tiem_of_life':time_of_life\n",
    "    }\n",
    "    print(CARDS)"
   ]
  },
  {
   "cell_type": "code",
   "execution_count": null,
   "id": "ef545322",
   "metadata": {},
   "outputs": [],
   "source": []
  }
 ],
 "metadata": {
  "kernelspec": {
   "display_name": "Python 3",
   "language": "python",
   "name": "python3"
  },
  "language_info": {
   "codemirror_mode": {
    "name": "ipython",
    "version": 3
   },
   "file_extension": ".py",
   "mimetype": "text/x-python",
   "name": "python",
   "nbconvert_exporter": "python",
   "pygments_lexer": "ipython3",
   "version": "3.9.4"
  }
 },
 "nbformat": 4,
 "nbformat_minor": 5
}
