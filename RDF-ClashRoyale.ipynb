{
 "cells": [
  {
   "cell_type": "code",
   "execution_count": 1,
   "metadata": {},
   "outputs": [
    {
     "name": "stdout",
     "output_type": "stream",
     "text": [
      "Requirement already satisfied: rdflib in c:\\users\\kxime\\miniconda3\\lib\\site-packages (5.0.0)\n",
      "Requirement already satisfied: isodate in c:\\users\\kxime\\miniconda3\\lib\\site-packages (from rdflib) (0.6.0)\n",
      "Requirement already satisfied: six in c:\\users\\kxime\\miniconda3\\lib\\site-packages (from rdflib) (1.15.0)\n",
      "Requirement already satisfied: pyparsing in c:\\users\\kxime\\miniconda3\\lib\\site-packages (from rdflib) (2.4.7)\n",
      "Requirement already satisfied: six in c:\\users\\kxime\\miniconda3\\lib\\site-packages (from rdflib) (1.15.0)\n"
     ]
    }
   ],
   "source": [
    "# instalando rdflib \n",
    "!pip3 install rdflib"
   ]
  },
  {
   "cell_type": "code",
   "execution_count": 2,
   "metadata": {},
   "outputs": [],
   "source": [
    "# Nodos \n",
    "from rdflib import URIRef, BNode, Literal\n",
    "# Namespace \n",
    "from rdflib import Namespace\n",
    "# Crear grafos\n",
    "from rdflib.namespace import RDF, RDFS\n",
    "# Instaciar una clase de grafo \n",
    "from rdflib import ConjunctiveGraph\n",
    "import pprint"
   ]
  },
  {
   "cell_type": "markdown",
   "metadata": {},
   "source": [
    "## Clash Royale\n",
    "Clash Royale es el juego de lucha de ritmo rápido en el que recolectas cartas y luchas contra otros jugadores en tiempo real. Defiende tus torres y destruye las de tu enemigo para ganar la partida.\n",
    "## Cartas\n",
    "#### Características:\n",
    "- Nombre de la carta\n",
    "- Calidad\n",
    "- Costo de elixir\n",
    "#### Tipos de cartas:\n",
    "1. Tropa\n",
    "2. Estructura\n",
    "3. Hechizo\n",
    " \n",
    "\n",
    "\n",
    "\n"
   ]
  },
  {
   "cell_type": "markdown",
   "metadata": {},
   "source": [
    "## Modelado del grafo\n",
    "#### Ingresando las URIs de los sujetos\n",
    "#### Ingresando las URIs de las instancias de la clase maestra: Objeto\n",
    "\n",
    "ReclutasReales = URIRef('https://statsroyale.com/es/card/Royal+Recruits')\n",
    "GiganteNoble = URIRef('https://statsroyale.com/es/card/Royal+Giant')\n",
    "\n",
    "\n"
   ]
  },
  {
   "cell_type": "code",
   "execution_count": null,
   "metadata": {},
   "outputs": [],
   "source": [
    "n.namespace = ('https://statsroyale.com/es/')"
   ]
  },
  {
   "cell_type": "markdown",
   "metadata": {},
   "source": [
    "#### Insertando las URIs de la clase Características:"
   ]
  },
  {
   "cell_type": "code",
   "execution_count": null,
   "metadata": {},
   "outputs": [],
   "source": [
    "nombre = URIRef('characteristic: nombre')\n",
    "nivel = URIRef('characteristic: nivel')\n",
    " = URIRef('characteristic: calidad')\n",
    "objetivo = URIRef('characteristic: objetivo')\n",
    "alcance = URIRef('characteristic: alcance')\n",
    "velocidad = URIRef('characteristic: velocidad')\n",
    "radio = URIRef('characteristic: radio')\n",
    "tiempoDeVida = URIRef('characteristic: tiempoDeVida')\n",
    "puntosDeVida = URIRef('characteristic: puntosDeVida')\n",
    "Daño\n",
    "Daño\\s\n",
    "Daño de área\n",
    "Daños a las torres de la corona\n",
    "Daño mortal\n",
    "Daños a la carga"
   ]
  },
  {
   "cell_type": "code",
   "execution_count": null,
   "metadata": {},
   "outputs": [],
   "source": [
    "g = ConjunctiveGraph()"
   ]
  },
  {
   "cell_type": "markdown",
   "metadata": {},
   "source": [
    "#### Creando las subclases de clase maestra: Objeto y subclases sucesoras"
   ]
  },
  {
   "cell_type": "code",
   "execution_count": null,
   "metadata": {},
   "outputs": [],
   "source": [
    "# categoría general\n",
    "g.add(n.tropa, RDFS.subClassOf, n.object)\n",
    "g.add(n.estructura, RDFS.subClassOf, n.object)\n",
    "g.add(n.hechizo, RDFS.subClassOf, n.object)\n",
    "\n",
    "\n",
    "\n",
    "\n"
   ]
  }
 ],
 "metadata": {
  "kernelspec": {
   "display_name": "Python 3",
   "language": "python",
   "name": "python3"
  },
  "language_info": {
   "codemirror_mode": {
    "name": "ipython",
    "version": 3
   },
   "file_extension": ".py",
   "mimetype": "text/x-python",
   "name": "python",
   "nbconvert_exporter": "python",
   "pygments_lexer": "ipython3",
   "version": "3.8.5"
  }
 },
 "nbformat": 4,
 "nbformat_minor": 5
}
