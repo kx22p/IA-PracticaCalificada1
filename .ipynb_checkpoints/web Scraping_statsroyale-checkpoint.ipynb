{
 "cells": [
  {
   "cell_type": "markdown",
   "metadata": {},
   "source": [
    "## Instalando librerías para el web scrapping"
   ]
  },
  {
   "cell_type": "code",
   "execution_count": 1,
   "metadata": {},
   "outputs": [
    {
     "name": "stdout",
     "output_type": "stream",
     "text": [
      "Requirement already satisfied: requests in /home/renzoqamao/my_project_dir/my_project_env/lib/python3.8/site-packages (2.25.1)\n",
      "Requirement already satisfied: certifi>=2017.4.17 in /home/renzoqamao/my_project_dir/my_project_env/lib/python3.8/site-packages (from requests) (2020.12.5)\n",
      "Requirement already satisfied: chardet<5,>=3.0.2 in /home/renzoqamao/my_project_dir/my_project_env/lib/python3.8/site-packages (from requests) (4.0.0)\n",
      "Requirement already satisfied: urllib3<1.27,>=1.21.1 in /home/renzoqamao/my_project_dir/my_project_env/lib/python3.8/site-packages (from requests) (1.26.3)\n",
      "Requirement already satisfied: idna<3,>=2.5 in /home/renzoqamao/my_project_dir/my_project_env/lib/python3.8/site-packages (from requests) (2.10)\n",
      "Requirement already satisfied: bs4 in /home/renzoqamao/my_project_dir/my_project_env/lib/python3.8/site-packages (0.0.1)\n",
      "Requirement already satisfied: beautifulsoup4 in /home/renzoqamao/my_project_dir/my_project_env/lib/python3.8/site-packages (from bs4) (4.9.3)\n",
      "Requirement already satisfied: soupsieve>1.2 in /home/renzoqamao/my_project_dir/my_project_env/lib/python3.8/site-packages (from beautifulsoup4->bs4) (2.2.1)\n",
      "Requirement already satisfied: beautifulsoup4 in /home/renzoqamao/my_project_dir/my_project_env/lib/python3.8/site-packages (4.9.3)\n",
      "Requirement already satisfied: soupsieve>1.2 in /home/renzoqamao/my_project_dir/my_project_env/lib/python3.8/site-packages (from beautifulsoup4) (2.2.1)\n",
      "Requirement already satisfied: lxml in /home/renzoqamao/my_project_dir/my_project_env/lib/python3.8/site-packages (4.6.3)\n",
      "Requirement already satisfied: html5lib in /home/renzoqamao/my_project_dir/my_project_env/lib/python3.8/site-packages (1.1)\n",
      "Requirement already satisfied: webencodings in /home/renzoqamao/my_project_dir/my_project_env/lib/python3.8/site-packages (from html5lib) (0.5.1)\n",
      "Requirement already satisfied: six>=1.9 in /home/renzoqamao/my_project_dir/my_project_env/lib/python3.8/site-packages (from html5lib) (1.15.0)\n"
     ]
    }
   ],
   "source": [
    "!pip install requests\n",
    "!pip install bs4\n",
    "!pip install beautifulsoup4\n",
    "!pip install lxml\n",
    "!pip install html5lib"
   ]
  },
  {
   "cell_type": "markdown",
   "metadata": {},
   "source": [
    "## Importando librerías"
   ]
  },
  {
   "cell_type": "code",
   "execution_count": 2,
   "metadata": {},
   "outputs": [],
   "source": [
    "import requests\n",
    "from bs4 import BeautifulSoup\n",
    "from lxml import etree\n",
    "import bs4"
   ]
  },
  {
   "cell_type": "markdown",
   "metadata": {},
   "source": [
    "###  URL de los recursos"
   ]
  },
  {
   "cell_type": "code",
   "execution_count": 3,
   "metadata": {},
   "outputs": [],
   "source": [
    "baseurl ='https://statsroyale.com/es'"
   ]
  },
  {
   "cell_type": "code",
   "execution_count": 4,
   "metadata": {},
   "outputs": [],
   "source": [
    "headers ={'User-Agent':'Mozilla/5.0 (iPhone; CPU iPhone OS 10_0 like Mac OS X) AppleWebKit/602.4.6 (KHTML, like Gecko) Version/10.0 Mobile/14A346 Safari/E7FBAF'}"
   ]
  },
  {
   "cell_type": "code",
   "execution_count": 5,
   "metadata": {},
   "outputs": [],
   "source": [
    "r = requests.get('https://statsroyale.com/es/cards')"
   ]
  },
  {
   "cell_type": "code",
   "execution_count": 6,
   "metadata": {},
   "outputs": [],
   "source": [
    "soup = BeautifulSoup(r.content, 'lxml')"
   ]
  },
  {
   "cell_type": "code",
   "execution_count": 7,
   "metadata": {},
   "outputs": [],
   "source": [
    "cardlist =soup.find_all('div',class_=\"cards__card\")"
   ]
  },
  {
   "cell_type": "markdown",
   "metadata": {},
   "source": [
    "Guardando Links"
   ]
  },
  {
   "cell_type": "code",
   "execution_count": 8,
   "metadata": {},
   "outputs": [],
   "source": [
    "cardlinks =[]\n",
    "for item in cardlist:\n",
    "    for link in item.find_all('a', href= True): \n",
    "        cardlinks.append(link['href'])"
   ]
  },
  {
   "cell_type": "markdown",
   "metadata": {},
   "source": [
    "Verificando la cantidad de Links extraídos"
   ]
  },
  {
   "cell_type": "code",
   "execution_count": 9,
   "metadata": {},
   "outputs": [
    {
     "name": "stdout",
     "output_type": "stream",
     "text": [
      "Numero de links: 102\n"
     ]
    }
   ],
   "source": [
    "print('Numero de links:',len(cardlinks))"
   ]
  },
  {
   "cell_type": "markdown",
   "metadata": {},
   "source": [
    "## Extrayendo información de cada carta "
   ]
  },
  {
   "cell_type": "code",
   "execution_count": 10,
   "metadata": {},
   "outputs": [],
   "source": [
    "lista_diccionario = []"
   ]
  },
  {
   "cell_type": "code",
   "execution_count": 11,
   "metadata": {},
   "outputs": [
    {
     "name": "stdout",
     "output_type": "stream",
     "text": [
      "Requirement already satisfied: regex in /home/renzoqamao/my_project_dir/my_project_env/lib/python3.8/site-packages (2021.4.4)\r\n"
     ]
    }
   ],
   "source": [
    "!pip install regex"
   ]
  },
  {
   "cell_type": "markdown",
   "metadata": {},
   "source": [
    "### Patrones para clasificar las cartas."
   ]
  },
  {
   "cell_type": "code",
   "execution_count": 12,
   "metadata": {
    "scrolled": true
   },
   "outputs": [],
   "source": [
    "import re\n",
    "#Patrones \n",
    "      #GOLEN Y GIGANTES\n",
    "patron_gigante = re.compile(r'\\b([G|g]\\w+te)|([G|g][o|ó]\\w+m)\\b')\n",
    "      #muerto\n",
    "patron_muerto = re.compile(r'(\\b[E|e]sq\\w+[o|s])|([R|L][o|á]\\w+[s|a])\\b')\n",
    "      #CRIATURAS O CARTAS HIELO\n",
    "patron_criatura =re.compile(r'\\b(([H|h]i\\w+o)|([n|F][i|a]\\w+[a|e])|(E\\w+\\W*\\w+[o|u]s)|(Mu\\w+\\W*\\w+os))\\b')\n",
    "      #CARTAS DRAGON\n",
    "patron_dragon = re.compile(r'\\b([D|d]r\\w+\\W*[n|s])\\b')\n",
    "      #CARTAS DE DUENDES\n",
    "patron_duende = re.compile(r'\\b([D|d]u\\w+[e|s])\\b')\n",
    "      #CARTAS DE MAGOS Y BRUJAS\n",
    "patron_magico = re.compile(r'\\b((Ma\\w+o)|(Br\\w+a))\\b')\n",
    "      #CARTAS DE ESTRUCTURAS (CHOZAS)\n",
    "patron_choza = re.compile(r'\\b((Ch\\w+a))\\b')\n",
    "      # CARTAS DE ESTRUCTURAS TORRES\n",
    "patron_torre = re.compile(r'\\b((To\\w+e))\\b')\n",
    "      #CARTAS GUERREROS HUMANOS\n",
    "patron_humano = re.compile(r'\\b((P[r|e]\\W*\\w+[a|e|r])|(Ca\\w+[r|o])|([M|g|B][a|u|e|i]\\w+[e|i][d|r][o|a])|([V|M|m]\\w+as*)|(P[r|e]\\W*\\w+[a|e|r])|(Ca\\w+[r|o])|([M|g|B][a|u|e|i]\\w+[e|i][d|r][o|a])|([V|M|m]\\w+as*))\\b')"
   ]
  },
  {
   "cell_type": "markdown",
   "metadata": {},
   "source": [
    "### Lista de atributos que se extraeran:\n",
    "    Nombre                             name\n",
    "    elixir                             elixir\n",
    "    Nivel                              level\n",
    "    Calidad                            quality\n",
    "    Objetivo                           objective\n",
    "    Alcance                            scope\n",
    "    Velocidad                          speed\n",
    "    Radio                              radio\n",
    "    Tiempo de vida                     time of life\n",
    "    Puntos de vida                     Life points\n",
    "    Daño                               Hurt\n",
    "    Daño\\s                             Damage\n",
    "    Daño de área                       Area damage"
   ]
  },
  {
   "cell_type": "code",
   "execution_count": 13,
   "metadata": {},
   "outputs": [],
   "source": [
    "lista_elixir = []\n",
    "i=0\n",
    "for item in soup.find_all('div',class_=\"cards__card\"):\n",
    "    lista_elixir.append(item['data-elixir'])\n",
    "\n",
    "for link in cardlinks:\n",
    "    r = requests.get(link, headers = headers)\n",
    "    soup = BeautifulSoup(r.content,'lxml')\n",
    "    #####################################################\n",
    "    #Creamos variables de aquella informacion que no tiene una clase ni etiqueta que los distinga \n",
    "    # ademas que puede o no que existan estas variable en cada uno de los links\n",
    "    lifepoints = 'None'\n",
    "    hurt = 'None'\n",
    "    damage = 'None'\n",
    "    areadamage = 'None'\n",
    "    leve = soup.find('tbody')\n",
    "    \n",
    "    try:\n",
    "        #recorremos todos los valores de etiqueta con la clase CARD_TABLEVALUES\n",
    "        for item in leve.find_all('tr',class_='card__tableValues'):\n",
    "            if 'Puntos de vida'== item.find('strong').text.strip():\n",
    "                lifepoints = item.find('td',class_ ='card__tableValue card__isActive').text.strip()\n",
    "            if 'Daño'== item.find('strong').text.strip():\n",
    "                hurt = item.find('td',class_ ='card__tableValue card__isActive').text.strip()\n",
    "            if 'Daño/s'== item.find('strong').text.strip():\n",
    "                damage = item.find('td',class_ ='card__tableValue card__isActive').text.strip()\n",
    "            if 'Daño de área' == item.find('strong').text.strip():\n",
    "                areadamage = item.find('td',class_ ='card__tableValue card__isActive').text.strip()\n",
    "            #print(type(item.find('strong').text.strip()))\n",
    "            #print(item.find('strong').text.strip(), item.find('td',class_ ='card__tableValue card__isActive').text.strip())\n",
    "            #print(item.find('td',class_ ='card__tableValue card__isActive').text)\n",
    "    except:\n",
    "        lifepoints = 'None'\n",
    "        hurt = 'None'\n",
    "        damage = 'None'\n",
    "        areadamage = 'None'\n",
    "####################################################################\n",
    "\n",
    "    name =soup.find('div',class_='ui__headerMedium card__cardName').text.strip()\n",
    "    #############################################################################################\n",
    "    classes = []\n",
    "    if patron_gigante.search(name):\n",
    "        classes.append('gigante')\n",
    "    if patron_muerto.search(name):\n",
    "        classes.append('muerto')\n",
    "    if patron_criatura.search(name):\n",
    "        classes.append('criatura')\n",
    "    if patron_dragon.search(name):\n",
    "        classes.append('dragon')\n",
    "    if patron_duende.search(name):\n",
    "        classes.append('duende')\n",
    "    if patron_magico.search(name):\n",
    "        classes.append('magico')\n",
    "    if patron_choza.search(name):\n",
    "        classes.append('choza')\n",
    "    if patron_torre.search(name):\n",
    "        classes.append('torre')\n",
    "    if patron_humano.search(name):\n",
    "        classes.append('humano')\n",
    "    else:\n",
    "        classes.append('otro')\n",
    "    #############################################################################################\n",
    "    try:\n",
    "        level = soup.find('th', class_='card__tableHeader card__isActiveHeader').text.strip()\n",
    "    except:\n",
    "        level = 'None'\n",
    "    try:\n",
    "        quality = soup.find('span',class_='card__rare').text.strip()\n",
    "    except:\n",
    "        try:\n",
    "            quality = soup.find('span',class_='card__legendary').text.strip()\n",
    "        except:\n",
    "            try:\n",
    "                quality = soup.find('span',class_='card__epic').text.strip()\n",
    "            except:\n",
    "                try:\n",
    "                    quality = soup.find('span',class_='card__common').text.strip()\n",
    "                except:\n",
    "                    quality = 'None'\n",
    "    try:\n",
    "        objective = soup.find('div', class_='card__metric card__target').find('div',class_='ui__mediumText card__count').text.strip()\n",
    "    except:\n",
    "        objective = 'None'\n",
    "    try:\n",
    "        scope = soup.find('div',class_='card__metric card__range').find('div',class_='ui__mediumText card__count').text.strip()\n",
    "    except:\n",
    "        scope = 'None'\n",
    "    try:\n",
    "        speed = soup.find('div',class_ ='card__metric card__movementSpeed').find('div',class_='ui__mediumText card__count').text.strip()\n",
    "    except:\n",
    "        speed = 'None'\n",
    "    try:\n",
    "        radio = soup.find('div',class_='card__metric card__radius').find('div',class_='ui__mediumText card__count').text.strip()\n",
    "    except:\n",
    "        radio = 'None'\n",
    "    try:\n",
    "        timeoflife = soup.find('div',class_ = 'card__metric card__durationLifetime').find('div',class_='ui__mediumText card__count').text.strip()\n",
    "    except:\n",
    "        timeoflife = 'None'\n",
    "#Creamos la estructura del diccionario\n",
    "    CARDS ={\n",
    "        'name':name,\n",
    "        'level':level,\n",
    "        'quality':quality,\n",
    "        'objective': objective,\n",
    "        'scope':scope,\n",
    "        'speed':speed,\n",
    "        'radio': radio,\n",
    "        'timeoflife':timeoflife,\n",
    "        ######################################\n",
    "        'lifepoints' : lifepoints,\n",
    "        'hurt' : hurt,\n",
    "        'damage' : damage,\n",
    "        'areadamage' : areadamage,\n",
    "        'link':link,\n",
    "        'classes': classes,\n",
    "        'elixir' : lista_elixir[i]\n",
    "    }\n",
    "    #guardamos los diccionarios en una lista\n",
    "    lista_diccionario.append(CARDS)\n",
    "    i=i+1"
   ]
  },
  {
   "cell_type": "markdown",
   "metadata": {},
   "source": [
    "Verificando la cantidad de diccionarios en la lista"
   ]
  },
  {
   "cell_type": "code",
   "execution_count": 14,
   "metadata": {},
   "outputs": [
    {
     "name": "stdout",
     "output_type": "stream",
     "text": [
      "102\n"
     ]
    }
   ],
   "source": [
    "# Número de Cartas\n",
    "print(len(lista_diccionario))"
   ]
  },
  {
   "cell_type": "markdown",
   "metadata": {},
   "source": [
    "# Modelando Grafo"
   ]
  },
  {
   "cell_type": "code",
   "execution_count": 15,
   "metadata": {},
   "outputs": [
    {
     "name": "stdout",
     "output_type": "stream",
     "text": [
      "Requirement already satisfied: rdflib in /home/renzoqamao/my_project_dir/my_project_env/lib/python3.8/site-packages (5.0.0)\r\n",
      "Requirement already satisfied: six in /home/renzoqamao/my_project_dir/my_project_env/lib/python3.8/site-packages (from rdflib) (1.15.0)\r\n",
      "Requirement already satisfied: isodate in /home/renzoqamao/my_project_dir/my_project_env/lib/python3.8/site-packages (from rdflib) (0.6.0)\r\n",
      "Requirement already satisfied: pyparsing in /home/renzoqamao/my_project_dir/my_project_env/lib/python3.8/site-packages (from rdflib) (2.4.7)\r\n"
     ]
    }
   ],
   "source": [
    "# install rdflib \n",
    "!pip3 install rdflib"
   ]
  },
  {
   "cell_type": "code",
   "execution_count": 16,
   "metadata": {},
   "outputs": [],
   "source": [
    "# Nodes \n",
    "from rdflib import URIRef, BNode, Literal\n",
    "# Namespace \n",
    "from rdflib import Namespace\n",
    "# resources\n",
    "from rdflib.namespace import RDF, RDFS\n",
    "# Graph \n",
    "from rdflib import ConjunctiveGraph\n",
    "import pprint"
   ]
  },
  {
   "cell_type": "markdown",
   "metadata": {},
   "source": [
    "## Clash Royale\n",
    "[Guia completa](https://www.rtve.es/playz/clash-royale/como-jugar/)\n",
    "\n",
    "Clash Royale es el juego de lucha de ritmo rápido en el que recolectas cartas y luchas contra otros jugadores en tiempo real. Defiende tus torres y destruye las de tu enemigo con tus mejores estrategias de ataque y defensa para ganar la partida.\n",
    "\n",
    "#### ¿Qué tipos de cartas existen?\n",
    "Existen cuatro tipos de cartas dependiendo de su poder que podrás ir desbloqueando según avances en el juego: **comunes**, **especiales**, **épicas** y **legendarias**. Cada una de ellas tiene un **nivel de poder**. Para invocar una carta en la pelea tendrás que tener en cuenta el costo de elixir que consume, que será mayor cuanto más poder tenga. ¡Cuidado! si usas muchas cartas con un consumo de elixir muy elevado, será muy dificil invocar varias cartas seguidas.\n",
    "\n",
    "#### ¿Cómo se lucha?\n",
    "En las batallas, los dos adversarios disponen de sus respectivos mazos en **rotaciones de cuatro**. Según utilices las cartas, irán apareciendo otras nuevas para que las sigas combinando a tu criterio. Cada jugador tiene una barra de **diez unidades de elixir** que se va a recargando progresivamente. \n",
    "\n",
    "#### ¿Cuál es el objetivo de las batallas?\n",
    "En la arena tu campo es la **mitad inferior** y el del oponente, la **mitad superior**. Tus tropas tendrán que alcanzar las **torres del enemigo** para derribarlas a toda costa antes de que se acaben los **tres minutos de tiempo**. Para ello tendrás que derrotar a los enemigos que el rival invoque al campo de batalla con el objetivo de defenderte o atacar sus tropas. \n",
    "\n",
    "## Cartas\n",
    "\n",
    "\n",
    "### Clases de cartas:\n",
    "1. Tropa\n",
    "2. Estructura\n",
    "3. Hechizo\n",
    "\n",
    "#### Clases en tropas\n",
    "1. Duendes\n",
    "2. Gigantes\n",
    "3. Dragones\n",
    "4. Muertos\n",
    "5. Criaturas\n",
    "6. Mágico\n",
    "7. Humanos\n",
    "\n",
    "#### Clases en estructuras\n",
    "\n",
    "1. Chozas\n",
    "2. Torres\n",
    "\n",
    "\n",
    "#### Atributos de las cartas\n",
    "- Costo de elixir\n",
    "- Nombre de la carta             \n",
    "- Nivel                           \n",
    "- Calidad de carta                       \n",
    "- Objetivo                      \n",
    "- Velocidad                                  \n",
    "- Radio \n",
    "- Tiempo de vida                  \n",
    "- Puntos de vida\n",
    "- Daño\n",
    "- Daño\\s   \n",
    "- Daño de área\n",
    "\n",
    "#### Clases de calidad de la carta\n",
    "1. Especial\n",
    "2. Épica\n",
    "3. Común\n",
    "4. Legendaria\n",
    "\n",
    "#### Clases de objetivos de la carta\n",
    "1. Tierra\n",
    "2. Estructura\n",
    "3. Aire\n",
    "\n",
    "#### Clases de alcance de las cartas\n",
    "1. Cuerpo a cuerpo\n",
    "2. Cerca\n",
    "3. Lejos\n",
    "\n",
    "#### Clases de velocidades de las cartas\n",
    "1. Lento\n",
    "2. Media\n",
    "3. Rápido\n",
    "4. Muy rápido\n",
    "\n",
    "\n"
   ]
  },
  {
   "cell_type": "code",
   "execution_count": 17,
   "metadata": {},
   "outputs": [],
   "source": [
    "n = Namespace(\"https://statsroyale.com/es/\")"
   ]
  },
  {
   "cell_type": "code",
   "execution_count": 18,
   "metadata": {},
   "outputs": [],
   "source": [
    "# Creando las URIRef\n",
    "# Propiedades de la clase Característica\n",
    "name = n.name\n",
    "level = n.level\n",
    "quality = n.quality\n",
    "objective = n.objective\n",
    "scope = n.scope\n",
    "speed = n.speed\n",
    "radio = n.radio\n",
    "timeoflife = n.timeoflife\n",
    "lifepoints = n.lifepoints\n",
    "hurt = n.hurt\n",
    "damage = n.damage\n",
    "areadamage = n.areadamage\n",
    "elixir = n.elixir\n",
    "# Subpropiedades de calidad\n",
    "rare = n.rare\n",
    "epic = n.epic\n",
    "common = n.common\n",
    "legendary = n.legendary\n",
    "\n",
    "# Subpropiedades de objetivo\n",
    "air = n.air\n",
    "building = n.building\n",
    "ground = n.ground\n",
    "\n",
    "# Subpropiedades de alcance\n",
    "melee = n.melee\n",
    "near = n.near\n",
    "far = n.far\n",
    "\n",
    "# Subpropiedades de velocidad\n",
    "slow = n.slow\n",
    "medium = n.medium\n",
    "fast = n.fast\n",
    "veryfast = n.veryfast\n"
   ]
  },
  {
   "cell_type": "code",
   "execution_count": 19,
   "metadata": {},
   "outputs": [
    {
     "name": "stdout",
     "output_type": "stream",
     "text": [
      "[a rdflib:ConjunctiveGraph;rdflib:storage [a rdflib:Store;rdfs:label 'IOMemory']]\n"
     ]
    }
   ],
   "source": [
    "g = ConjunctiveGraph()\n",
    "print(g)"
   ]
  },
  {
   "cell_type": "code",
   "execution_count": 20,
   "metadata": {},
   "outputs": [],
   "source": [
    "# Añadiendo las subclases al grafo\n",
    "# subclases de clase maestra: Objeto carta y subclases sucesoras\n",
    "g.add((n.troop, RDFS.subClassOf, n.card))\n",
    "g.add((n.build, RDFS.subClassOf, n.card))\n",
    "g.add((n.spell, RDFS.subClassOf, n.card))\n",
    "\n",
    "# subclases de la carta tropa\n",
    "g.add([n.giant, RDFS.subClassOf, n.troop])\n",
    "g.add([n.dead, RDFS.subClassOf, n.troop])\n",
    "g.add([n.creature, RDFS.subClassOf, n.troop])\n",
    "g.add([n.dragon, RDFS.subClassOf, n.troop])\n",
    "g.add([n.goblin, RDFS.subClassOf, n.troop])\n",
    "g.add([n.human, RDFS.subClassOf, n.troop])\n",
    "g.add([n.magic, RDFS.subClassOf, n.troop])\n",
    "\n",
    "# subclases de la carta estructura\n",
    "g.add([n.hut, RDFS.subClassOf, n.build])\n",
    "g.add([n.tower, RDFS.subClassOf, n.build])\n"
   ]
  },
  {
   "cell_type": "code",
   "execution_count": 21,
   "metadata": {},
   "outputs": [],
   "source": [
    "# Añadiendo las subpropiedades al grafo\n",
    "# Subpropiedades de la clase Característica\n",
    "g.add([name, RDFS.subPropertyOf, n.characteristic])\n",
    "g.add([level, RDFS.subPropertyOf, n.characteristic])\n",
    "g.add([quality, RDFS.subPropertyOf, n.characteristic])\n",
    "g.add([objective, RDFS.subPropertyOf, n.characteristic])\n",
    "g.add([scope, RDFS.subPropertyOf, n.characteristic])\n",
    "g.add([speed, RDFS.subPropertyOf, n.characteristic])\n",
    "g.add([radio, RDFS.subPropertyOf, n.characteristic])\n",
    "g.add([timeoflife, RDFS.subPropertyOf, n.characteristic])\n",
    "g.add([lifepoints, RDFS.subPropertyOf, n.characteristic])\n",
    "g.add([hurt, RDFS.subPropertyOf, n.characteristic])\n",
    "g.add([damage, RDFS.subPropertyOf, n.characteristic])\n",
    "g.add([areadamage, RDFS.subPropertyOf, n.characteristic])\n",
    "g.add([elixir, RDFS.subPropertyOf, n.characteristic])\n",
    "# Subpropiedades de calidad\n",
    "g.add([rare ,RDF.type, quality ])\n",
    "g.add([epic ,RDF.type, quality ])\n",
    "g.add([common ,RDF.type, quality ])\n",
    "g.add([legendary ,RDF.type, quality ])\n",
    "\n",
    "# Subpropiedades de objetivo\n",
    "g.add([air , RDF.type, objective ])\n",
    "g.add([building , RDF.type, objective ])\n",
    "g.add([ground , RDF.type, objective ])\n",
    "\n",
    "# Subpropiedades de alcance\n",
    "g.add([melee ,RDF.type, scope ])\n",
    "g.add([near ,RDF.type, scope ])\n",
    "g.add([far ,RDF.type, scope ])\n",
    "\n",
    "# Subpropiedades de velocidad\n",
    "g.add([slow ,RDF.type, speed ])\n",
    "g.add([medium ,RDF.type, speed ])\n",
    "g.add([fast ,RDF.type, speed ])\n",
    "g.add([veryfast ,RDF.type, speed ])\n"
   ]
  },
  {
   "cell_type": "code",
   "execution_count": 22,
   "metadata": {},
   "outputs": [],
   "source": [
    "# Restricciones de Dominio\n",
    "g.add([timeoflife, RDFS.domain, n.spell ])\n",
    "g.add([timeoflife, RDFS.domain, n.build ])"
   ]
  },
  {
   "cell_type": "code",
   "execution_count": 23,
   "metadata": {},
   "outputs": [],
   "source": [
    "# Ingresando los nombres literales de las propiedades y subpropiedades\n",
    "# Nombres de las clases\n",
    "g.add([n.card, name , Literal('Carta')])\n",
    "g.add([n.troop, name , Literal('Tropas')])\n",
    "g.add([n.build, name , Literal('Estructuras')])\n",
    "g.add([n.spell, name , Literal('Hechizos')])\n",
    "g.add([n.charasteristic, name, Literal('Caracteristicas')])\n",
    "\n",
    "# Nombres de las subclases\n",
    "g.add([n.giant, name, Literal('Gigante')])\n",
    "g.add([n.dead, name, Literal('Muerto')])\n",
    "g.add([n.creature, name, Literal('Criatura')])\n",
    "g.add([n.dragon, name, Literal('Dragon')])\n",
    "g.add([n.goblin, name, Literal('Duende')])\n",
    "g.add([n.magic, name, Literal('Mágico')])\n",
    "g.add([n.human, name,Literal('Humano')])\n",
    "g.add([n.hut, name,Literal('Choza')])\n",
    "g.add([n.tower, name,Literal('Torre')])\n",
    "\n",
    "# Nombres de la subclase calidad\n",
    "g.add([rare , name, Literal('Especial')])\n",
    "g.add([epic , name, Literal('Épica')])\n",
    "g.add([common , name, Literal('Común') ])\n",
    "g.add([legendary , name, Literal('Legendaria') ])\n",
    "\n",
    "# Nombres de la subclase objetivo\n",
    "g.add([air , name, Literal('Aire') ])\n",
    "g.add([building , name, Literal('Estructura') ])\n",
    "g.add([ground , name, Literal('Tierra') ])\n",
    "\n",
    "# Nombres de la subclase alcance\n",
    "g.add([melee , name, Literal('Cuerpo a cuerpo') ])\n",
    "g.add([near , name, Literal('Cerca') ])\n",
    "g.add([far , name, Literal('Lejos') ])\n",
    "\n",
    "# Nombres de la subclase velocidad\n",
    "g.add([slow , name, Literal('Baja')])\n",
    "g.add([medium , name, Literal('Media') ])\n",
    "g.add([fast , name, Literal('Alta') ])\n",
    "g.add([veryfast , name, Literal('Muy Alta') ])\n",
    "\n",
    "# Nombres de las propiedades\n",
    "g.add([name , RDFS.label, Literal('Nombre de la carta')])\n",
    "g.add([level , RDFS.label, Literal('Nivel')])\n",
    "g.add([quality , RDFS.label, Literal('Calidad')])\n",
    "g.add([objective , RDFS.label, Literal('Objetivo')])\n",
    "g.add([scope , RDFS.label, Literal('Alcance')])\n",
    "g.add([speed , RDFS.label, Literal('Velocidad')])\n",
    "g.add([radio , RDFS.label, Literal('Radio')])\n",
    "g.add([timeoflife , RDFS.label, Literal('Tiempo de vida')])\n",
    "g.add([lifepoints , RDFS.label, Literal('Puntos de vida')])\n",
    "g.add([hurt , RDFS.label, Literal('Daño')])\n",
    "g.add([damage , RDFS.label, Literal('Daño por segundo')])\n",
    "g.add([areadamage , RDFS.label, Literal('Daño de área')])\n",
    "g.add([elixir , RDFS.label, Literal('elixir')])"
   ]
  },
  {
   "cell_type": "markdown",
   "metadata": {},
   "source": [
    "# Funciones de transformación"
   ]
  },
  {
   "cell_type": "code",
   "execution_count": 24,
   "metadata": {},
   "outputs": [],
   "source": [
    "def fun_quality(statement):\n",
    "    if(statement == 'Especial'):\n",
    "        return rare\n",
    "    if(statement == 'Épica'):\n",
    "        return epic\n",
    "    if(statement == 'Común'):\n",
    "        return common\n",
    "    if(statement == 'Legendaria'):\n",
    "        return legendary"
   ]
  },
  {
   "cell_type": "code",
   "execution_count": 25,
   "metadata": {},
   "outputs": [],
   "source": [
    "def fun_objective(diccionario):\n",
    "    statement = diccionario['objective']\n",
    "    if(statement == 'De tierra y aire'):\n",
    "        g.add((URIRef(diccionario['link']), objective, air ) )\n",
    "        g.add((URIRef(diccionario['link']), objective, ground) )\n",
    "    if(statement == 'Estructuras'):\n",
    "        g.add((URIRef(diccionario['link']), objective, building))\n",
    "    if(statement == 'Terrestres'):\n",
    "        g.add((URIRef(diccionario['link']), objective, ground ))"
   ]
  },
  {
   "cell_type": "code",
   "execution_count": 26,
   "metadata": {},
   "outputs": [],
   "source": [
    "def fun_scope(statement):\n",
    "    if(statement == 'Cuerpo a cuerpo'):\n",
    "        return melee\n",
    "    else:\n",
    "        num = float(statement)\n",
    "        if(num < 8.0):\n",
    "            return near\n",
    "        else:\n",
    "            return far"
   ]
  },
  {
   "cell_type": "code",
   "execution_count": 27,
   "metadata": {},
   "outputs": [],
   "source": [
    "def fun_speed(statement):\n",
    "    if(statement=='Baja'):\n",
    "        return slow\n",
    "    if(statement=='Media'):\n",
    "        return medium\n",
    "    if(statement=='Alta'):\n",
    "        return fast\n",
    "    if(statement=='Muy alta'):\n",
    "        return veryfast"
   ]
  },
  {
   "cell_type": "code",
   "execution_count": 28,
   "metadata": {},
   "outputs": [],
   "source": [
    "# funcion que se le pasa por parametro el array de clases, el link y la clase general por si no lo ubica.\n",
    "def fun_clase(arr_class,link,general_class):\n",
    "    for clase in arr_class:\n",
    "        if(clase == 'gigante'):\n",
    "            g.add([ URIRef(link) ,RDF.type,n.giant])\n",
    "        if(clase == 'muerto'):\n",
    "            g.add([ URIRef(link) ,RDF.type,n.dead])\n",
    "        if(clase == 'criatura'):\n",
    "            g.add([ URIRef(link) ,RDF.type,n.creature])\n",
    "        if(clase == 'dragon'):\n",
    "            g.add([ URIRef(link) ,RDF.type,n.dragon])\n",
    "        if(clase == 'duende'):\n",
    "            g.add([ URIRef(link) ,RDF.type,n.goblin])\n",
    "        if(clase == 'magico'):\n",
    "            g.add([ URIRef(link) ,RDF.type,n.magic])\n",
    "        if(clase == 'choza'):\n",
    "            g.add([ URIRef(link) ,RDF.type,n.hut])\n",
    "        if(clase == 'torre'):\n",
    "            g.add([ URIRef(link) ,RDF.type,n.tower])\n",
    "        if(clase == 'humano'):\n",
    "            g.add([ URIRef(link) ,RDF.type,n.human])\n",
    "        else:\n",
    "            g.add([ URIRef(link) ,RDF.type,general_class])"
   ]
  },
  {
   "cell_type": "code",
   "execution_count": 30,
   "metadata": {},
   "outputs": [],
   "source": [
    "# Instanciando Cartas Tropas\n",
    "#lista_diccionario[:71]\n",
    "for diccionario in lista_diccionario[:71]:\n",
    "    \n",
    "    fun_clase(diccionario['classes'],diccionario['link'],n.troop)\n",
    "    g.add((URIRef(diccionario['link']), name, Literal(diccionario['name'])))\n",
    "    if (diccionario['level']!= 'None'):\n",
    "        g.add((URIRef(diccionario['link']), level, Literal(diccionario['level'])))\n",
    "    if (diccionario['quality']!= 'None'):\n",
    "        g.add((URIRef(diccionario['link']), quality, fun_quality(diccionario['quality'])))\n",
    "    if (diccionario['objective']!= 'None'):\n",
    "        fun_objective(diccionario)\n",
    "    if (diccionario['scope']!= 'None'):\n",
    "        g.add((URIRef(diccionario['link']), scope, fun_scope(diccionario['scope'])))\n",
    "    if (diccionario['speed']!= 'None'):\n",
    "        g.add((URIRef(diccionario['link']), speed, fun_speed(diccionario['speed'])))\n",
    "    if (diccionario['radio']!= 'None'):\n",
    "        g.add((URIRef(diccionario['link']), radio, Literal(diccionario['radio'])))\n",
    "    if (diccionario['lifepoints']!= 'None'):\n",
    "        g.add((URIRef(diccionario['link']), lifepoints, Literal(diccionario['lifepoints'])))\n",
    "    if (diccionario['hurt']!= 'None'):\n",
    "        g.add((URIRef(diccionario['link']), hurt, Literal(diccionario['hurt'])))\n",
    "    if (diccionario['damage']!= 'None'):\n",
    "        g.add((URIRef(diccionario['link']), damage, Literal(diccionario['damage'])))\n",
    "    if (diccionario['areadamage']!= 'None'):\n",
    "        g.add((URIRef(diccionario['link']), areadamage, Literal(diccionario['areadamage'])))\n",
    "    if (diccionario['elixir']!= 'None'):\n",
    "        g.add((URIRef(diccionario['link']), elixir, Literal(diccionario['elixir'])))\n"
   ]
  },
  {
   "cell_type": "code",
   "execution_count": 31,
   "metadata": {},
   "outputs": [],
   "source": [
    "# Instanciando Estructuras\n",
    "#lista_diccionario[71:83]\n",
    "for diccionario in lista_diccionario[71:83]:\n",
    "    \n",
    "    fun_clase(diccionario['classes'],diccionario['link'],n.build)\n",
    "    g.add((URIRef(diccionario['link']), name, Literal(diccionario['name'])))\n",
    "    if (diccionario['level']!= 'None'):\n",
    "        g.add((URIRef(diccionario['link']), level, Literal(diccionario['level'])))\n",
    "    if (diccionario['quality']!= 'None'):\n",
    "        g.add((URIRef(diccionario['link']), quality, fun_quality(diccionario['quality'])))\n",
    "    if (diccionario['objective']!= 'None'):\n",
    "        fun_objective(diccionario)\n",
    "    if (diccionario['scope']!= 'None'):\n",
    "        g.add((URIRef(diccionario['link']), scope, fun_scope(diccionario['scope'])))\n",
    "    if (diccionario['speed']!= 'None'):\n",
    "        g.add((URIRef(diccionario['link']), speed, fun_speed(diccionario['speed'])))\n",
    "    if (diccionario['radio']!= 'None'):\n",
    "        g.add((URIRef(diccionario['link']), radio, Literal(diccionario['radio'])))\n",
    "    if (diccionario['timeoflife']!= 'None'):\n",
    "        g.add((URIRef(diccionario['link']), timeoflife, Literal(diccionario['timeoflife'])))\n",
    "    if (diccionario['level']!= 'None'):\n",
    "        g.add((URIRef(diccionario['link']), lifepoints, Literal(diccionario['lifepoints'])))\n",
    "    if (diccionario['hurt']!= 'None'):\n",
    "        g.add((URIRef(diccionario['link']), hurt, Literal(diccionario['hurt'])))\n",
    "    if (diccionario['damage']!= 'None'):\n",
    "        g.add((URIRef(diccionario['link']), damage, Literal(diccionario['damage'])))\n",
    "    if (diccionario['areadamage']!= 'None'):\n",
    "        g.add((URIRef(diccionario['link']), areadamage, Literal(diccionario['areadamage'])))\n",
    "    if (diccionario['elixir']!= 'None'):\n",
    "        g.add((URIRef(diccionario['link']), elixir, Literal(diccionario['elixir'])))\n"
   ]
  },
  {
   "cell_type": "code",
   "execution_count": 32,
   "metadata": {},
   "outputs": [],
   "source": [
    "# Instanciando Hechizos\n",
    "#lista_diccionario[83:]\n",
    "for diccionario in lista_diccionario[83:]:\n",
    "   \n",
    "    fun_clase(diccionario['classes'],diccionario['link'],n.spell)\n",
    "    g.add((URIRef(diccionario['link']), name, Literal(diccionario['name'])))\n",
    "    if (diccionario['level']!= 'None'):\n",
    "        g.add((URIRef(diccionario['link']), level, Literal(diccionario['level'])))\n",
    "    if (diccionario['quality']!= 'None'):\n",
    "        g.add((URIRef(diccionario['link']), quality, fun_quality(diccionario['quality'])))\n",
    "    if (diccionario['objective']!= 'None'):\n",
    "        fun_objective(diccionario)\n",
    "    if (diccionario['scope']!= 'None'):\n",
    "        g.add((URIRef(diccionario['link']), scope, fun_scope(diccionario['scope'])))\n",
    "    if (diccionario['speed']!= 'None'):\n",
    "        g.add((URIRef(diccionario['link']), speed, fun_speed(diccionario['speed'])))\n",
    "    if (diccionario['radio']!= 'None'):\n",
    "        g.add((URIRef(diccionario['link']), radio, Literal(diccionario['radio'])))\n",
    "    if (diccionario['timeoflife']!= 'None'):\n",
    "        g.add((URIRef(diccionario['link']), timeoflife, Literal(diccionario['timeoflife'])))\n",
    "    if (diccionario['level']!= 'None'):\n",
    "        g.add((URIRef(diccionario['link']), lifepoints, Literal(diccionario['lifepoints'])))\n",
    "    if (diccionario['hurt']!= 'None'):\n",
    "        g.add((URIRef(diccionario['link']), hurt, Literal(diccionario['hurt'])))\n",
    "    if (diccionario['damage']!= 'None'):\n",
    "        g.add((URIRef(diccionario['link']), damage, Literal(diccionario['damage'])))\n",
    "    if (diccionario['areadamage']!= 'None'):\n",
    "        g.add((URIRef(diccionario['link']), areadamage, Literal(diccionario['areadamage'])))\n",
    "    if (diccionario['elixir']!= 'None'):\n",
    "        g.add((URIRef(diccionario['link']), elixir, Literal(diccionario['elixir'])))\n"
   ]
  },
  {
   "cell_type": "markdown",
   "metadata": {},
   "source": [
    "texto = str(g.serialize(format=\"n3\", encoding='utf-8').decode())\n",
    "for line in texto.splitlines():\n",
    "    print(line)"
   ]
  },
  {
   "cell_type": "code",
   "execution_count": 33,
   "metadata": {},
   "outputs": [],
   "source": [
    "# Exportar el archivo:\n",
    "g.serialize(destination='statsroyale.rdf', format='xml')"
   ]
  },
  {
   "cell_type": "markdown",
   "metadata": {
    "tags": [
     "outputPrepend"
    ]
   },
   "source": [
    "#imprimir tripletas\n",
    "for s, p, o in g:\n",
    "    print(s, p, o)"
   ]
  },
  {
   "cell_type": "markdown",
   "metadata": {},
   "source": [
    "# Inferencias"
   ]
  },
  {
   "cell_type": "markdown",
   "metadata": {},
   "source": [
    "### Primera inferencia: Encontrando las dependencias superiores de la clase Gigante"
   ]
  },
  {
   "cell_type": "code",
   "execution_count": 34,
   "metadata": {},
   "outputs": [
    {
     "name": "stdout",
     "output_type": "stream",
     "text": [
      "Gigante\n",
      "Tropas\n",
      "Carta\n"
     ]
    }
   ],
   "source": [
    "clase_base = n.giant\n",
    "for s in g.transitive_objects(clase_base, RDFS.subClassOf):\n",
    "    print(g.value(s, name))"
   ]
  },
  {
   "cell_type": "markdown",
   "metadata": {},
   "source": [
    "### Segunda inferencia: Encontrando las dependencias inferiores de la clase Carta "
   ]
  },
  {
   "cell_type": "code",
   "execution_count": 35,
   "metadata": {},
   "outputs": [
    {
     "name": "stdout",
     "output_type": "stream",
     "text": [
      "https://statsroyale.com/es/card Carta\n",
      "https://statsroyale.com/es/spell Hechizos\n",
      "https://statsroyale.com/es/troop Tropas\n",
      "https://statsroyale.com/es/dragon Dragon\n",
      "https://statsroyale.com/es/goblin Duende\n",
      "https://statsroyale.com/es/human Humano\n",
      "https://statsroyale.com/es/magic Mágico\n",
      "https://statsroyale.com/es/creature Criatura\n",
      "https://statsroyale.com/es/giant Gigante\n",
      "https://statsroyale.com/es/dead Muerto\n",
      "https://statsroyale.com/es/build Estructuras\n",
      "https://statsroyale.com/es/hut Choza\n",
      "https://statsroyale.com/es/tower Torre\n"
     ]
    }
   ],
   "source": [
    "clase_base = n.card\n",
    "for s in g.transitive_subjects(RDFS.subClassOf, clase_base):\n",
    "    print(s,g.value(s, name))"
   ]
  },
  {
   "cell_type": "markdown",
   "metadata": {},
   "source": [
    "### Tercera inferencia: Encontrando las clases pertenecientes al recurso carta"
   ]
  },
  {
   "cell_type": "code",
   "execution_count": 36,
   "metadata": {},
   "outputs": [
    {
     "name": "stdout",
     "output_type": "stream",
     "text": [
      "Gólem\n",
      "Tropas\n",
      "Gigante\n"
     ]
    }
   ],
   "source": [
    "carta = URIRef(lista_diccionario[1]['link'])\n",
    "for s in g.transitive_objects(carta, RDF.type):\n",
    "  print(g.value(s, name))"
   ]
  },
  {
   "cell_type": "markdown",
   "metadata": {},
   "source": [
    "### Cuarta inferencia: Obteniendo la calidad de una carta"
   ]
  },
  {
   "cell_type": "code",
   "execution_count": 37,
   "metadata": {},
   "outputs": [
    {
     "name": "stdout",
     "output_type": "stream",
     "text": [
      "https://statsroyale.com/es/epic\n",
      "Épica\n"
     ]
    }
   ],
   "source": [
    "carta = URIRef(lista_diccionario[4]['link'])\n",
    "for s in g.objects(carta, quality):\n",
    "    print (s)\n",
    "    print(g.value(s, name))"
   ]
  },
  {
   "cell_type": "markdown",
   "metadata": {},
   "source": [
    "### Quinta inferencia: Obteniendo todos los atributos del recurso carta"
   ]
  },
  {
   "cell_type": "code",
   "execution_count": 38,
   "metadata": {},
   "outputs": [
    {
     "name": "stdout",
     "output_type": "stream",
     "text": [
      "elixir 7\n",
      "Daño por segundo 376\n",
      "Nombre de la carta P.E.K.K.A.\n",
      "Puntos de vida 3125\n",
      "None Tropas\n",
      "Objetivo Tierra\n",
      "Nivel 9\n",
      "Daño 678\n",
      "Calidad Épica\n",
      "Velocidad Baja\n",
      "Alcance Cuerpo a cuerpo\n"
     ]
    }
   ],
   "source": [
    "carta = URIRef(lista_diccionario[4]['link'])\n",
    "def atributos(card):\n",
    "        for s in g.predicate_objects(carta):\n",
    "                if type(s[1]) == type(Literal(\"1\")):\n",
    "                    print(g.value(s[0],RDFS.label),s[1])\n",
    "                else:\n",
    "                    print(g.value(s[0],RDFS.label),g.value(s[1],name))\n",
    "                \n",
    "atributos(carta)\n"
   ]
  },
  {
   "cell_type": "markdown",
   "metadata": {},
   "source": [
    "### Sexta inferencia: Obtener los daños de cada carta"
   ]
  },
  {
   "cell_type": "code",
   "execution_count": 39,
   "metadata": {},
   "outputs": [
    {
     "name": "stdout",
     "output_type": "stream",
     "text": [
      "Requirement already satisfied: tabulate in /home/renzoqamao/my_project_dir/my_project_env/lib/python3.8/site-packages (0.8.9)\r\n"
     ]
    }
   ],
   "source": [
    "!pip install tabulate"
   ]
  },
  {
   "cell_type": "code",
   "execution_count": 40,
   "metadata": {},
   "outputs": [
    {
     "name": "stdout",
     "output_type": "stream",
     "text": [
      "Nombre de la carta      Tipo de daño      Daño\n",
      "----------------------  ----------------  ------------------------------------------------------------\n",
      "Esbirros                Daño              84\n",
      "Murciélagos             Daño              51\n",
      "Cañón con ruedas        Daño              176\n",
      "Ejército de esqueletos  Daño              67\n",
      "Gólem de hielo          Daño              28\n",
      "Dragones esqueleto      Daño              70\n",
      "Dragón eléctrico        Daño              75\n",
      "Fantasma real           Daño              120\n",
      "Horda de esbirros       Daño              84\n",
      "Arquero mágico          Daño              100\n",
      "Esqueleto gigante       Daño              148\n",
      "Esqueletos              Daño              67\n",
      "Gigante                 Daño              140\n",
      "Duende lanzadardos      Daño              142\n",
      "Espíritu eléctrico      Daño por segundo  82\n",
      "Arqueras                Daño              74\n",
      "Reclutas reales         Daño              84\n",
      "Chispitas               Daño              275\n",
      "Bebé dragón             Daño              88\n",
      "Bárbaros de élite       Daño              227\n",
      "Pillos                  Daño              73\n",
      "Globo bombástico        Daño              266\n",
      "Bombardero              Daño              102\n",
      "Dragón infernal         Daño              75–875\n",
      "Duende gigante          Daño              97\n",
      "Guardias                Daño              90\n",
      "Mago eléctrico          Daño en Área      75\n",
      "Gigante noble           Daño              149\n",
      "P.E.K.K.A.              Daño              376\n",
      "Bruja nocturna          Daño              173\n",
      "Rompemuros              Daño en Área      325\n",
      "Duendes con lanza       Daño              39\n",
      "Espíritus de fuego      Daño en Área      178\n",
      "Puercos reales          Daño              49\n",
      "Lanzarrocas             Daño              95\n",
      "Gólem de elixir         Daño              162\n",
      "Bárbaros                Daño              113\n",
      "Electrocutadores        Daño              45\n",
      "Verdugo                 Daño              58\n",
      "                                                                                                    x2\n",
      "Mago de hielo           Daño              44\n",
      "Leñador                 Daño              250\n",
      "Megaesbirro             Daño              161\n",
      "Pandilla de duendes     Daño              90\n",
      "Duendes                 Daño              90\n",
      "Sabueso de lava         Daño              34\n",
      "Gólem                   Daño              103\n",
      "Mini P.E.K.K.A.         Daño              351\n",
      "Bruja madre             Daño              100\n",
      "Ariete de batalla       Daño por segundo  220\n",
      "Bruja                   Daño              100\n",
      "Mago                    Daño              167\n",
      "Montacarneros           Daño              122\n",
      "Montapuercos            Daño              165\n",
      "Gigante eléctrico       Daño              75\n",
      "Espíritu de hielo       Daño en Área      91\n",
      "Ballesta                Daño              113\n",
      "Torre Tesla             Daño              172\n",
      "Mortero                 Daño              44\n",
      "Torre infernal          Daño              87–1760\n",
      "Torre bombardera        Daño              115\n",
      "Cañón                   Daño              175\n",
      "Cementerio              Daño              67\n",
      "Bola de nieve           Daño en Área      159\n",
      "Flechas                 Daño en Área      101\n",
      "Bola de fuego           Daño en Área      572\n",
      "Cohete                  Daño en Área      1232\n",
      "Descarga                Daño en Área      159\n",
      "Hielo                   Daño en Área      95\n",
      "El Tronco               Daño por segundo  240\n"
     ]
    }
   ],
   "source": [
    "from tabulate import tabulate\n",
    "#Daños\n",
    "tipos = [n.troop,n.build,n.spell]\n",
    "lista=[[]]\n",
    "for tipo in tipos:\n",
    "    for carta in g.subjects(RDF.type,tipo):\n",
    "        if g.value(carta, damage)!=None:\n",
    "            lista.append([g.value(carta, name),'Daño',g.value(carta, damage)])\n",
    "        elif g.value(carta, areadamage)!=None:\n",
    "            lista.append([g.value(carta, name),'Daño en Área',g.value(carta, areadamage)])\n",
    "        elif g.value(carta, hurt)!=None:\n",
    "            lista.append([g.value(carta, name),'Daño por segundo',g.value(carta, hurt)])\n",
    "print(tabulate(lista,headers=['Nombre de la carta', 'Tipo de daño','Daño']))\n"
   ]
  },
  {
   "cell_type": "markdown",
   "metadata": {},
   "source": [
    "### Séptima inferencia: Clasificar por clase tropa, estructura y hechizo"
   ]
  },
  {
   "cell_type": "code",
   "execution_count": 41,
   "metadata": {},
   "outputs": [
    {
     "name": "stdout",
     "output_type": "stream",
     "text": [
      "............... TROPAS ...............\n",
      "Esbirros\n",
      "Murciélagos\n",
      "Cañón con ruedas\n",
      "Ejército de esqueletos\n",
      "Gólem de hielo\n",
      "Dragones esqueleto\n",
      "Dragón eléctrico\n",
      "Fantasma real\n",
      "Horda de esbirros\n",
      "Arquero mágico\n",
      "Esqueleto gigante\n",
      "Esqueletos\n",
      "Gigante\n",
      "Duende lanzadardos\n",
      "Espíritu eléctrico\n",
      "Arqueras\n",
      "Reclutas reales\n",
      "Chispitas\n",
      "Bebé dragón\n",
      "Bárbaros de élite\n",
      "Pillos\n",
      "Globo bombástico\n",
      "Bombardero\n",
      "Lanzafuegos\n",
      "Dragón infernal\n",
      "Duende gigante\n",
      "Guardias\n",
      "Mago eléctrico\n",
      "Gigante noble\n",
      "Barril de esqueletos\n",
      "P.E.K.K.A.\n",
      "Bruja nocturna\n",
      "Rompemuros\n",
      "Duendes con lanza\n",
      "Espíritus de fuego\n",
      "Puercos reales\n",
      "Lanzarrocas\n",
      "Gólem de elixir\n",
      "Bárbaros\n",
      "Electrocutadores\n",
      "Verdugo\n",
      "Mago de hielo\n",
      "Leñador\n",
      "Megaesbirro\n",
      "Pandilla de duendes\n",
      "Duendes\n",
      "Sabueso de lava\n",
      "Gólem\n",
      "Mini P.E.K.K.A.\n",
      "Bruja madre\n",
      "Ariete de batalla\n",
      "Bruja\n",
      "Mago\n",
      "Montacarneros\n",
      "Montapuercos\n",
      "Gigante eléctrico\n",
      "Espíritu de hielo\n",
      "............... ESTRUCTURAS ...............\n",
      "Ballesta\n",
      "Recolector de elixir\n",
      "Torre Tesla\n",
      "Choza de duendes\n",
      "Mortero\n",
      "Lápida\n",
      "Horno\n",
      "Choza de bárbaros\n",
      "Jaula del forzudo\n",
      "Torre infernal\n",
      "Torre bombardera\n",
      "Cañón\n",
      "............... HECHIZOS ...............\n",
      "Cementerio\n",
      "Furia\n",
      "Bola de nieve\n",
      "Terremoto\n",
      "Tornado\n",
      "Espejo\n",
      "Clon\n",
      "Flechas\n",
      "Bola de fuego\n",
      "Cohete\n",
      "Descarga\n",
      "Paquete real\n",
      "Veneno\n",
      "Hielo\n",
      "Rayo\n",
      "Espíritu sanador\n",
      "Barril de bárbaro\n",
      "El Tronco\n",
      "Barril de duendes\n"
     ]
    }
   ],
   "source": [
    "#Clasificar por clase tropas, estructuras y hechizos\n",
    "tipos = [n.troop,n.build,n.spell]\n",
    "for tipo in tipos:\n",
    "    print(\"...............\",(g.value(tipo, name)).upper(),\"...............\")\n",
    "    for carta in g.subjects(RDF.type,tipo):\n",
    "        print(g.value(carta, name))"
   ]
  },
  {
   "cell_type": "markdown",
   "metadata": {},
   "source": [
    "### Manipulación : Subir nivel a una carta"
   ]
  },
  {
   "cell_type": "code",
   "execution_count": 42,
   "metadata": {},
   "outputs": [],
   "source": [
    "#Subir nivel a una carta\n",
    "def agregarNivel(x):\n",
    "    for s,d,o in g.triples((x,RDF.type,None)):\n",
    "        nameX=g.value(s,name)\n",
    "        nivelX=int(g.value(s,level))\n",
    "        print('Nivel actual',nivelX)\n",
    "        nivelX+=1\n",
    "        g.set([x, level,Literal(nivelX)])\n",
    "        print('Se ha subido al nivel',nivelX)\n",
    "    return nivelX"
   ]
  },
  {
   "cell_type": "code",
   "execution_count": 43,
   "metadata": {},
   "outputs": [
    {
     "name": "stdout",
     "output_type": "stream",
     "text": [
      "Nivel actual 9\n",
      "Se ha subido al nivel 10\n",
      "nivel de la carta actualizada: 10\n"
     ]
    }
   ],
   "source": [
    "#Prueba de subir nivel\n",
    "agregarNivel(URIRef(\"https://statsroyale.com/es/card/Musketeer\"))\n",
    "print('nivel de la carta actualizada:',g.value(URIRef(\"https://statsroyale.com/es/card/Musketeer\"),level))"
   ]
  },
  {
   "cell_type": "markdown",
   "metadata": {},
   "source": [
    "### Combate\n",
    "La función combate necesita de dos cartas y sus respectivas vidas actuales, encuentra el nombre y daño de cada carta y las hace pelear, la carta gana según su daño y vida, una vez obtenido el ganador se devuelve 1 si es la primera carta o 2 si es la segunda, además también devuelve la vida actual del ganador"
   ]
  },
  {
   "cell_type": "markdown",
   "metadata": {},
   "source": [
    "#### Obtener daño de una carta\n"
   ]
  },
  {
   "cell_type": "code",
   "execution_count": 44,
   "metadata": {},
   "outputs": [],
   "source": [
    "def daño(x):\n",
    "    for s,d,o in g.triples((x,RDF.type,None)):\n",
    "        if g.value(s,damage)!=None:\n",
    "            dañoX=float(g.value(s,damage))\n",
    "        elif g.value(s,areadamage)!=None:\n",
    "            dañoX=float(g.value(s,areadamage))\n",
    "        elif g.value(s,hurt)!=None:\n",
    "            dañoX=float(g.value(s,hurt))\n",
    "    return dañoX"
   ]
  },
  {
   "cell_type": "code",
   "execution_count": 45,
   "metadata": {},
   "outputs": [
    {
     "name": "stdout",
     "output_type": "stream",
     "text": [
      "Daño:  164.0\n"
     ]
    }
   ],
   "source": [
    "musketer=URIRef(\"https://statsroyale.com/es/card/Musketeer\")\n",
    "print('Daño: ',daño(musketer))"
   ]
  },
  {
   "cell_type": "markdown",
   "metadata": {},
   "source": [
    "#### Obtener vida de una carta"
   ]
  },
  {
   "cell_type": "code",
   "execution_count": 46,
   "metadata": {},
   "outputs": [],
   "source": [
    "def vida(x):\n",
    "    for s,d,o in g.triples((x,RDF.type,None)):\n",
    "        vidaX=float(g.value(s,lifepoints))\n",
    "    return vidaX"
   ]
  },
  {
   "cell_type": "code",
   "execution_count": 47,
   "metadata": {},
   "outputs": [
    {
     "name": "stdout",
     "output_type": "stream",
     "text": [
      "Vida:  598.0\n"
     ]
    }
   ],
   "source": [
    "#ejemplo\n",
    "musketer=URIRef(\"https://statsroyale.com/es/card/Musketeer\")\n",
    "print('Vida: ',vida(musketer))"
   ]
  },
  {
   "cell_type": "markdown",
   "metadata": {},
   "source": [
    "#### Obtener nombre de una carta"
   ]
  },
  {
   "cell_type": "code",
   "execution_count": 48,
   "metadata": {},
   "outputs": [],
   "source": [
    "def nombre(x):\n",
    "    for s,d,o in g.triples((x,RDF.type,None)):\n",
    "        nameX=str(g.value(s,name))\n",
    "    return nameX"
   ]
  },
  {
   "cell_type": "code",
   "execution_count": 49,
   "metadata": {},
   "outputs": [
    {
     "name": "stdout",
     "output_type": "stream",
     "text": [
      "Nombre:  Mosquetera\n"
     ]
    }
   ],
   "source": [
    "#ejemplo\n",
    "musketer=URIRef(\"https://statsroyale.com/es/card/Musketeer\")\n",
    "print('Nombre: ',nombre(musketer))"
   ]
  },
  {
   "cell_type": "markdown",
   "metadata": {},
   "source": [
    "#### Función combate"
   ]
  },
  {
   "cell_type": "code",
   "execution_count": 50,
   "metadata": {},
   "outputs": [],
   "source": [
    "#funcion combate\n",
    "def combat(x,lifeX,y,lifeY):\n",
    "    for s,d,o in g.triples((x,RDF.type,None)):\n",
    "        nameX=str(g.value(s,name))\n",
    "        if g.value(s,damage)!=None:\n",
    "            damX=float(g.value(s,damage))\n",
    "        elif g.value(s,areadamage)!=None:\n",
    "            damX=float(g.value(s,areadamage))\n",
    "        elif g.value(s,hurt)!=None:\n",
    "            damX=float(g.value(s,hurt))\n",
    "    for s,d,o in g.triples((y,RDF.type,None)):\n",
    "        nameY=str(g.value(s,name))\n",
    "        if g.value(s,damage)!=None:\n",
    "            damY=float(g.value(s,damage))\n",
    "        elif g.value(s,areadamage)!=None:\n",
    "            damY=float(g.value(s,areadamage))\n",
    "        elif g.value(s,hurt)!=None:\n",
    "            damY=float(g.value(s,hurt))\n",
    "    print('Comienza el combate entre ',nameX,' y ',nameY)\n",
    "    print('Vida de ',nameX,' : ',lifeX,', Daño: ',damX)\n",
    "    print('Vida de ',nameY,' : ',lifeY,', Daño: ',damY)\n",
    "    while lifeX>0 and lifeY>0: \n",
    "        lifeX-=damX\n",
    "        lifeY-=damY\n",
    "    if lifeX<=0  and lifeY<=0:\n",
    "        lifeX=0\n",
    "        lifeY=0\n",
    "        print('Empate!, ambos tienen 0 de vida')\n",
    "        return [2,lifeY]\n",
    "    elif lifeY<=0:\n",
    "        lifeY=0\n",
    "        print('Carta de jugador 1 ha ganado,',nameX,' ha ganado!, le queda', lifeX,' de vida')\n",
    "        return [1,lifeX]\n",
    "    elif lifeX<=0:\n",
    "        lifeX=0\n",
    "        print('Carta de jugador 2 ha ganado, ',nameY,' ha ganado!, le queda', lifeY,' de vida')\n",
    "        return [2,lifeY]"
   ]
  },
  {
   "cell_type": "code",
   "execution_count": 51,
   "metadata": {},
   "outputs": [
    {
     "name": "stdout",
     "output_type": "stream",
     "text": [
      "Comienza el combate entre  Mosquetera  y  Príncipe oscuro\n",
      "Vida de  Mosquetera  :  400 , Daño:  164.0\n",
      "Vida de  Príncipe oscuro  :  600 , Daño:  158.0\n",
      "Carta de jugador 2 ha ganado,  Príncipe oscuro  ha ganado!, le queda 126.0  de vida\n",
      "2\n",
      "126.0\n"
     ]
    }
   ],
   "source": [
    "#prueba de combate\n",
    "musketer=URIRef(\"https://statsroyale.com/es/card/Musketeer\")\n",
    "GiantSkeleton=URIRef(\"https://statsroyale.com/es/card/Dark+Prince\")\n",
    "\n",
    "Ganador,lifeGanador=combat(musketer,400,GiantSkeleton,600)\n",
    "print(Ganador)\n",
    "print(lifeGanador)"
   ]
  },
  {
   "cell_type": "markdown",
   "metadata": {},
   "source": [
    "### Simulación del juego\n",
    "Se crea una simulación usando las inferencias anteriores. Se define 5 cartas, luego se guardan en cartas1 y cartas2 q vienen a ser la mano de cartas de cada jugador, además se obtienen la vida de cada carta usando la inferencia vida. Se pide escoger entre:\n",
    "Opción 1: Mostrar características de las cartas del jugador 1. \n",
    "Opción 2: Mostrar las características de las cartas del jugador 2.\n",
    "Opción 3, combatir.\n",
    "Al combatir se pide ingresar primero el nombre de la carta del jugador 1 y luego del jugador 2(el nombre de la carta debe ser escrita igual que la mostrada al escoger las opciones 1 o 2, mayúsculas, tilde, etc), una vez que los pasos son correctos el combate empieza, se puede seguir jugando hasta que se escoja la opción salir o hasta que todas las cartas de alguno de los jugadores tengan 0 de vida."
   ]
  },
  {
   "cell_type": "code",
   "execution_count": 52,
   "metadata": {
    "scrolled": true
   },
   "outputs": [
    {
     "name": "stdout",
     "output_type": "stream",
     "text": [
      "¿Desea seguir jugando?/(Cualquier tecla=Si/N=No)Si\n",
      "Opciones\n",
      "1=Características de cartas de jugador 1\n",
      "2=Características de cartas de jugador 1\n",
      "3=Combatir!1\n",
      "CARTAS DE JUGADOR 1:\n",
      "Nombre:  Minero , vida:  1000.0 , daño:  133.0\n",
      "Nombre:  Príncipe oscuro , vida:  1030.0 , daño:  158.0\n",
      "Nombre:  Duende gigante , vida:  2616.0 , daño:  97.0\n",
      "Nombre:  Valquiria , vida:  1654.0 , daño:  147.0\n",
      "¿Desea seguir jugando?/(Cualquier tecla=Si/N=No)Si\n",
      "Opciones\n",
      "1=Características de cartas de jugador 1\n",
      "2=Características de cartas de jugador 1\n",
      "3=Combatir!2\n",
      "CARTAS DE JUGADOR 2:\n",
      "Nombre:  Mosquetera , vida:  598.0 , daño:  164.0\n",
      "Nombre:  Príncipe oscuro , vida:  1030.0 , daño:  158.0\n",
      "Nombre:  Duende gigante , vida:  2616.0 , daño:  97.0\n",
      "Nombre:  Valquiria , vida:  1654.0 , daño:  147.0\n",
      "¿Desea seguir jugando?/(Cualquier tecla=Si/N=No)Si\n",
      "Opciones\n",
      "1=Características de cartas de jugador 1\n",
      "2=Características de cartas de jugador 1\n",
      "3=Combatir!3\n",
      "INICIA EL COMBATE!:\n",
      "Ingrese nombre de la carta del jugador 1Minero\n",
      "Se encontró la unidad\n",
      "Ingrese nombre de la carta del jugador 2Mosquetera\n",
      "Se encontró la unidad\n",
      "Comienza el combate entre  Minero  y  Mosquetera\n",
      "Vida de  Minero  :  1000.0 , Daño:  133.0\n",
      "Vida de  Mosquetera  :  598.0 , Daño:  164.0\n",
      "Carta de jugador 1 ha ganado, Minero  ha ganado!, le queda 468.0  de vida\n",
      "¿Desea seguir jugando?/(Cualquier tecla=Si/N=No)No\n"
     ]
    },
    {
     "ename": "KeyboardInterrupt",
     "evalue": "Interrupted by user",
     "output_type": "error",
     "traceback": [
      "\u001b[0;31m---------------------------------------------------------------------------\u001b[0m",
      "\u001b[0;31mKeyboardInterrupt\u001b[0m                         Traceback (most recent call last)",
      "\u001b[0;32m<ipython-input-52-1f19c3410434>\u001b[0m in \u001b[0;36m<module>\u001b[0;34m\u001b[0m\n\u001b[1;32m     39\u001b[0m         \u001b[0;32mbreak\u001b[0m\u001b[0;34m\u001b[0m\u001b[0;34m\u001b[0m\u001b[0m\n\u001b[1;32m     40\u001b[0m \u001b[0;34m\u001b[0m\u001b[0m\n\u001b[0;32m---> 41\u001b[0;31m     \u001b[0mopcion\u001b[0m\u001b[0;34m=\u001b[0m\u001b[0minput\u001b[0m\u001b[0;34m(\u001b[0m\u001b[0;34m'Opciones\\n1=Características de cartas de jugador 1\\n2=Características de cartas de jugador 1\\n3=Combatir!'\u001b[0m\u001b[0;34m)\u001b[0m\u001b[0;34m\u001b[0m\u001b[0;34m\u001b[0m\u001b[0m\n\u001b[0m\u001b[1;32m     42\u001b[0m     \u001b[0;32mif\u001b[0m \u001b[0mopcion\u001b[0m\u001b[0;34m==\u001b[0m\u001b[0;34m'1'\u001b[0m\u001b[0;34m:\u001b[0m\u001b[0;34m\u001b[0m\u001b[0;34m\u001b[0m\u001b[0m\n\u001b[1;32m     43\u001b[0m         \u001b[0;31m#Muestra las cartas del jugador 1\u001b[0m\u001b[0;34m\u001b[0m\u001b[0;34m\u001b[0m\u001b[0;34m\u001b[0m\u001b[0m\n",
      "\u001b[0;32m~/my_project_dir/my_project_env/lib/python3.8/site-packages/ipykernel/kernelbase.py\u001b[0m in \u001b[0;36mraw_input\u001b[0;34m(self, prompt)\u001b[0m\n\u001b[1;32m    858\u001b[0m                 \u001b[0;34m\"raw_input was called, but this frontend does not support input requests.\"\u001b[0m\u001b[0;34m\u001b[0m\u001b[0;34m\u001b[0m\u001b[0m\n\u001b[1;32m    859\u001b[0m             )\n\u001b[0;32m--> 860\u001b[0;31m         return self._input_request(str(prompt),\n\u001b[0m\u001b[1;32m    861\u001b[0m             \u001b[0mself\u001b[0m\u001b[0;34m.\u001b[0m\u001b[0m_parent_ident\u001b[0m\u001b[0;34m,\u001b[0m\u001b[0;34m\u001b[0m\u001b[0;34m\u001b[0m\u001b[0m\n\u001b[1;32m    862\u001b[0m             \u001b[0mself\u001b[0m\u001b[0;34m.\u001b[0m\u001b[0m_parent_header\u001b[0m\u001b[0;34m,\u001b[0m\u001b[0;34m\u001b[0m\u001b[0;34m\u001b[0m\u001b[0m\n",
      "\u001b[0;32m~/my_project_dir/my_project_env/lib/python3.8/site-packages/ipykernel/kernelbase.py\u001b[0m in \u001b[0;36m_input_request\u001b[0;34m(self, prompt, ident, parent, password)\u001b[0m\n\u001b[1;32m    902\u001b[0m             \u001b[0;32mexcept\u001b[0m \u001b[0mKeyboardInterrupt\u001b[0m\u001b[0;34m:\u001b[0m\u001b[0;34m\u001b[0m\u001b[0;34m\u001b[0m\u001b[0m\n\u001b[1;32m    903\u001b[0m                 \u001b[0;31m# re-raise KeyboardInterrupt, to truncate traceback\u001b[0m\u001b[0;34m\u001b[0m\u001b[0;34m\u001b[0m\u001b[0;34m\u001b[0m\u001b[0m\n\u001b[0;32m--> 904\u001b[0;31m                 \u001b[0;32mraise\u001b[0m \u001b[0mKeyboardInterrupt\u001b[0m\u001b[0;34m(\u001b[0m\u001b[0;34m\"Interrupted by user\"\u001b[0m\u001b[0;34m)\u001b[0m \u001b[0;32mfrom\u001b[0m \u001b[0;32mNone\u001b[0m\u001b[0;34m\u001b[0m\u001b[0;34m\u001b[0m\u001b[0m\n\u001b[0m\u001b[1;32m    905\u001b[0m             \u001b[0;32mexcept\u001b[0m \u001b[0mException\u001b[0m \u001b[0;32mas\u001b[0m \u001b[0me\u001b[0m\u001b[0;34m:\u001b[0m\u001b[0;34m\u001b[0m\u001b[0;34m\u001b[0m\u001b[0m\n\u001b[1;32m    906\u001b[0m                 \u001b[0mself\u001b[0m\u001b[0;34m.\u001b[0m\u001b[0mlog\u001b[0m\u001b[0;34m.\u001b[0m\u001b[0mwarning\u001b[0m\u001b[0;34m(\u001b[0m\u001b[0;34m\"Invalid Message:\"\u001b[0m\u001b[0;34m,\u001b[0m \u001b[0mexc_info\u001b[0m\u001b[0;34m=\u001b[0m\u001b[0;32mTrue\u001b[0m\u001b[0;34m)\u001b[0m\u001b[0;34m\u001b[0m\u001b[0;34m\u001b[0m\u001b[0m\n",
      "\u001b[0;31mKeyboardInterrupt\u001b[0m: Interrupted by user"
     ]
    }
   ],
   "source": [
    "#Defino las cartas\n",
    "musketer=URIRef(\"https://statsroyale.com/es/card/Musketeer\")\n",
    "giantSkeleton=URIRef(\"https://statsroyale.com/es/card/Dark+Prince\")\n",
    "giantGoblin=URIRef(\"https://statsroyale.com/es/card/Goblin+Giant\")\n",
    "valquiria=URIRef(\"https://statsroyale.com/es/card/Valkyrie\")\n",
    "miner=URIRef(\"https://statsroyale.com/es/card/Miner\")\n",
    "#cartas de jugador 1\n",
    "cartas1=[miner,giantSkeleton,giantGoblin,valquiria]\n",
    "vidas1=[vida(miner),vida(giantSkeleton),vida(giantGoblin),vida(valquiria)]\n",
    "#cartas de jugador 2\n",
    "cartas2=[musketer,giantSkeleton,giantGoblin,valquiria]\n",
    "vidas2=[vida(musketer),vida(giantSkeleton),vida(giantGoblin),vida(valquiria)]\n",
    "\n",
    "#Verifica si la vida de las cartas están en 0\n",
    "def verify(vidas):\n",
    "    for i in vidas:\n",
    "        if(i>0):\n",
    "            return True\n",
    "    return False\n",
    "\n",
    "#Compara el nombre ingresado con el nombre de la carta y verifica si encuentra y obtiene su posicion en el arreglo.\n",
    "def lugar(nom,cartas):\n",
    "    for count,value in enumerate(cartas):\n",
    "        if nombre(value)==nom:\n",
    "            print('Se encontró la unidad')\n",
    "            return count\n",
    "    print('No se encontró la unidad')\n",
    "    return -1\n",
    "#Contador par máximos movimientos\n",
    "k=0\n",
    "#Juego\n",
    "while verify(vidas1) and verify(vidas2):\n",
    "    k+=1\n",
    "    if k>1000:\n",
    "        break\n",
    "\n",
    "    decision=input('¿Desea seguir jugando?/(Cualquier tecla=Si/N=No)')\n",
    "    if decision=='N' or decision=='n':\n",
    "        break\n",
    "    \n",
    "    opcion=input('Opciones\\n1=Características de cartas de jugador 1\\n2=Características de cartas de jugador 1\\n3=Combatir!')\n",
    "    if opcion=='1':\n",
    "        #Muestra las cartas del jugador 1\n",
    "        print('CARTAS DE JUGADOR 1:')\n",
    "        for count,value in enumerate(cartas1):\n",
    "            print('Nombre: ',nombre(value),', vida: ',vidas1[count],', daño: ',daño(value))\n",
    "    elif opcion=='2':\n",
    "        #Muestra las cartas del jugador 2\n",
    "        print('CARTAS DE JUGADOR 2:')\n",
    "        for count,value in enumerate(cartas2):\n",
    "            print('Nombre: ',nombre(value),', vida: ',vidas2[count],', daño: ',daño(value))\n",
    "    elif opcion=='3':\n",
    "        #Combatir cartas\n",
    "        print('INICIA EL COMBATE!:')\n",
    "        aliado=input('Ingrese nombre de la carta del jugador 1')\n",
    "        enemigo=''\n",
    "        posA=-1\n",
    "        posE=-1\n",
    "        #Encuentra la posición de la carta del jugador 1\n",
    "        posA=lugar(aliado,cartas1)\n",
    "        if posA>=0:\n",
    "            enemigo=input('Ingrese nombre de la carta del jugador 2')\n",
    "            #Encuentra la posición de la carta del jugador 2\n",
    "            posE=lugar(enemigo,cartas2)\n",
    "            if posE>=0:\n",
    "                #Se obtiene el ganador y la vida con la que queda después del combate\n",
    "                Gan,vidaGan=combat(cartas1[posA],vidas1[posA],cartas2[posE],vidas2[posE])\n",
    "                #Si gana el jugador 1 se guarda la vida correspondiente de cada carta\n",
    "                if 1==Gan:\n",
    "                    vidas1[posA]=vidaGan\n",
    "                    vidas2[posE]=0\n",
    "                #Si gana el jugador 2 se guarda la vida correspondiente de cada carta\n",
    "                elif 2==Gan:\n",
    "                    vidas2[posE]=vidaGan\n",
    "                    vidas1[posA]=0\n",
    "#Se verifica si alguien ha ganado el juego o si ha sido empate\n",
    "if verify(vidas1)==False and verify(vidas2)==False:\n",
    "    print('Ambos Jugadores han quedado empate!')\n",
    "elif verify(vidas1)==False:\n",
    "    print('Jugador 2 ha ganado la partida!')\n",
    "elif verify(vidas2)==False:\n",
    "    print('Jugador 1 ha ganado la partida!')"
   ]
  },
  {
   "cell_type": "code",
   "execution_count": null,
   "metadata": {},
   "outputs": [],
   "source": []
  }
 ],
 "metadata": {
  "kernelspec": {
   "display_name": "Python 3",
   "language": "python",
   "name": "python3"
  },
  "language_info": {
   "codemirror_mode": {
    "name": "ipython",
    "version": 3
   },
   "file_extension": ".py",
   "mimetype": "text/x-python",
   "name": "python",
   "nbconvert_exporter": "python",
   "pygments_lexer": "ipython3",
   "version": "3.8.5"
  },
  "metadata": {
   "interpreter": {
    "hash": "7b3028809255e6447bc44597884dfb1c7e3cb310a15cce81f99ede3a01349aef"
   }
  }
 },
 "nbformat": 4,
 "nbformat_minor": 5
}
