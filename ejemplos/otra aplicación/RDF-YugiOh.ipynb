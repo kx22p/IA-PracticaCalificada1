{
 "cells": [
  {
   "cell_type": "code",
   "execution_count": 1,
   "metadata": {},
   "outputs": [
    {
     "name": "stdout",
     "output_type": "stream",
     "text": [
      "Requirement already satisfied: rdflib in c:\\users\\kxime\\miniconda3\\lib\\site-packages (5.0.0)\n",
      "Requirement already satisfied: six in c:\\users\\kxime\\miniconda3\\lib\\site-packages (from rdflib) (1.15.0)\n",
      "Requirement already satisfied: pyparsing in c:\\users\\kxime\\miniconda3\\lib\\site-packages (from rdflib) (2.4.7)\n",
      "Requirement already satisfied: isodate in c:\\users\\kxime\\miniconda3\\lib\\site-packages (from rdflib) (0.6.0)\n",
      "Requirement already satisfied: six in c:\\users\\kxime\\miniconda3\\lib\\site-packages (from rdflib) (1.15.0)\n"
     ]
    }
   ],
   "source": [
    "# instalando rdflib \n",
    "!pip3 install rdflib"
   ]
  },
  {
   "cell_type": "code",
   "execution_count": 3,
   "metadata": {},
   "outputs": [],
   "source": [
    "# Nodos \n",
    "from rdflib import URIRef, BNode, Literal\n",
    "# Namespace \n",
    "from rdflib import Namespace\n",
    "# Crear grafos\n",
    "from rdflib.namespace import RDF, RDFS\n",
    "# Instaciar una clase de grafo \n",
    "from rdflib import ConjunctiveGraph\n",
    "import pprint"
   ]
  },
  {
   "cell_type": "markdown",
   "metadata": {},
   "source": [
    "#  Yu-gi-Oh\n",
    "[Reglas del Juego](https://img.yugioh-card.com/es/rulebook/es.pdf)\n",
    "## Juego de cartas coleccionables.\n",
    "En este juego, dos jugadores se enfretan en Duelos utilizando una variedad de cartas de Monstruos, Mágicas y de trampa para derrotar a los monstruos de su adversario y ser el primero en reducir a o los *LF(life Points - Puntos de vida)* del otro.\n",
    "## Cómo lee una carta Monstruo\n",
    "1. Nombre de la carta\n",
    "2. Nivel (Número de estrellas)\n",
    "3. Atributo(Oscuridad, Tierra, Fuego, Luz, Agua, Viento)\n",
    "4. Tipo\n",
    "    1. Monstruos Normales\n",
    "    2. Monstruos de Efectos(Efecto Continuo,Efecto Encendido,Efecto Rápido, Efecto Disparado o Volteo)\n",
    "    3. Monstruos de Péndulo\n",
    "    4. Monstruos Xyz(tienen rango en lugar de nivel)\n",
    "    5. Monstruos de sincronia\n",
    "    6. Monstruos de Ritual\n",
    " \n",
    "5. Número de Carta\n",
    "6. ATK/DEF\n",
    "7. Descripción de la carta\n",
    "\n",
    "## Cómo leer una carta Mágica o de Trampa\n",
    "1. Nombre de la carta\n",
    "2. Tipo(Magia o Trampa)\n",
    "3. Ícono(Equipo, Campo, Juego rápido, Ritual, Continua, Contrafuego)\n",
    "4. Descripción de la carta\n",
    "5. Número de Carta\n",
    "\n",
    "# Como ganar un Duelo\n",
    "Cada jugador comienzo un duelo con 8000 LP. Gana un duelo si se cumplen las siguientes condiciones: \n",
    "1. Reduce los LIP de tu adversario a 0\n",
    "2. Su oponente no tiene más cartas que robar\n",
    "3. Gana con el efecto especial de una carta\n",
    "\n",
    "## Cartas\n",
    "\n",
    "### Cartas Monstruo\n",
    "1. Cartas de Monstruo Péndulo\n",
    "        Las cartas de monstruo de Pendulo puede ser invocadas como Cartas monstruos o mágicas.\n",
    "\n",
    "2. Cartas Monstruo de invocación XYZ\n",
    "        Los Materiales deben estar boca arriba para que pueda usarlo.\n",
    "\n",
    "3. Cartas Monstruo de Sincronía\n",
    "        Los Monstruos sincronian son invocados mandando una carta tipo Cantante al cementerio.\n",
    "\n",
    "4. Cartas Monstruos de Fusión\n",
    "        Los monstruos de fusión son invocados utilizando los monstruos especificos nombrados en la carta\n",
    "        combinados con una carta de invocación como \"Polimerización\".\n",
    "\n",
    "5. Cartas Monstruos de Ritual\n",
    "        Los monstruos de Ritual son monstruos especiales que son invocados de modo Especial con una carta\n",
    "        mágica de ritual especifica, además de un sacrificio requerido.\n",
    "\n",
    "6. Cartas Monstruos Normales\n",
    "\n",
    "### Cartas Mágicas\n",
    "1. Carta Mágica de Ritual\n",
    "        Estas cartas se usan para realizar invocaciones por ritual.\n",
    "\n",
    "2. Cartas Mágicas Continua\n",
    "        Estas cartas permanecen en el Campo una vez que han sido activadas, y su efecto continua mientras\n",
    "        la carta permanezca boca arriba en el campo.\n",
    "3. Cartas Mágicas de Equipo\n",
    "        Esta carta da un efecto extra a un monstruo boca arriba.\n",
    "4. Cartas Mágicas de Campo\n",
    "        Estas cartas van en tu Zona del Campo y permanecen ahí. Cada jugador puede tener 1 Carta Mágica \n",
    "        de Campo en su lado del Campo.Para usar otra Carta Mágica de Campo, manda al Cementerio a la que \n",
    "        tenías previamente. Muchos efectos de Cartas Mágicas de Campo se aplican a AMBOS jugadores.\n",
    "5. Cartas Mágicas de Juego rápido\n",
    "        Estas cartas mágicas, se pueden activar en cualquier fase.\n",
    "6. Carta Mágica normales\n",
    "\n",
    "### Carta Trampa\n",
    "A diferencia de las cartas mágicas estas se activa durante el turno de tu adversario.\n",
    "1. Cartas trampa Continua\n",
    "        Estas cartas se quedan en el campo una vez activadas\n",
    "2. Cartas trampa de Contraefecto\n",
    "        Estas cartas son activadas en respuesta de la activación de otra carta\n",
    "3. Cartas trampa normales"
   ]
  },
  {
   "cell_type": "markdown",
   "metadata": {},
   "source": [
    "# Creando las UriRef de las Cartas"
   ]
  },
  {
   "cell_type": "markdown",
   "metadata": {},
   "source": [
    "## Baraja de Inicio de Yugi"
   ]
  },
  {
   "cell_type": "markdown",
   "metadata": {},
   "source": [
    "### Monstruos"
   ]
  },
  {
   "cell_type": "code",
   "execution_count": 4,
   "metadata": {},
   "outputs": [],
   "source": [
    "Duende_Mistico= URIRef('https://www.db.yugioh-card.com/yugiohdb/card_search.action?ope=2&cid=4008')\n",
    "Diablillo_Salvaje= URIRef('https://www.db.yugioh-card.com/yugiohdb/card_search.action?ope=2&cid=4012')\n",
    "Dragon_Alado_Guardian_dela_Fortaleza = URIRef('https://www.db.yugioh-card.com/yugiohdb/card_search.action?ope=2&cid=4013')\n",
    "Craneo_Convocado = URIRef('https://www.db.yugioh-card.com/yugiohdb/card_search.action?ope=2&cid=4028')\n",
    "Guerrero_Castor= URIRef('https://www.db.yugioh-card.com/yugiohdb/card_search.action?ope=2&cid=4033')\n",
    "Mago_Oscuro = URIRef('https://www.db.yugioh-card.com/yugiohdb/card_search.action?ope=2&cid=4041')\n",
    "Gaia_Caballero_Feroz = URIRef('https://www.db.yugioh-card.com/yugiohdb/card_search.action?ope=2&cid=4044')\n",
    "Maldicion_de_Dragon = URIRef('https://www.db.yugioh-card.com/yugiohdb/card_search.action?ope=2&cid=4045')\n",
    "Guardian_Celta = URIRef('https://www.db.yugioh-card.com/yugiohdb/card_search.action?ope=2&cid=4047')\n",
    "Cementerio_de_Mamuts = URIRef('https://www.db.yugioh-card.com/yugiohdb/card_search.action?ope=2&cid=4065')\n",
    "Gran_Blanco = URIRef('https://www.db.yugioh-card.com/yugiohdb/card_search.action?ope=2&cid=4066')\n",
    "Colmillo_Plateado = URIRef('https://www.db.yugioh-card.com/yugiohdb/card_search.action?ope=2&cid=4071')\n",
    "Soldado_Gigante_de_Piedra = URIRef('https://www.db.yugioh-card.com/yugiohdb/card_search.action?ope=2&cid=4080')\n",
    "Zombie_de_Dragon = URIRef('https://www.db.yugioh-card.com/yugiohdb/card_search.action?ope=2&cid=4103')\n",
    "Doma_el_Angel_del_Silencio = URIRef('https://www.db.yugioh-card.com/yugiohdb/card_search.action?ope=2&cid=4117')\n",
    "Ansatsu = URIRef('https://www.db.yugioh-card.com/yugiohdb/card_search.action?ope=2&cid=4133')\n",
    "Fantasma_Ingenioso = URIRef('https://www.db.yugioh-card.com/yugiohdb/card_search.action?ope=2&cid=4142')\n",
    "Alcanzador_de_Garra = URIRef('https://www.db.yugioh-card.com/yugiohdb/card_search.action?ope=2&cid=4184')\n",
    "Payaso_Mistico = URIRef('https://www.db.yugioh-card.com/yugiohdb/card_search.action?ope=2&cid=4287')\n",
    "Duende_Antiguo = URIRef('https://www.db.yugioh-card.com/yugiohdb/card_search.action?ope=2&cid=4439')\n",
    "Fantasma_Magico = URIRef('https://www.db.yugioh-card.com/yugiohdb/card_search.action?ope=2&cid=4476')\n",
    "El_Mistico_Severo = URIRef('https://www.db.yugioh-card.com/yugiohdb/card_search.action?ope=2&cid=4879')\n",
    "Muro_de_Ilusion = URIRef('https://www.db.yugioh-card.com/yugiohdb/card_search.action?ope=2&cid=4880')\n",
    "Neo_el_Espadachin_Magico = URIRef('https://www.db.yugioh-card.com/yugiohdb/card_search.action?ope=2&cid=4881')\n",
    "Baron_dela_Espada_Demoniaca = URIRef('https://www.db.yugioh-card.com/yugiohdb/card_search.action?ope=2&cid=4882')\n",
    "Cofre_del_Tesoro_Devorahombres = URIRef('https://www.db.yugioh-card.com/yugiohdb/card_search.action?ope=2&cid=4883')\n",
    "Hechicero_delos_Condenados = URIRef('https://www.db.yugioh-card.com/yugiohdb/card_search.action?ope=2&cid=4884')\n",
    "Amo_de_Trampa = URIRef('https://www.db.yugioh-card.com/yugiohdb/card_search.action?ope=2&cid=4230')\n",
    "Insecto_Come_Hombres = URIRef('https://www.db.yugioh-card.com/yugiohdb/card_search.action?ope=2&cid=4507')"
   ]
  },
  {
   "cell_type": "markdown",
   "metadata": {},
   "source": [
    "### Cartas Mágicas"
   ]
  },
  {
   "cell_type": "code",
   "execution_count": 5,
   "metadata": {},
   "outputs": [],
   "source": [
    "Espada_dela_Destruccion_Oscura = URIRef('https://www.db.yugioh-card.com/yugiohdb/card_search.action?ope=2&cid=4308')\n",
    "Libro_de_Artes_Secretas = URIRef('https://www.db.yugioh-card.com/yugiohdb/card_search.action?ope=2&cid=4329')\n",
    "Agujero_Oscuro = URIRef('https://www.db.yugioh-card.com/yugiohdb/card_search.action?ope=2&cid=4342')\n",
    "DianKeto_el_Señor_dela_Curacion = URIRef('https://www.db.yugioh-card.com/yugiohdb/card_search.action?ope=2&cid=4348')\n",
    "Fisura = URIRef('https://www.db.yugioh-card.com/yugiohdb/card_search.action?ope=2&cid=4835')\n",
    "Exorcismo = URIRef('https://www.db.yugioh-card.com/yugiohdb/card_search.action?ope=2&cid=4843')\n",
    "Monstruo_Renacido = URIRef('https://www.db.yugioh-card.com/yugiohdb/card_search.action?ope=2&cid=4842')\n",
    "Cambio_de_Fidelidad = URIRef('https://www.db.yugioh-card.com/yugiohdb/card_search.action?ope=2&cid=4860')\n",
    "Ultima_Voluntad = URIRef('https://www.db.yugioh-card.com/yugiohdb/card_search.action?ope=2&cid=4885')\n",
    "Intercambio_de_Almas = URIRef('https://www.db.yugioh-card.com/yugiohdb/card_search.action?ope=2&cid=5099')\n",
    "Destruccion_dela_Carta = URIRef('https://www.db.yugioh-card.com/yugiohdb/card_search.action?ope=2&cid=4821')\n",
    "Yami = URIRef('https://www.db.yugioh-card.com/yugiohdb/card_search.action?ope=2&cid=4341')\n",
    "Trampa_de_Eliminacion = URIRef('https://www.db.yugioh-card.com/yugiohdb/card_search.action?ope=2&cid=4838')"
   ]
  },
  {
   "cell_type": "markdown",
   "metadata": {},
   "source": [
    "### Cartas Trampa"
   ]
  },
  {
   "cell_type": "code",
   "execution_count": 6,
   "metadata": {},
   "outputs": [],
   "source": [
    "Agujero_Trampa = URIRef('https://www.db.yugioh-card.com/yugiohdb/card_search.action?ope=2&cid=4836')\n",
    "Ataque_Doble_Flanqueado = URIRef('https://www.db.yugioh-card.com/yugiohdb/card_search.action?ope=2&cid=4839')\n",
    "Refuerzos = URIRef('https://www.db.yugioh-card.com/yugiohdb/card_search.action?ope=2&cid=4849')\n",
    "Waboku = URIRef('https://www.db.yugioh-card.com/yugiohdb/card_search.action?ope=2&cid=4886')\n",
    "Jarra_de_Captura_de_Dragones= URIRef('https://www.db.yugioh-card.com/yugiohdb/card_search.action?ope=2&cid=4335')\n",
    "Trampa_de_Inversion = URIRef('https://www.db.yugioh-card.com/yugiohdb/card_search.action?ope=2&cid=4695')\n",
    "Paredes_de_Castillo = URIRef('https://www.db.yugioh-card.com/yugiohdb/card_search.action?ope=2&cid=4850')\n",
    "Ofrenda_Final = URIRef('https://www.db.yugioh-card.com/yugiohdb/card_search.action?ope=2&cid=4851')"
   ]
  },
  {
   "cell_type": "markdown",
   "metadata": {},
   "source": [
    "# Creando namespace\n"
   ]
  },
  {
   "cell_type": "code",
   "execution_count": 7,
   "metadata": {},
   "outputs": [],
   "source": [
    "n =  Namespace('https://yugioh.fandom.com/es/wiki/')"
   ]
  },
  {
   "cell_type": "code",
   "execution_count": 8,
   "metadata": {},
   "outputs": [],
   "source": [
    "#TIPO DE CARTAS\n",
    "carta = URIRef(n.Carta)\n",
    "nombre = URIRef('type:name')\n",
    "nivel = URIRef(n.Nivel)\n",
    "#solo cartas tipo monstruo_xyz\n",
    "rango = URIRef (n.Rango)\n",
    "atributo = URIRef(n.Atributo)\n",
    "invocacion = URIRef(n.Invocacion)\n",
    "ataque = URIRef(n.ATK)\n",
    "defensa = URIRef(n.DEF)"
   ]
  },
  {
   "cell_type": "code",
   "execution_count": 12,
   "metadata": {},
   "outputs": [],
   "source": [
    "# Tipo de cartas\n",
    "carta_monstruo = URIRef('https://yugioh.fandom.com/es/wiki/Carta_de_Monstruo')\n",
    "carta_magica = URIRef('https://yugioh.fandom.com/es/wiki/Carta_M%C3%A1gica')\n",
    "carta_trampa = URIRef('https://yugioh.fandom.com/es/wiki/Carta_de_Trampa')\n",
    "\n",
    "#tipos de cartas monstruos\n",
    "monstruo_normal = URIRef('https://yugioh.fandom.com/es/wiki/Monstruo_Normal')\n",
    "monstruo_efecto  = URIRef('https://yugioh.fandom.com/es/wiki/Monstruo_de_Efecto')\n",
    "monstruo_de_ritual = URIRef('https://yugioh.fandom.com/es/wiki/Monstruo_de_Ritual')\n",
    "monstruo_de_fusion = URIRef('https://yugioh.fandom.com/es/wiki/Monstruo_de_Fusi%C3%B3n')\n",
    "monstruo_de_sincronia = URIRef('https://yugioh.fandom.com/es/wiki/Monstruo_de_Sincron%C3%ADa')\n",
    "monstruo_xyz = URIRef('https://yugioh.fandom.com/es/wiki/Monstruo_Xyz')\n",
    "monstruo_de_pendulo = URIRef('https://yugioh.fandom.com/es/wiki/Monstruo_de_P%C3%A9ndulo')\n",
    "\n",
    "#tipo de cartas magicas\n",
    "carta_magica_normal = URIRef('https://yugioh.fandom.com/es/wiki/Carta_M%C3%A1gica_Normal')\n",
    "carta_magica_continua = URIRef('https://yugioh.fandom.com/es/wiki/Carta_M%C3%A1gica_Continua')\n",
    "carta_magica_de_juego_rapido = URIRef('https://yugioh.fandom.com/es/wiki/Carta_M%C3%A1gica_de_Juego_R%C3%A1pido')\n",
    "carta_magica_de_campo = URIRef('https://yugioh.fandom.com/es/wiki/Carta_M%C3%A1gica_de_Campo')\n",
    "carta_magica_de_equipo = URIRef('https://yugioh.fandom.com/es/wiki/Carta_M%C3%A1gica_de_Equipo')\n",
    "carta_magica_de_ritual = URIRef('https://yugioh.fandom.com/es/wiki/Carta_M%C3%A1gica_de_Ritual')\n",
    "\n",
    "#tipo de carta trampa\n",
    "carta_trampa_normal = URIRef('https://yugioh.fandom.com/es/wiki/Carta_de_Trampa_Normal')\n",
    "carta_trampa_continua  = URIRef('https://yugioh.fandom.com/es/wiki/Carta_de_Trampa_Continua')\n",
    "carta_trampa_contraefecto = URIRef('https://yugioh.fandom.com/es/wiki/Carta_de_Trampa_de_Contraefecto')\n",
    "\n",
    "#atributos\n",
    "agua = URIRef('https://yugioh.fandom.com/es/wiki/AGUA')\n",
    "fuego = URIRef('https://yugioh.fandom.com/es/wiki/FUEGO')\n",
    "luz = URIRef('https://yugioh.fandom.com/es/wiki/LUZ')\n",
    "oscuridad = URIRef('https://yugioh.fandom.com/es/wiki/OSCURIDAD')\n",
    "tierra = URIRef('https://yugioh.fandom.com/es/wiki/TIERRA')\n",
    "viento = URIRef('https://yugioh.fandom.com/es/wiki/VIENTO')\n",
    "divinidad = URIRef('https://yugioh.fandom.com/es/wiki/DIVINIDAD')\n"
   ]
  },
  {
   "cell_type": "code",
   "execution_count": 9,
   "metadata": {},
   "outputs": [],
   "source": [
    "#tipo de invocacion(optional)\n",
    "inv_normal = URIRef('https://yugioh.fandom.com/es/wiki/Invocaci%C3%B3n_normal')\n",
    "inv_por_sacrificio = URIRef('https://yugioh.fandom.com/es/wiki/Invocaci%C3%B3n_de_Sacrificio')\n",
    "inv_por_volteo = URIRef('https://yugioh.fandom.com/es/wiki/Invocaci%C3%B3n_de_Volteo')\n",
    "inv_de_fusion = URIRef('https://yugioh.fandom.com/es/wiki/Invocaci%C3%B3n_de_Fusi%C3%B3n')\n",
    "inv_de_ritual = URIRef('https://yugioh.fandom.com/es/wiki/Invocaci%C3%B3n_de_Ritual')\n",
    "inv_de_sincronia = URIRef('https://yugioh.fandom.com/es/wiki/Invocaci%C3%B3n_de_Sincron%C3%ADa')\n",
    "inv_xyz = URIRef('https://yugioh.fandom.com/es/wiki/Invocaci%C3%B3n_Xyz')\n",
    "inv_pendulo = URIRef('https://yugioh.fandom.com/es/wiki/Invocaci%C3%B3n_por_P%C3%A9ndulo')\n",
    "\n",
    "#otros\n",
    "lp = URIRef('https://yugioh.fandom.com/es/wiki/LP')\n",
    "\n",
    "#posiciones al invocarse (por verse)\n",
    "pos_batalla = URIRef(n.Posicion_de_batalla)\n"
   ]
  },
  {
   "cell_type": "markdown",
   "metadata": {},
   "source": [
    "# Creando un objeto tipo RDF GRAPH"
   ]
  },
  {
   "cell_type": "code",
   "execution_count": 13,
   "metadata": {},
   "outputs": [],
   "source": [
    "RDF_GRAPH = ConjunctiveGraph()"
   ]
  },
  {
   "cell_type": "markdown",
   "metadata": {},
   "source": [
    "# Añadiendo las relaciones entre las clases"
   ]
  },
  {
   "cell_type": "code",
   "execution_count": 17,
   "metadata": {},
   "outputs": [],
   "source": [
    "tripletas_generales = [ \n",
    "             [carta, RDF.type, RDFS.Class],\n",
    "             [carta_monstruo, RDFS.subClassOf, carta],\n",
    "             [carta_magica, RDFS.subClassOf, carta],\n",
    "             [carta_trampa, RDFS.subClassOf, carta],\n",
    "             [monstruo_normal, RDFS.subClassOf, carta_monstruo],\n",
    "             [monstruo_efecto, RDFS.subClassOf, carta_monstruo],\n",
    "             [monstruo_de_ritual, RDFS.subClassOf, carta_monstruo],\n",
    "             [monstruo_de_fusion, RDFS.subClassOf, carta_monstruo],\n",
    "             [monstruo_de_sincronia, RDFS.subClassOf, carta_monstruo],\n",
    "             [monstruo_xyz, RDFS.subClassOf, carta_monstruo],\n",
    "             [monstruo_de_pendulo, RDFS.subClassOf, carta_monstruo],\n",
    "             [carta_magica_normal, RDFS.subClassOf, carta_magica],\n",
    "             [carta_magica_continua, RDFS.subClassOf, carta_magica],\n",
    "             [carta_magica_de_juego_rapido, RDFS.subClassOf, carta_magica],\n",
    "             [carta_magica_de_campo, RDFS.subClassOf, carta_magica],\n",
    "             [carta_magica_de_equipo, RDFS.subClassOf, carta_magica],\n",
    "             [carta_magica_de_ritual, RDFS.subClassOf, carta_magica],\n",
    "             [carta_trampa_normal, RDFS.subClassOf, carta_trampa],\n",
    "             [carta_trampa_continua, RDFS.subClassOf, carta_trampa],\n",
    "             [carta_trampa_contraefecto, RDFS.subClassOf, carta_trampa],\n",
    "             [agua, RDFS.subClassOf, atributo],\n",
    "             [fuego, RDFS.subClassOf, atributo],\n",
    "             [luz, RDFS.subClassOf, atributo],\n",
    "             [oscuridad, RDFS.subClassOf, atributo],\n",
    "             [tierra, RDFS.subClassOf, atributo],\n",
    "             [viento, RDFS.subClassOf, atributo],\n",
    "             [divinidad, RDFS.subClassOf, atributo],\n",
    "             [carta, RDFS.label, Literal('carta')],\n",
    "             [carta_magica, RDFS.label, Literal('carta mágica')],\n",
    "             [carta_trampa, RDFS.label, Literal('carta trampa')],\n",
    "             [monstruo_normal, RDFS.label, Literal('carta de monstruo normal')],\n",
    "             [monstruo_efecto, RDFS.label, Literal('carta de monstruo con efecto')],\n",
    "             [monstruo_de_ritual, RDFS.label, Literal('carta de monstruo de ritual')],\n",
    "             [monstruo_de_fusion, RDFS.label, Literal('carta de monstruo de fusión')],\n",
    "             [monstruo_de_sincronia, RDFS.label, Literal('carta de monstruo de sincronia')],\n",
    "             [monstruo_xyz, RDFS.label, Literal('carta de monstruo XYZ')],\n",
    "             [monstruo_de_pendulo, RDFS.label, Literal('carta de monstruo pendulo')],\n",
    "             [carta_magica_normal, RDFS.label, Literal('carta magica normal')],\n",
    "             [carta_magica_continua, RDFS.label, Literal('carta magica continua')],\n",
    "             [carta_magica_de_juego_rapido, RDFS.label, Literal('carta de juego rapido')],\n",
    "             [carta_magica_de_campo, RDFS.label, Literal('carta magica de campo')],\n",
    "             [carta_magica_de_equipo, RDFS.label, Literal('carta magica de equipo')],\n",
    "             [carta_magica_de_ritual, RDFS.label, Literal('carta magica de ritual')],\n",
    "             [carta_trampa_normal, RDFS.label, Literal('carta trampa normal')],\n",
    "             [carta_trampa_continua, RDFS.label, Literal('carta trampa continua')],\n",
    "             [carta_trampa_contraefecto, RDFS.label, Literal('carta trampa contrafecto')],\n",
    "             [agua, RDFS.label, Literal('agua')],\n",
    "             [fuego, RDFS.label, Literal('fuego')],\n",
    "             [luz, RDFS.label, Literal('luz')],\n",
    "             [oscuridad, RDFS.label, Literal('oscuridad')],\n",
    "             [tierra, RDFS.label, Literal('tierra')],\n",
    "             [viento, RDFS.label, Literal('viento')],\n",
    "             [divinidad, RDFS.label, Literal('divinidad')],\n",
    "            ]\n"
   ]
  },
  {
   "cell_type": "markdown",
   "metadata": {},
   "source": [
    "# Añadiendo las tripletas principales"
   ]
  },
  {
   "cell_type": "code",
   "execution_count": 15,
   "metadata": {},
   "outputs": [],
   "source": [
    "def add_triple(graph,arr):\n",
    "    for tripleta in arr:\n",
    "        graph.add((tripleta[0],tripleta[1],tripleta[2]))\n",
    "    return graph\n"
   ]
  },
  {
   "cell_type": "code",
   "execution_count": null,
   "metadata": {},
   "outputs": [],
   "source": []
  },
  {
   "cell_type": "code",
   "execution_count": 16,
   "metadata": {},
   "outputs": [],
   "source": [
    "RDF_GRAPH = add_triple( RDF_GRAPH, tripletas_generales)"
   ]
  },
  {
   "cell_type": "markdown",
   "metadata": {},
   "source": [
    "# Recorriendo el grafo"
   ]
  },
  {
   "cell_type": "code",
   "execution_count": 19,
   "metadata": {},
   "outputs": [
    {
     "name": "stdout",
     "output_type": "stream",
     "text": [
      "carta de juego rapido\n",
      "carta de monstruo de fusión\n",
      "carta de monstruo con efecto\n",
      "https://yugioh.fandom.com/es/wiki/Atributo\n",
      "carta de monstruo de sincronia\n",
      "carta de monstruo XYZ\n",
      "https://yugioh.fandom.com/es/wiki/Carta_de_Monstruo\n",
      "agua\n",
      "https://yugioh.fandom.com/es/wiki/Carta_M%C3%A1gica\n",
      "oscuridad\n",
      "carta magica de equipo\n",
      "carta magica continua\n",
      "https://yugioh.fandom.com/es/wiki/Carta_M%C3%A1gica\n",
      "carta trampa\n",
      "divinidad\n",
      "https://yugioh.fandom.com/es/wiki/Carta_M%C3%A1gica\n",
      "https://yugioh.fandom.com/es/wiki/Carta_de_Trampa\n",
      "carta magica normal\n",
      "https://yugioh.fandom.com/es/wiki/Carta_M%C3%A1gica\n",
      "https://yugioh.fandom.com/es/wiki/Carta_M%C3%A1gica\n",
      "https://yugioh.fandom.com/es/wiki/Carta_de_Monstruo\n",
      "https://yugioh.fandom.com/es/wiki/Carta_de_Monstruo\n",
      "https://yugioh.fandom.com/es/wiki/Carta\n",
      "https://yugioh.fandom.com/es/wiki/Carta_M%C3%A1gica\n",
      "https://yugioh.fandom.com/es/wiki/Carta\n",
      "https://yugioh.fandom.com/es/wiki/Carta_de_Monstruo\n",
      "https://yugioh.fandom.com/es/wiki/Carta_de_Trampa\n",
      "https://yugioh.fandom.com/es/wiki/Carta_de_Monstruo\n",
      "https://yugioh.fandom.com/es/wiki/Carta_de_Trampa\n",
      "https://yugioh.fandom.com/es/wiki/Atributo\n",
      "carta magica de campo\n",
      "carta de monstruo normal\n",
      "fuego\n",
      "viento\n",
      "https://yugioh.fandom.com/es/wiki/Atributo\n",
      "carta de monstruo de ritual\n",
      "carta mágica\n",
      "carta trampa normal\n",
      "carta\n",
      "https://yugioh.fandom.com/es/wiki/Carta_de_Monstruo\n",
      "https://yugioh.fandom.com/es/wiki/Atributo\n",
      "carta trampa contrafecto\n",
      "tierra\n",
      "carta de monstruo pendulo\n",
      "https://yugioh.fandom.com/es/wiki/Carta\n",
      "carta magica de ritual\n",
      "https://yugioh.fandom.com/es/wiki/Atributo\n",
      "https://yugioh.fandom.com/es/wiki/Atributo\n",
      "https://yugioh.fandom.com/es/wiki/Carta_de_Monstruo\n",
      "https://yugioh.fandom.com/es/wiki/Atributo\n",
      "carta trampa continua\n",
      "luz\n"
     ]
    }
   ],
   "source": [
    "# recorrer cada triple en el gráfico (subj, pred, obj)\n",
    "for index, (sub, pred, obj) in enumerate(RDF_GRAPH):\n",
    "    #print(sub, pred, obj)\n",
    "    print(obj)"
   ]
  },
  {
   "cell_type": "code",
   "execution_count": null,
   "metadata": {},
   "outputs": [],
   "source": []
  }
 ],
 "metadata": {
  "kernelspec": {
   "display_name": "Python 3",
   "language": "python",
   "name": "python3"
  },
  "language_info": {
   "codemirror_mode": {
    "name": "ipython",
    "version": 3
   },
   "file_extension": ".py",
   "mimetype": "text/x-python",
   "name": "python",
   "nbconvert_exporter": "python",
   "pygments_lexer": "ipython3",
   "version": "3.9.1"
  }
 },
 "nbformat": 4,
 "nbformat_minor": 4
}
