{
 "cells": [
  {
   "cell_type": "code",
   "execution_count": 2,
   "metadata": {},
   "outputs": [
    {
     "name": "stdout",
     "output_type": "stream",
     "text": [
      "Requirement already satisfied: requests in /home/renzoqamao/my_project_dir/my_project_env/lib/python3.8/site-packages (2.25.1)\n",
      "Requirement already satisfied: urllib3<1.27,>=1.21.1 in /home/renzoqamao/my_project_dir/my_project_env/lib/python3.8/site-packages (from requests) (1.26.3)\n",
      "Requirement already satisfied: chardet<5,>=3.0.2 in /home/renzoqamao/my_project_dir/my_project_env/lib/python3.8/site-packages (from requests) (4.0.0)\n",
      "Requirement already satisfied: certifi>=2017.4.17 in /home/renzoqamao/my_project_dir/my_project_env/lib/python3.8/site-packages (from requests) (2020.12.5)\n",
      "Requirement already satisfied: idna<3,>=2.5 in /home/renzoqamao/my_project_dir/my_project_env/lib/python3.8/site-packages (from requests) (2.10)\n",
      "Requirement already satisfied: bs4 in /home/renzoqamao/my_project_dir/my_project_env/lib/python3.8/site-packages (0.0.1)\n",
      "Requirement already satisfied: beautifulsoup4 in /home/renzoqamao/my_project_dir/my_project_env/lib/python3.8/site-packages (from bs4) (4.9.3)\n",
      "Requirement already satisfied: soupsieve>1.2 in /home/renzoqamao/my_project_dir/my_project_env/lib/python3.8/site-packages (from beautifulsoup4->bs4) (2.2.1)\n",
      "Requirement already satisfied: beautifulsoup4 in /home/renzoqamao/my_project_dir/my_project_env/lib/python3.8/site-packages (4.9.3)\n",
      "Requirement already satisfied: soupsieve>1.2 in /home/renzoqamao/my_project_dir/my_project_env/lib/python3.8/site-packages (from beautifulsoup4) (2.2.1)\n",
      "Requirement already satisfied: lxml in /home/renzoqamao/my_project_dir/my_project_env/lib/python3.8/site-packages (4.6.3)\n",
      "Requirement already satisfied: html5lib in /home/renzoqamao/my_project_dir/my_project_env/lib/python3.8/site-packages (1.1)\n",
      "Requirement already satisfied: six>=1.9 in /home/renzoqamao/my_project_dir/my_project_env/lib/python3.8/site-packages (from html5lib) (1.15.0)\n",
      "Requirement already satisfied: webencodings in /home/renzoqamao/my_project_dir/my_project_env/lib/python3.8/site-packages (from html5lib) (0.5.1)\n"
     ]
    }
   ],
   "source": [
    "!pip install requests\n",
    "!pip install bs4\n",
    "!pip install beautifulsoup4\n",
    "!pip install lxml\n",
    "!pip install html5lib"
   ]
  },
  {
   "cell_type": "markdown",
   "metadata": {},
   "source": [
    "# Importamos las librerias que vamos a necesitar Para el Web Scrapping"
   ]
  },
  {
   "cell_type": "code",
   "execution_count": 2,
   "metadata": {},
   "outputs": [],
   "source": [
    "import requests\n",
    "from bs4 import BeautifulSoup\n",
    "from lxml import etree\n",
    "import bs4"
   ]
  },
  {
   "cell_type": "markdown",
   "metadata": {},
   "source": [
    "## Importamos url base"
   ]
  },
  {
   "cell_type": "code",
   "execution_count": 3,
   "metadata": {},
   "outputs": [],
   "source": [
    "baseurl ='https://statsroyale.com/es'"
   ]
  },
  {
   "cell_type": "markdown",
   "metadata": {},
   "source": [
    "Conseguimos un agente de usuario que pueda enviar con cada solicitud, por lo qque de \n",
    "forma predeterminada cuando el usuario solicita si envia a una pagina el agente de \n",
    "usuario es la solicitud de Python y creo que eso puede obtener mas bloques a menudo, así\n",
    "que en realidad vamos a anular y eligí este aqui desde este sitio web es común que se envíe y diga que estamos en windows y estamso usando MOZILLA \n"
   ]
  },
  {
   "cell_type": "code",
   "execution_count": 4,
   "metadata": {},
   "outputs": [],
   "source": [
    "headers ={'User-Agent':'Mozilla/5.0 (iPhone; CPU iPhone OS 10_0 like Mac OS X) AppleWebKit/602.4.6 (KHTML, like Gecko) Version/10.0 Mobile/14A346 Safari/E7FBAF'}"
   ]
  },
  {
   "cell_type": "markdown",
   "metadata": {},
   "source": [
    "Ponemos la URL  de la web de donde comenzaremos a sacar la informacion "
   ]
  },
  {
   "cell_type": "code",
   "execution_count": 5,
   "metadata": {},
   "outputs": [],
   "source": [
    "r = requests.get('https://statsroyale.com/es/cards')"
   ]
  },
  {
   "cell_type": "markdown",
   "metadata": {},
   "source": [
    "usamos beatifulsoup para obtener todo de la pagina y voy a usar el analizador XML earle en "
   ]
  },
  {
   "cell_type": "code",
   "execution_count": 6,
   "metadata": {},
   "outputs": [],
   "source": [
    "soup = BeautifulSoup(r.content, 'lxml')"
   ]
  },
  {
   "cell_type": "markdown",
   "metadata": {},
   "source": [
    "Extraemos todos los link que encontramos que se relacionan directamente con la informacion que queremos extraer"
   ]
  },
  {
   "cell_type": "code",
   "execution_count": 7,
   "metadata": {},
   "outputs": [],
   "source": [
    "cardlist =soup.find_all('div',class_=\"cards__card\")"
   ]
  },
  {
   "cell_type": "markdown",
   "metadata": {},
   "source": [
    "guardamos los links"
   ]
  },
  {
   "cell_type": "code",
   "execution_count": 8,
   "metadata": {},
   "outputs": [],
   "source": [
    "cardlinks =[]\n",
    "for item in cardlist:\n",
    "    for link in item.find_all('a', href= True): \n",
    "        cardlinks.append(link['href'])"
   ]
  },
  {
   "cell_type": "markdown",
   "metadata": {},
   "source": [
    "Verificamos la cantidad de link que extraemos "
   ]
  },
  {
   "cell_type": "code",
   "execution_count": 9,
   "metadata": {},
   "outputs": [
    {
     "name": "stdout",
     "output_type": "stream",
     "text": [
      "Numero de links: 102\n"
     ]
    }
   ],
   "source": [
    "print('Numero de links:',len(cardlinks))"
   ]
  },
  {
   "cell_type": "markdown",
   "metadata": {},
   "source": [
    "En esta parte se comienza a extraer la informaciond de cada carta "
   ]
  },
  {
   "cell_type": "code",
   "execution_count": 10,
   "metadata": {},
   "outputs": [],
   "source": [
    "lista_diccionario = []"
   ]
  },
  {
   "cell_type": "markdown",
   "metadata": {},
   "source": [
    "### Lista de atributos que se extraeran:\n",
    "    Nombre                             name\n",
    "    Nivel                              level\n",
    "    Calidad                            quality\n",
    "    Objetivo                           objective\n",
    "    Alcance                            scope\n",
    "    Velocidad                          speed\n",
    "    Radio                              radio\n",
    "    Tiempo de vida                     time of life\n",
    "    Puntos de vida                     Life points\n",
    "    Daño                               Hurt\n",
    "    Daño\\s                             Damage\n",
    "    Daño de área                       Area damage"
   ]
  },
  {
   "cell_type": "code",
   "execution_count": 11,
   "metadata": {},
   "outputs": [],
   "source": [
    "for link in cardlinks:\n",
    "    r = requests.get(link, headers = headers)\n",
    "    soup = BeautifulSoup(r.content,'lxml')\n",
    "    #####################################################\n",
    "    #Creamos variables de aquella informacion que no tiene una clase ni etiqueta que los distinga \n",
    "    # ademas que puede o no que existan estas variable en cada uno de los links\n",
    "    lifepoints = 'None'\n",
    "    hurt = 'None'\n",
    "    damage = 'None'\n",
    "    areadamage = 'None'\n",
    "    leve = soup.find('tbody')\n",
    "    \n",
    "    try:\n",
    "        #recorremos todos los valores de etiqueta con la clase CARD_TABLEVALUES\n",
    "        for item in leve.find_all('tr',class_='card__tableValues'):\n",
    "            if 'Puntos de vida'== item.find('strong').text.strip():\n",
    "                lifepoints = item.find('td',class_ ='card__tableValue card__isActive').text.strip()\n",
    "            if 'Daño'== item.find('strong').text.strip():\n",
    "                hurt = item.find('td',class_ ='card__tableValue card__isActive').text.strip()\n",
    "            if 'Daño/s'== item.find('strong').text.strip():\n",
    "                damage = item.find('td',class_ ='card__tableValue card__isActive').text.strip()\n",
    "            if 'Daño de área' == item.find('strong').text.strip():\n",
    "                areadamage = item.find('td',class_ ='card__tableValue card__isActive').text.strip()\n",
    "            #print(type(item.find('strong').text.strip()))\n",
    "            #print(item.find('strong').text.strip(), item.find('td',class_ ='card__tableValue card__isActive').text.strip())\n",
    "            #print(item.find('td',class_ ='card__tableValue card__isActive').text)\n",
    "    except:\n",
    "        lifepoints = 'None'\n",
    "        hurt = 'None'\n",
    "        damage = 'None'\n",
    "        areadamage = 'None'\n",
    "####################################################################\n",
    "\n",
    "    name =soup.find('div',class_='ui__headerMedium card__cardName').text.strip()\n",
    "    try:\n",
    "        level = soup.find('th', class_='card__tableHeader card__isActiveHeader').text.strip()\n",
    "    except:\n",
    "        level = 'None'\n",
    "    try:\n",
    "        quality = soup.find('span',class_='card__rare').text.strip()\n",
    "    except:\n",
    "        try:\n",
    "            quality = soup.find('span',class_='card__legendary').text.strip()\n",
    "        except:\n",
    "            try:\n",
    "                quality = soup.find('span',class_='card__epic').text.strip()\n",
    "            except:\n",
    "                try:\n",
    "                    quality = soup.find('span',class_='card__common').text.strip()\n",
    "                except:\n",
    "                    quality = 'None'\n",
    "    try:\n",
    "        objective = soup.find('div', class_='card__metric card__target').find('div',class_='ui__mediumText card__count').text.strip()\n",
    "    except:\n",
    "        objective = 'None'\n",
    "    try:\n",
    "        scope = soup.find('div',class_='card__metric card__range').find('div',class_='ui__mediumText card__count').text.strip()\n",
    "    except:\n",
    "        scope = 'None'\n",
    "    try:\n",
    "        speed = soup.find('div',class_ ='card__metric card__movementSpeed').find('div',class_='ui__mediumText card__count').text.strip()\n",
    "    except:\n",
    "        speed = 'None'\n",
    "    try:\n",
    "        radio = soup.find('div',class_='card__metric card__radius').find('div',class_='ui__mediumText card__count').text.strip()\n",
    "    except:\n",
    "        radio = 'None'\n",
    "    try:\n",
    "        timeoflife = soup.find('div',class_ = 'card__metric card__durationLifetime').find('div',class_='ui__mediumText card__count').text.strip()\n",
    "    except:\n",
    "        timeoflife = 'None'\n",
    "#Creamos la estructura del diccionario\n",
    "    CARDS ={\n",
    "        'name':name,\n",
    "        'level':level,\n",
    "        'quality':quality,\n",
    "        'objective': objective,\n",
    "        'scope':scope,\n",
    "        'speed':speed,\n",
    "        'radio': radio,\n",
    "        'timeoflife':timeoflife,\n",
    "        ######################################\n",
    "        'lifepoints' : lifepoints,\n",
    "        'hurt' : hurt,\n",
    "        'damage' : damage,\n",
    "        'areadamage' : areadamage,\n",
    "        'link':link\n",
    "    }\n",
    "    #guardamos los diccionarios en una lista\n",
    "    lista_diccionario.append(CARDS)"
   ]
  },
  {
   "cell_type": "markdown",
   "metadata": {},
   "source": [
    "Verificamos la cantidad de diccionarios en la lista"
   ]
  },
  {
   "cell_type": "code",
   "execution_count": 12,
   "metadata": {},
   "outputs": [
    {
     "name": "stdout",
     "output_type": "stream",
     "text": [
      "102\n"
     ]
    }
   ],
   "source": [
    "# Número de Cartas\n",
    "print(len(lista_diccionario))"
   ]
  },
  {
   "cell_type": "markdown",
   "metadata": {},
   "source": [
    "# Modelando Grafo"
   ]
  },
  {
   "cell_type": "code",
   "execution_count": 13,
   "metadata": {},
   "outputs": [
    {
     "name": "stdout",
     "output_type": "stream",
     "text": [
      "Requirement already satisfied: rdflib in c:\\users\\jose-\\python\\python39\\lib\\site-packages (5.0.0)WARNING: You are using pip version 21.0.1; however, version 21.1.1 is available.\n",
      "You should consider upgrading via the 'c:\\users\\jose-\\python\\python39\\python.exe -m pip install --upgrade pip' command.\n",
      "\n",
      "Requirement already satisfied: pyparsing in c:\\users\\jose-\\python\\python39\\lib\\site-packages (from rdflib) (2.4.7)\n",
      "Requirement already satisfied: six in c:\\users\\jose-\\appdata\\roaming\\python\\python39\\site-packages (from rdflib) (1.15.0)\n",
      "Requirement already satisfied: isodate in c:\\users\\jose-\\python\\python39\\lib\\site-packages (from rdflib) (0.6.0)\n"
     ]
    }
   ],
   "source": [
    "# instalando rdflib \n",
    "!pip3 install rdflib"
   ]
  },
  {
   "cell_type": "code",
   "execution_count": 14,
   "metadata": {},
   "outputs": [],
   "source": [
    "# Nodos \n",
    "from rdflib import URIRef, BNode, Literal\n",
    "# Namespace \n",
    "from rdflib import Namespace\n",
    "# Crear grafos\n",
    "from rdflib.namespace import RDF, RDFS\n",
    "# Instaciar una clase de grafo \n",
    "from rdflib import ConjunctiveGraph\n",
    "import pprint"
   ]
  },
  {
   "cell_type": "markdown",
   "metadata": {},
   "source": [
    "## Clash Royale\n",
    "Clash Royale es el juego de lucha de ritmo rápido en el que recolectas cartas y luchas contra otros jugadores en tiempo real. Defiende tus torres y destruye las de tu enemigo para ganar la partida.\n",
    "## Cartas\n",
    "#### Características:\n",
    "- Nombre de la carta             \n",
    "- Nivel                           \n",
    "- Tipo de carta                       \n",
    "- Objetivo                      \n",
    "- Velocidad                                  \n",
    "- Radio \n",
    "- Tiempo de vida                  \n",
    "- Puntos de vida\n",
    "- Daño\n",
    "- Daño\\s   \n",
    "- Daño de área \n",
    "\n",
    "#### Tipo de Cartas:\n",
    "1. Tropa\n",
    "2. Estructura\n",
    "3. Hechizo"
   ]
  },
  {
   "cell_type": "code",
   "execution_count": 15,
   "metadata": {},
   "outputs": [
    {
     "name": "stdout",
     "output_type": "stream",
     "text": [
      "dict_keys(['name', 'level', 'quality', 'objective', 'scope', 'speed', 'radio', 'timeoflife', 'lifepoints', 'hurt', 'damage', 'areadamage', 'link'])\n"
     ]
    }
   ],
   "source": [
    "caracteristicas = lista_diccionario[1].keys()\n",
    "print(caracteristicas)"
   ]
  },
  {
   "cell_type": "code",
   "execution_count": 16,
   "metadata": {},
   "outputs": [],
   "source": [
    "#import pandas as pd\n",
    "#from rdfpandas.graph import to_graph\n",
    "#df = pd.DataFrame(lista_diccionario, columns = caracteristicas)\n",
    "#print(df.set_index('name'))\n",
    "#for dic in lista_diccionario[]:\n",
    " #   print(dic)"
   ]
  },
  {
   "cell_type": "markdown",
   "metadata": {},
   "source": [
    "# TEST\n",
    "busqueda = 'name'\n",
    "for dic in lista_diccionario[:71]:\n",
    "    print(dic['name'],\":\",dic[busqueda])"
   ]
  },
  {
   "cell_type": "markdown",
   "metadata": {},
   "source": [
    "# TEST\n",
    "for dic in lista_diccionario[71:83]:\n",
    "    print(dic['name'],\":\",dic[busqueda])"
   ]
  },
  {
   "cell_type": "markdown",
   "metadata": {},
   "source": [
    "# TEST \n",
    "for dic in lista_diccionario[83:]:\n",
    "    print(dic['name'],\":\",dic[busqueda])"
   ]
  },
  {
   "cell_type": "markdown",
   "metadata": {},
   "source": [
    "# Clases Extra \n",
    "## tropa\n",
    "    1. Duendes\n",
    "    2. Gigantes\n",
    "    3. dragones\n",
    "    4. principes\n",
    "    5. otros\n",
    "## estructuras\n",
    "    1. Chozas\n",
    "    2. Torres\n",
    "    3. Invocadores\n",
    "## Hechizos\n",
    "    1. nada."
   ]
  },
  {
   "cell_type": "code",
   "execution_count": 17,
   "metadata": {},
   "outputs": [],
   "source": [
    "n = Namespace(\"https://statsroyale.com/es/\")"
   ]
  },
  {
   "cell_type": "code",
   "execution_count": 18,
   "metadata": {},
   "outputs": [],
   "source": [
    "# Insertando las URIs de la clase: Característica\n",
    "name = n.name\n",
    "level = n.level\n",
    "quality = n.quality\n",
    "objective = n.objective\n",
    "scope = n.scope\n",
    "speed = n.speed\n",
    "radio = n.radio\n",
    "timeoflife = n.timeoflife\n",
    "lifepoints = n.lifepoints\n",
    "hurt = n.hurt\n",
    "damage = n.damage\n",
    "areadamage = n.areadamage\n",
    "\n",
    "# tipos de Quality \n",
    "rare = n.rare\n",
    "epic = n.epic\n",
    "common = n.common\n",
    "legendary = n.legendary\n",
    "\n",
    "# tipos de objective\n",
    "\n",
    "groundandair = n.groundandair\n",
    "building = n.building\n",
    "ground = n.ground\n",
    "\n",
    "# tipos de scope\n",
    "melee = n.melee\n",
    "low = n.low\n",
    "high = n.high\n",
    "\n",
    "# tipos de speed\n",
    "slow = n.slow\n",
    "medium = n.medium\n",
    "fast = n.fast\n",
    "veryfast = n.veryfast\n",
    "\n"
   ]
  },
  {
   "cell_type": "code",
   "execution_count": 19,
   "metadata": {},
   "outputs": [
    {
     "name": "stdout",
     "output_type": "stream",
     "text": [
      "[a rdflib:ConjunctiveGraph;rdflib:storage [a rdflib:Store;rdfs:label 'IOMemory']]\n"
     ]
    }
   ],
   "source": [
    "#g = to_graph(df)\n",
    "g= ConjunctiveGraph()\n",
    "print(g)"
   ]
  },
  {
   "cell_type": "code",
   "execution_count": 20,
   "metadata": {},
   "outputs": [],
   "source": [
    "# Creando las subclases de clase maestra: Objeto y subclases sucesoras\n",
    "g.add((n.troop, RDFS.subClassOf, n.card))\n",
    "g.add((n.build, RDFS.subClassOf, n.card))\n",
    "g.add((n.spell, RDFS.subClassOf, n.card))\n",
    "\n",
    "g.add([rare ,RDFS.subPropertyOf, quality ])\n",
    "g.add([epic ,RDFS.subPropertyOf, quality ])\n",
    "g.add([common ,RDFS.subPropertyOf, quality ])\n",
    "g.add([legendary ,RDFS.subPropertyOf, quality ])\n",
    "\n",
    "\n",
    "g.add([groundandair , RDFS.subPropertyOf, objective ])\n",
    "g.add([building , RDFS.subPropertyOf, objective ])\n",
    "g.add([ground , RDFS.subPropertyOf, objective ])\n",
    "\n",
    "g.add([melee ,RDFS.subPropertyOf, scope ])\n",
    "g.add([low ,RDFS.subPropertyOf, scope ])\n",
    "g.add([high ,RDFS.subPropertyOf, scope ])\n",
    "\n",
    "g.add([slow ,RDFS.subPropertyOf, speed ])\n",
    "g.add([medium ,RDFS.subPropertyOf, speed ])\n",
    "g.add([fast ,RDFS.subPropertyOf, speed ])\n",
    "g.add([veryfast ,RDFS.subPropertyOf, speed ])"
   ]
  },
  {
   "cell_type": "code",
   "execution_count": 21,
   "metadata": {},
   "outputs": [],
   "source": [
    "# Subpropiedades de la clase Caracteristica\n",
    "#g.add([name, RDFS.subPropertyOf, n.characteristic])\n",
    "#g.add([level, RDFS.subPropertyOf, n.characteristic])\n",
    "g.add([quality, RDFS.subPropertyOf, n.characteristic])\n",
    "g.add([objective, RDFS.subPropertyOf, n.characteristic])\n",
    "g.add([scope, RDFS.subPropertyOf, n.characteristic])\n",
    "g.add([speed, RDFS.subPropertyOf, n.characteristic])\n",
    "g.add([radio, RDFS.subPropertyOf, n.characteristic])\n",
    "g.add([timeoflife, RDFS.subPropertyOf, n.characteristic])\n",
    "g.add([lifepoints, RDFS.subPropertyOf, n.characteristic])\n",
    "g.add([hurt, RDFS.subPropertyOf, n.characteristic])\n",
    "g.add([damage, RDFS.subPropertyOf, n.characteristic])\n",
    "g.add([areadamage, RDFS.subPropertyOf, n.characteristic])\n",
    "\n",
    "#propiedades dominios y rango\n",
    "g.add([timeoflife, RDFS.domain, n.spell ])\n",
    "g.add([timeoflife, RDFS.domain, n.build ])\n",
    "\n",
    "\n"
   ]
  },
  {
   "cell_type": "code",
   "execution_count": 22,
   "metadata": {},
   "outputs": [],
   "source": [
    "# caracteristicas como etiquetas\n",
    "#g.add([name, RDFS.subPropertyOf, RDFS.label])\n",
    "#g.add([level, RDFS.subPropertyOf, RDFS.label])\n",
    "#g.add([quality, RDFS.subPropertyOf, RDFS.label])\n",
    "#g.add([objective, RDFS.subPropertyOf, RDFS.label])\n",
    "#g.add([scope, RDFS.subPropertyOf, RDFS.label])\n",
    "#g.add([speed, RDFS.subPropertyOf, RDFS.label])\n",
    "#g.add([radio, RDFS.subPropertyOf, RDFS.label])\n",
    "#g.add([timeoflife, RDFS.subPropertyOf, RDFS.label])\n",
    "#g.add([lifepoints, RDFS.subPropertyOf, RDFS.label])\n",
    "#g.add([hurt, RDFS.subPropertyOf, RDFS.label])\n",
    "#g.add([damage, RDFS.subPropertyOf, RDFS.label])\n",
    "#g.add([areadamage, RDFS.subPropertyOf, RDFS.label])\n",
    "\n",
    "# nombres de las clases principales\n",
    "g.add([n.card, name , Literal('cartas')])\n",
    "g.add([n.troop, name , Literal('tropas')])\n",
    "g.add([n.build, name , Literal('estructuras')])\n",
    "g.add([n.spell, name , Literal('hechizos')])\n",
    "g.add([n.charasteristic, name, Literal('caracteristicas')])\n",
    "\n",
    "# nombre de los tipos\n",
    "g.add([rare , name, Literal('Especial')])\n",
    "g.add([epic , name, Literal('Epico')])\n",
    "g.add([common , name, Literal('común') ])\n",
    "g.add([legendary , name, Literal('Legendaria') ])\n",
    "\n",
    "\n",
    "g.add([groundandair , name, Literal('De tierra y aire') ])\n",
    "g.add([building , name, Literal('Estructura') ])\n",
    "g.add([ground , name, Literal('Ground') ])\n",
    "\n",
    "g.add([melee , name, Literal('Cuerpo a cuerpo') ])\n",
    "g.add([low , name, Literal('Bajo') ])\n",
    "g.add([high , name, Literal('Alto') ])\n",
    "\n",
    "g.add([slow , name, Literal('Baja')])\n",
    "g.add([medium , name, Literal('Media') ])\n",
    "g.add([fast , name, Literal('Alta') ])\n",
    "g.add([veryfast , name, Literal('Muy Alta') ])"
   ]
  },
  {
   "cell_type": "markdown",
   "metadata": {},
   "source": [
    "# Funciones de transformación"
   ]
  },
  {
   "cell_type": "code",
   "execution_count": 23,
   "metadata": {},
   "outputs": [],
   "source": [
    "\n",
    "def fun_quality(statement):\n",
    "    if(statement == 'Especial'):\n",
    "        return rare\n",
    "    if(statement == 'Épica'):\n",
    "        return epic\n",
    "    if(statement == 'Común'):\n",
    "        return common\n",
    "    if(statement == 'Legendaria'):\n",
    "        return legendary"
   ]
  },
  {
   "cell_type": "code",
   "execution_count": 24,
   "metadata": {},
   "outputs": [],
   "source": [
    "def fun_objective(statement):\n",
    "    if(statement == 'De tierra y aire'):\n",
    "        return groundandair\n",
    "    if(statement == 'Estructuras'):\n",
    "        return building\n",
    "    if(statement == 'Terrestres'):\n",
    "        return ground"
   ]
  },
  {
   "cell_type": "code",
   "execution_count": 25,
   "metadata": {},
   "outputs": [],
   "source": [
    "def fun_scope(statement):\n",
    "    if(statement == 'Cuerpo a cuerpo'):\n",
    "        return melee\n",
    "    else:\n",
    "        num = float(statement)\n",
    "        if(num < 8.0):\n",
    "            return low\n",
    "        else:\n",
    "            return high"
   ]
  },
  {
   "cell_type": "code",
   "execution_count": 26,
   "metadata": {},
   "outputs": [],
   "source": [
    "def fun_speed(statement):\n",
    "    if(statement=='Baja'):\n",
    "        return slow\n",
    "    if(statement=='Media'):\n",
    "        return medium\n",
    "    if(statement=='Alta'):\n",
    "        return fast\n",
    "    if(statement=='Muy alta'):\n",
    "        return veryfast"
   ]
  },
  {
   "cell_type": "markdown",
   "metadata": {},
   "source": [
    "# TEST\n",
    "busqueda = 'speed'\n",
    "i=0\n",
    "for dic in lista_diccionario:\n",
    "    i=i+1\n",
    "    print(i)\n",
    "    if(dic[busqueda]!= 'None'):\n",
    "        print(dic['name'],\":\",fun_speed(dic[busqueda]))"
   ]
  },
  {
   "cell_type": "code",
   "execution_count": 27,
   "metadata": {},
   "outputs": [],
   "source": [
    "# Instanciando Cartas Tropas\n",
    "\n",
    "for diccionario in lista_diccionario[:71]:\n",
    "    g.add((URIRef(diccionario['link']), RDF.type, n.troop))\n",
    "    g.add((URIRef(diccionario['link']), name, Literal(diccionario['name'])))\n",
    "    if (diccionario['level']!= 'None'):\n",
    "        g.add((URIRef(diccionario['link']), level, Literal(diccionario['level'])))\n",
    "    if (diccionario['quality']!= 'None'):\n",
    "        g.add((URIRef(diccionario['link']), quality, fun_quality(diccionario['quality'])))\n",
    "    if (diccionario['objective']!= 'None'):\n",
    "        g.add((URIRef(diccionario['link']), objective, fun_objective(diccionario['objective'])))\n",
    "    if (diccionario['scope']!= 'None'):\n",
    "        g.add((URIRef(diccionario['link']), scope, fun_scope(diccionario['scope'])))\n",
    "    if (diccionario['speed']!= 'None'):\n",
    "        g.add((URIRef(diccionario['link']), speed, fun_speed(diccionario['speed'])))\n",
    "    if (diccionario['radio']!= 'None'):\n",
    "        g.add((URIRef(diccionario['link']), radio, Literal(diccionario['radio'])))\n",
    "    #if (diccionario['timeoflife']!= 'None'):\n",
    "        #g.add((URIRef(diccionario['link']), timeoflife, Literal(diccionario['timeoflife'])))\n",
    "    if (diccionario['lifepoints']!= 'None'):\n",
    "        g.add((URIRef(diccionario['link']), lifepoints, Literal(diccionario['lifepoints'])))\n",
    "    if (diccionario['hurt']!= 'None'):\n",
    "        g.add((URIRef(diccionario['link']), hurt, Literal(diccionario['hurt'])))\n",
    "    if (diccionario['damage']!= 'None'):\n",
    "        g.add((URIRef(diccionario['link']), damage, Literal(diccionario['damage'])))\n",
    "    if (diccionario['areadamage']!= 'None'):\n",
    "        g.add((URIRef(diccionario['link']), areadamage, Literal(diccionario['areadamage'])))\n",
    "    \n"
   ]
  },
  {
   "cell_type": "code",
   "execution_count": 28,
   "metadata": {},
   "outputs": [],
   "source": [
    "# Instanciando Estructuras\n",
    "for diccionario in lista_diccionario[71:83]:\n",
    "    g.add((URIRef(diccionario['link']), RDF.type, n.build))\n",
    "    g.add((URIRef(diccionario['link']), name, Literal(diccionario['name'])))\n",
    "    if (diccionario['level']!= 'None'):\n",
    "        g.add((URIRef(diccionario['link']), level, Literal(diccionario['level'])))\n",
    "    if (diccionario['quality']!= 'None'):\n",
    "        g.add((URIRef(diccionario['link']), quality, fun_quality(diccionario['quality'])))\n",
    "    if (diccionario['objective']!= 'None'):\n",
    "        g.add((URIRef(diccionario['link']), objective, fun_objective(diccionario['objective'])))\n",
    "    if (diccionario['scope']!= 'None'):\n",
    "        g.add((URIRef(diccionario['link']), scope, fun_scope(diccionario['scope'])))\n",
    "    if (diccionario['speed']!= 'None'):\n",
    "        g.add((URIRef(diccionario['link']), speed, fun_speed(diccionario['speed'])))\n",
    "    if (diccionario['radio']!= 'None'):\n",
    "        g.add((URIRef(diccionario['link']), radio, Literal(diccionario['radio'])))\n",
    "    if (diccionario['timeoflife']!= 'None'):\n",
    "        g.add((URIRef(diccionario['link']), timeoflife, Literal(diccionario['timeoflife'])))\n",
    "    if (diccionario['level']!= 'None'):\n",
    "        g.add((URIRef(diccionario['link']), lifepoints, Literal(diccionario['lifepoints'])))\n",
    "    if (diccionario['hurt']!= 'None'):\n",
    "        g.add((URIRef(diccionario['link']), hurt, Literal(diccionario['hurt'])))\n",
    "    if (diccionario['damage']!= 'None'):\n",
    "        g.add((URIRef(diccionario['link']), damage, Literal(diccionario['damage'])))\n",
    "    if (diccionario['areadamage']!= 'None'):\n",
    "        g.add((URIRef(diccionario['link']), areadamage, Literal(diccionario['areadamage'])))"
   ]
  },
  {
   "cell_type": "code",
   "execution_count": 29,
   "metadata": {},
   "outputs": [],
   "source": [
    "# Instanciando Hechizos\n",
    "for diccionario in lista_diccionario[83:]:\n",
    "    g.add((URIRef(diccionario['link']), RDF.type, n.spell))\n",
    "    g.add((URIRef(diccionario['link']), name, Literal(diccionario['name'])))\n",
    "    if (diccionario['level']!= 'None'):\n",
    "        g.add((URIRef(diccionario['link']), level, Literal(diccionario['level'])))\n",
    "    if (diccionario['quality']!= 'None'):\n",
    "        g.add((URIRef(diccionario['link']), quality, fun_quality(diccionario['quality'])))\n",
    "    if (diccionario['objective']!= 'None'):\n",
    "        g.add((URIRef(diccionario['link']), objective, fun_objective(diccionario['objective'])))\n",
    "    if (diccionario['scope']!= 'None'):\n",
    "        g.add((URIRef(diccionario['link']), scope, fun_scope(diccionario['scope'])))\n",
    "    if (diccionario['speed']!= 'None'):\n",
    "        g.add((URIRef(diccionario['link']), speed, fun_speed(diccionario['speed'])))\n",
    "    if (diccionario['radio']!= 'None'):\n",
    "        g.add((URIRef(diccionario['link']), radio, Literal(diccionario['radio'])))\n",
    "    if (diccionario['timeoflife']!= 'None'):\n",
    "        g.add((URIRef(diccionario['link']), timeoflife, Literal(diccionario['timeoflife'])))\n",
    "    if (diccionario['level']!= 'None'):\n",
    "        g.add((URIRef(diccionario['link']), lifepoints, Literal(diccionario['lifepoints'])))\n",
    "    if (diccionario['hurt']!= 'None'):\n",
    "        g.add((URIRef(diccionario['link']), hurt, Literal(diccionario['hurt'])))\n",
    "    if (diccionario['damage']!= 'None'):\n",
    "        g.add((URIRef(diccionario['link']), damage, Literal(diccionario['damage'])))\n",
    "    if (diccionario['areadamage']!= 'None'):\n",
    "        g.add((URIRef(diccionario['link']), areadamage, Literal(diccionario['areadamage'])))"
   ]
  },
  {
   "cell_type": "markdown",
   "metadata": {},
   "source": [
    "texto = str(g.serialize(format=\"n3\", encoding='utf-8').decode())\n",
    "for line in texto.splitlines():\n",
    "    print(line)"
   ]
  },
  {
   "cell_type": "code",
   "execution_count": 30,
   "metadata": {},
   "outputs": [],
   "source": [
    "# Exportar el archivo como :\n",
    "g.serialize(destination='statsroyale.rdf', format='xml')"
   ]
  },
  {
   "cell_type": "code",
   "execution_count": 31,
   "metadata": {
    "tags": [
     "outputPrepend"
    ]
   },
   "outputs": [
    {
     "name": "stdout",
     "output_type": "stream",
     "text": [
      "/Arrows https://statsroyale.com/es/radio 4.0\n",
      "https://statsroyale.com/es/card/Freeze https://statsroyale.com/es/radio 3\n",
      "https://statsroyale.com/es/card/Skeletons http://www.w3.org/1999/02/22-rdf-syntax-ns#type https://statsroyale.com/es/troop\n",
      "https://statsroyale.com/es/card/Rage https://statsroyale.com/es/quality https://statsroyale.com/es/epic\n",
      "https://statsroyale.com/es/card/Inferno+Tower https://statsroyale.com/es/timeoflife 30sec\n",
      "https://statsroyale.com/es/card/Mega+Knight https://statsroyale.com/es/areadamage 222\n",
      "https://statsroyale.com/es/card/Elite+Barbarians http://www.w3.org/1999/02/22-rdf-syntax-ns#type https://statsroyale.com/es/troop\n",
      "https://statsroyale.com/es/card/Mini+P.E.K.K.A https://statsroyale.com/es/level 9\n",
      "https://statsroyale.com/es/card/Princess https://statsroyale.com/es/scope https://statsroyale.com/es/high\n",
      "https://statsroyale.com/es/card/Goblin+Cage https://statsroyale.com/es/lifepoints 800\n",
      "https://statsroyale.com/es/card/Rage https://statsroyale.com/es/level 9\n",
      "https://statsroyale.com/es/card/Electro+Giant https://statsroyale.com/es/objective https://statsroyale.com/es/building\n",
      "https://statsroyale.com/es/card/Flying+Machine https://statsroyale.com/es/lifepoints 510\n",
      "https://statsroyale.com/es/card/Fireball https://statsroyale.com/es/objective https://statsroyale.com/es/groundandair\n",
      "https://statsroyale.com/es/card/X-Bow https://statsroyale.com/es/quality https://statsroyale.com/es/epic\n",
      "https://statsroyale.com/es/card/Mega+Knight https://statsroyale.com/es/objective https://statsroyale.com/es/ground\n",
      "https://statsroyale.com/es/card/Mini+P.E.K.K.A https://statsroyale.com/es/speed https://statsroyale.com/es/fast\n",
      "https://statsroyale.com/es/card/X-Bow https://statsroyale.com/es/level 9\n",
      "https://statsroyale.com/es/timeoflife http://www.w3.org/2000/01/rdf-schema#subPropertyOf https://statsroyale.com/es/characteristic\n",
      "https://statsroyale.com/es/card/Mother+Witch https://statsroyale.com/es/scope https://statsroyale.com/es/low\n",
      "https://statsroyale.com/es/card/Bomb+Tower https://statsroyale.com/es/name Torre bombardera\n",
      "https://statsroyale.com/es/card/Cannon+Cart https://statsroyale.com/es/speed https://statsroyale.com/es/medium\n",
      "https://statsroyale.com/es/card/Elixir+Golem https://statsroyale.com/es/objective https://statsroyale.com/es/building\n",
      "https://statsroyale.com/es/card/Electro+Wizard https://statsroyale.com/es/areadamage 75\n",
      "https://statsroyale.com/es/card/Miner https://statsroyale.com/es/objective https://statsroyale.com/es/ground\n",
      "https://statsroyale.com/es/building https://statsroyale.com/es/name Estructura\n",
      "https://statsroyale.com/es/card/Mother+Witch https://statsroyale.com/es/damage 100\n",
      "https://statsroyale.com/es/timeoflife http://www.w3.org/2000/01/rdf-schema#domain https://statsroyale.com/es/spell\n",
      "https://statsroyale.com/es/card/Dart+Goblin https://statsroyale.com/es/speed https://statsroyale.com/es/veryfast\n",
      "https://statsroyale.com/es/card/Fire+Spirits https://statsroyale.com/es/scope https://statsroyale.com/es/low\n",
      "https://statsroyale.com/es/card/Lightning https://statsroyale.com/es/name Rayo\n",
      "https://statsroyale.com/es/card/Royal+Hogs https://statsroyale.com/es/quality https://statsroyale.com/es/rare\n",
      "https://statsroyale.com/es/card/Ram+Rider https://statsroyale.com/es/scope https://statsroyale.com/es/melee\n",
      "https://statsroyale.com/es/card/Cannon+Cart https://statsroyale.com/es/lifepoints 742\n",
      "https://statsroyale.com/es/card/Inferno+Dragon https://statsroyale.com/es/name Dragón infernal\n",
      "https://statsroyale.com/es/card/Royal+Hogs https://statsroyale.com/es/lifepoints 695\n",
      "https://statsroyale.com/es/card/Rocket https://statsroyale.com/es/radio 2.0\n",
      "https://statsroyale.com/es/card/Bomber http://www.w3.org/1999/02/22-rdf-syntax-ns#type https://statsroyale.com/es/troop\n",
      "https://statsroyale.com/es/fast https://statsroyale.com/es/name Alta\n",
      "https://statsroyale.com/es/card/X-Bow https://statsroyale.com/es/timeoflife 30sec\n",
      "https://statsroyale.com/es/card/Fisherman https://statsroyale.com/es/objective https://statsroyale.com/es/ground\n",
      "https://statsroyale.com/es/card/Ice+Wizard https://statsroyale.com/es/name Mago de hielo\n",
      "https://statsroyale.com/es/card/Elixir+Collector https://statsroyale.com/es/name Recolector de elixir\n",
      "https://statsroyale.com/es/card/Musketeer https://statsroyale.com/es/objective https://statsroyale.com/es/groundandair\n",
      "https://statsroyale.com/es/card/Dart+Goblin https://statsroyale.com/es/hurt 100\n",
      "https://statsroyale.com/es/card/Zappies https://statsroyale.com/es/scope https://statsroyale.com/es/low\n",
      "https://statsroyale.com/es/card/Graveyard https://statsroyale.com/es/quality https://statsroyale.com/es/legendary\n",
      "https://statsroyale.com/es/card/Lumberjack http://www.w3.org/1999/02/22-rdf-syntax-ns#type https://statsroyale.com/es/troop\n",
      "https://statsroyale.com/es/card/Ram+Rider https://statsroyale.com/es/level 9\n",
      "https://statsroyale.com/es/card/Wizard http://www.w3.org/1999/02/22-rdf-syntax-ns#type https://statsroyale.com/es/troop\n",
      "https://statsroyale.com/es/card/Tornado https://statsroyale.com/es/name Tornado\n",
      "https://statsroyale.com/es/card/Bowler https://statsroyale.com/es/speed https://statsroyale.com/es/slow\n",
      "https://statsroyale.com/es/card/Baby+Dragon https://statsroyale.com/es/objective https://statsroyale.com/es/groundandair\n",
      "https://statsroyale.com/es/card/Dark+Prince https://statsroyale.com/es/level 9\n",
      "https://statsroyale.com/es/card/Guards http://www.w3.org/1999/02/22-rdf-syntax-ns#type https://statsroyale.com/es/troop\n",
      "https://statsroyale.com/es/card/Bats https://statsroyale.com/es/lifepoints 67\n",
      "https://statsroyale.com/es/card/Magic+Archer https://statsroyale.com/es/objective https://statsroyale.com/es/groundandair\n",
      "https://statsroyale.com/es/card/Hunter https://statsroyale.com/es/quality https://statsroyale.com/es/epic\n",
      "https://statsroyale.com/es/card/Hog+Rider https://statsroyale.com/es/hurt 264\n",
      "https://statsroyale.com/es/card/Mega+Knight https://statsroyale.com/es/name Megacaballero\n",
      "https://statsroyale.com/es/card/Inferno+Dragon https://statsroyale.com/es/lifepoints 1070\n",
      "https://statsroyale.com/es/card/Bandit https://statsroyale.com/es/lifepoints 750\n",
      "https://statsroyale.com/es/slow http://www.w3.org/2000/01/rdf-schema#subPropertyOf https://statsroyale.com/es/speed\n",
      "https://statsroyale.com/es/card/Electro+Wizard https://statsroyale.com/es/objective https://statsroyale.com/es/groundandair\n",
      "https://statsroyale.com/es/card/Bomber https://statsroyale.com/es/speed https://statsroyale.com/es/medium\n",
      "https://statsroyale.com/es/card/Magic+Archer https://statsroyale.com/es/name Arquero mágico\n",
      "https://statsroyale.com/es/card/Wizard https://statsroyale.com/es/quality https://statsroyale.com/es/rare\n",
      "https://statsroyale.com/es/card/Spear+Goblins https://statsroyale.com/es/quality https://statsroyale.com/es/common\n",
      "https://statsroyale.com/es/card/Mirror https://statsroyale.com/es/name Espejo\n",
      "https://statsroyale.com/es/card/Clone https://statsroyale.com/es/quality https://statsroyale.com/es/epic\n",
      "https://statsroyale.com/es/card/Firecracker https://statsroyale.com/es/name Lanzafuegos\n",
      "https://statsroyale.com/es/card/Ice+Spirit https://statsroyale.com/es/areadamage 91\n",
      "https://statsroyale.com/es/speed http://www.w3.org/2000/01/rdf-schema#subPropertyOf https://statsroyale.com/es/characteristic\n",
      "https://statsroyale.com/es/card/Ram+Rider https://statsroyale.com/es/hurt 220\n",
      "https://statsroyale.com/es/card/Goblin+Gang https://statsroyale.com/es/level 9\n",
      "https://statsroyale.com/es/card/Battle+Ram https://statsroyale.com/es/objective https://statsroyale.com/es/building\n",
      "https://statsroyale.com/es/card/Fisherman https://statsroyale.com/es/name Pescador\n",
      "https://statsroyale.com/es/card/Giant+Snowball https://statsroyale.com/es/name Bola de nieve\n",
      "https://statsroyale.com/es/card/Elixir+Golem https://statsroyale.com/es/speed https://statsroyale.com/es/slow\n",
      "https://statsroyale.com/es/card/Minion+Horde https://statsroyale.com/es/objective https://statsroyale.com/es/groundandair\n",
      "https://statsroyale.com/es/card https://statsroyale.com/es/name cartas\n",
      "https://statsroyale.com/es/card/Skeleton+Dragons https://statsroyale.com/es/level 9\n",
      "https://statsroyale.com/es/card/Barbarian+Hut https://statsroyale.com/es/scope https://statsroyale.com/es/melee\n",
      "https://statsroyale.com/es/card/Knight https://statsroyale.com/es/speed https://statsroyale.com/es/medium\n",
      "https://statsroyale.com/es/card/Minion+Horde https://statsroyale.com/es/quality https://statsroyale.com/es/common\n",
      "https://statsroyale.com/es/card/Dart+Goblin https://statsroyale.com/es/damage 142\n",
      "https://statsroyale.com/es/card/Executioner https://statsroyale.com/es/level 9\n",
      "https://statsroyale.com/es/card/Cannon+Cart https://statsroyale.com/es/objective https://statsroyale.com/es/ground\n",
      "https://statsroyale.com/es/card/Flying+Machine https://statsroyale.com/es/damage 129\n",
      "https://statsroyale.com/es/card/Witch https://statsroyale.com/es/damage 100\n",
      "https://statsroyale.com/es/card/Arrows http://www.w3.org/1999/02/22-rdf-syntax-ns#type https://statsroyale.com/es/spell\n",
      "https://statsroyale.com/es/card/Minion+Horde https://statsroyale.com/es/damage 84\n",
      "https://statsroyale.com/es/card/Archers https://statsroyale.com/es/speed https://statsroyale.com/es/medium\n",
      "https://statsroyale.com/es/card/Skeleton+Army https://statsroyale.com/es/objective https://statsroyale.com/es/ground\n",
      "https://statsroyale.com/es/card/Wall+Breakers https://statsroyale.com/es/scope https://statsroyale.com/es/melee\n",
      "https://statsroyale.com/es/card/Ice+Spirit https://statsroyale.com/es/level 9\n",
      "https://statsroyale.com/es/card/Electro+Spirit https://statsroyale.com/es/lifepoints 190\n",
      "https://statsroyale.com/es/card/Elite+Barbarians https://statsroyale.com/es/objective https://statsroyale.com/es/ground\n",
      "https://statsroyale.com/es/card/Lumberjack https://statsroyale.com/es/damage 250\n",
      "https://statsroyale.com/es/radio http://www.w3.org/2000/01/rdf-schema#subPropertyOf https://statsroyale.com/es/characteristic\n",
      "https://statsroyale.com/es/card/Electro+Dragon https://statsroyale.com/es/quality https://statsroyale.com/es/epic\n",
      "https://statsroyale.com/es/card/Battle+Ram https://statsroyale.com/es/lifepoints 756\n",
      "https://statsroyale.com/es/card/Battle+Healer https://statsroyale.com/es/damage 82\n",
      "https://statsroyale.com/es/card/Royal+Recruits https://statsroyale.com/es/scope https://statsroyale.com/es/melee\n",
      "https://statsroyale.com/es/card/Barbarians http://www.w3.org/1999/02/22-rdf-syntax-ns#type https://statsroyale.com/es/troop\n",
      "https://statsroyale.com/es/card/Electro+Dragon https://statsroyale.com/es/level 9\n",
      "https://statsroyale.com/es/card/Earthquake https://statsroyale.com/es/radio 3.5\n",
      "https://statsroyale.com/es/card/Goblins https://statsroyale.com/es/objective https://statsroyale.com/es/ground\n",
      "https://statsroyale.com/es/card/Prince https://statsroyale.com/es/damage 232\n",
      "https://statsroyale.com/es/card/Wall+Breakers https://statsroyale.com/es/level 9\n",
      "https://statsroyale.com/es/card/Balloon https://statsroyale.com/es/scope https://statsroyale.com/es/melee\n",
      "https://statsroyale.com/es/card/Goblin+Hut https://statsroyale.com/es/quality https://statsroyale.com/es/rare\n",
      "https://statsroyale.com/es/card/Rage https://statsroyale.com/es/lifepoints None\n",
      "https://statsroyale.com/es/card/X-Bow https://statsroyale.com/es/hurt 34\n",
      "https://statsroyale.com/es/card/Baby+Dragon https://statsroyale.com/es/radio 1.2\n",
      "https://statsroyale.com/es/card/Sparky https://statsroyale.com/es/scope https://statsroyale.com/es/low\n",
      "https://statsroyale.com/es/card/Mini+P.E.K.K.A https://statsroyale.com/es/hurt 598\n",
      "https://statsroyale.com/es/card/Wizard https://statsroyale.com/es/name Mago\n",
      "https://statsroyale.com/es/card/Golem http://www.w3.org/1999/02/22-rdf-syntax-ns#type https://statsroyale.com/es/troop\n",
      "https://statsroyale.com/es/card/Flying+Machine https://statsroyale.com/es/speed https://statsroyale.com/es/fast\n",
      "https://statsroyale.com/es/card/Fire+Spirits https://statsroyale.com/es/objective https://statsroyale.com/es/groundandair\n",
      "https://statsroyale.com/es/card/Bomber https://statsroyale.com/es/objective https://statsroyale.com/es/ground\n",
      "https://statsroyale.com/es/card/Fire+Spirits https://statsroyale.com/es/quality https://statsroyale.com/es/common\n",
      "https://statsroyale.com/es/card/Goblin+Barrel https://statsroyale.com/es/name Barril de duendes\n",
      "https://statsroyale.com/es/card/Clone https://statsroyale.com/es/level 9\n",
      "https://statsroyale.com/es/card/Giant https://statsroyale.com/es/name Gigante\n",
      "https://statsroyale.com/es/card/Lava+Hound https://statsroyale.com/es/objective https://statsroyale.com/es/building\n",
      "https://statsroyale.com/es/card/Valkyrie https://statsroyale.com/es/areadamage 221\n",
      "https://statsroyale.com/es/card/Goblin+Hut http://www.w3.org/1999/02/22-rdf-syntax-ns#type https://statsroyale.com/es/build\n",
      "https://statsroyale.com/es/card/Bandit https://statsroyale.com/es/objective https://statsroyale.com/es/ground\n",
      "https://statsroyale.com/es/card/Barbarian+Hut https://statsroyale.com/es/timeoflife 50sec\n",
      "https://statsroyale.com/es/card/P.E.K.K.A https://statsroyale.com/es/name P.E.K.K.A.\n",
      "https://statsroyale.com/es/card/Hunter https://statsroyale.com/es/name Cazador\n",
      "https://statsroyale.com/es/card/Tesla https://statsroyale.com/es/level 9\n",
      "https://statsroyale.com/es/card/Dart+Goblin https://statsroyale.com/es/scope https://statsroyale.com/es/low\n",
      "https://statsroyale.com/es/card/Freeze https://statsroyale.com/es/quality https://statsroyale.com/es/epic\n",
      "https://statsroyale.com/es/card/Valkyrie https://statsroyale.com/es/name Valquiria\n",
      "https://statsroyale.com/es/card/Electro+Giant https://statsroyale.com/es/speed https://statsroyale.com/es/slow\n",
      "https://statsroyale.com/es/troop https://statsroyale.com/es/name tropas\n",
      "https://statsroyale.com/es/card/Arrows https://statsroyale.com/es/objective https://statsroyale.com/es/groundandair\n",
      "https://statsroyale.com/es/card/Balloon https://statsroyale.com/es/name Globo bombástico\n",
      "https://statsroyale.com/es/card/Royal+Delivery https://statsroyale.com/es/name Paquete real\n",
      "https://statsroyale.com/es/card/Knight https://statsroyale.com/es/objective https://statsroyale.com/es/ground\n",
      "https://statsroyale.com/es/card/Night+Witch http://www.w3.org/1999/02/22-rdf-syntax-ns#type https://statsroyale.com/es/troop\n",
      "https://statsroyale.com/es/card/X-Bow https://statsroyale.com/es/lifepoints 1330\n",
      "https://statsroyale.com/es/card/Goblin+Cage http://www.w3.org/1999/02/22-rdf-syntax-ns#type https://statsroyale.com/es/build\n",
      "https://statsroyale.com/es/card/Flying+Machine https://statsroyale.com/es/objective https://statsroyale.com/es/groundandair\n",
      "https://statsroyale.com/es/card/Mother+Witch https://statsroyale.com/es/name Bruja madre\n",
      "https://statsroyale.com/es/card/Archers https://statsroyale.com/es/name Arqueras\n",
      "https://statsroyale.com/es/card/Barbarians https://statsroyale.com/es/lifepoints 555\n",
      "https://statsroyale.com/es/card/Ice+Wizard http://www.w3.org/1999/02/22-rdf-syntax-ns#type https://statsroyale.com/es/troop\n",
      "https://statsroyale.com/es/card/Arrows https://statsroyale.com/es/level 9\n",
      "https://statsroyale.com/es/card/Miner https://statsroyale.com/es/lifepoints 1000\n",
      "https://statsroyale.com/es/card/Earthquake https://statsroyale.com/es/quality https://statsroyale.com/es/rare\n",
      "https://statsroyale.com/es/card/P.E.K.K.A https://statsroyale.com/es/speed https://statsroyale.com/es/slow\n",
      "https://statsroyale.com/es/card/Skeleton+Dragons https://statsroyale.com/es/damage 70\n",
      "https://statsroyale.com/es/card/Guards https://statsroyale.com/es/quality https://statsroyale.com/es/epic\n",
      "https://statsroyale.com/es/card/Goblin+Cage https://statsroyale.com/es/scope https://statsroyale.com/es/low\n",
      "https://statsroyale.com/es/card/Executioner https://statsroyale.com/es/lifepoints 1010\n",
      "https://statsroyale.com/es/card/Royal+Giant https://statsroyale.com/es/level 9\n",
      "https://statsroyale.com/es/card/Giant https://statsroyale.com/es/lifepoints 3275\n",
      "https://statsroyale.com/es/card/Tombstone https://statsroyale.com/es/scope https://statsroyale.com/es/melee\n",
      "https://statsroyale.com/es/card/Princess https://statsroyale.com/es/areadamage 140\n",
      "https://statsroyale.com/es/card/Lightning https://statsroyale.com/es/timeoflife 1.5s\n",
      "https://statsroyale.com/es/card/Balloon https://statsroyale.com/es/level 9\n",
      "https://statsroyale.com/es/card/Rascals https://statsroyale.com/es/hurt 110\n",
      "https://statsroyale.com/es/card/Valkyrie https://statsroyale.com/es/speed https://statsroyale.com/es/medium\n",
      "https://statsroyale.com/es/card/Electro+Spirit https://statsroyale.com/es/name Espíritu eléctrico\n",
      "https://statsroyale.com/es/card/Royal+Ghost https://statsroyale.com/es/lifepoints 1000\n",
      "https://statsroyale.com/es/card/Poison https://statsroyale.com/es/quality https://statsroyale.com/es/epic\n",
      "https://statsroyale.com/es/card/Graveyard https://statsroyale.com/es/objective https://statsroyale.com/es/ground\n",
      "https://statsroyale.com/es/medium http://www.w3.org/2000/01/rdf-schema#subPropertyOf https://statsroyale.com/es/speed\n",
      "https://statsroyale.com/es/card/Mother+Witch https://statsroyale.com/es/objective https://statsroyale.com/es/groundandair\n",
      "https://statsroyale.com/es/card/Skeleton+Barrel https://statsroyale.com/es/scope https://statsroyale.com/es/melee\n",
      "https://statsroyale.com/es/card/Royal+Giant https://statsroyale.com/es/lifepoints 2544\n",
      "https://statsroyale.com/es/card/Three+Musketeers https://statsroyale.com/es/damage 164\n",
      "https://statsroyale.com/es/card/Ice+Spirit https://statsroyale.com/es/lifepoints 190\n",
      "https://statsroyale.com/es/card/Tombstone https://statsroyale.com/es/name Lápida\n",
      "https://statsroyale.com/es/card/Spear+Goblins https://statsroyale.com/es/speed https://statsroyale.com/es/veryfast\n",
      "https://statsroyale.com/es/card/Fire+Spirits https://statsroyale.com/es/name Espíritus de fuego\n",
      "https://statsroyale.com/es/card/Wall+Breakers https://statsroyale.com/es/lifepoints 275\n",
      "https://statsroyale.com/es/card/Giant+Snowball https://statsroyale.com/es/objective https://statsroyale.com/es/groundandair\n",
      "https://statsroyale.com/es/card/Hog+Rider https://statsroyale.com/es/scope https://statsroyale.com/es/melee\n",
      "https://statsroyale.com/es/card/Tombstone https://statsroyale.com/es/speed https://statsroyale.com/es/fast\n",
      "https://statsroyale.com/es/card/Electro+Giant https://statsroyale.com/es/damage 75\n",
      "https://statsroyale.com/es/card/Skeleton+Barrel https://statsroyale.com/es/level 9\n",
      "https://statsroyale.com/es/card/Electro+Spirit https://statsroyale.com/es/level 9\n",
      "https://statsroyale.com/es/card/Ram+Rider http://www.w3.org/1999/02/22-rdf-syntax-ns#type https://statsroyale.com/es/troop\n",
      "https://statsroyale.com/es/card/Goblin+Hut https://statsroyale.com/es/objective https://statsroyale.com/es/ground\n",
      "https://statsroyale.com/es/card/Zappies https://statsroyale.com/es/objective https://statsroyale.com/es/groundandair\n",
      "https://statsroyale.com/es/card/Witch https://statsroyale.com/es/level 9\n",
      "https://statsroyale.com/es/card/Dark+Prince http://www.w3.org/1999/02/22-rdf-syntax-ns#type https://statsroyale.com/es/troop\n",
      "https://statsroyale.com/es/card/Royal+Ghost https://statsroyale.com/es/speed https://statsroyale.com/es/fast\n",
      "https://statsroyale.com/es/card/Sparky https://statsroyale.com/es/areadamage 1100\n",
      "https://statsroyale.com/es/card/Hog+Rider https://statsroyale.com/es/level 9\n",
      "https://statsroyale.com/es/damage http://www.w3.org/2000/01/rdf-schema#subPropertyOf https://statsroyale.com/es/characteristic\n",
      "https://statsroyale.com/es/card/Giant+Snowball http://www.w3.org/1999/02/22-rdf-syntax-ns#type https://statsroyale.com/es/spell\n",
      "https://statsroyale.com/es/card/Musketeer http://www.w3.org/1999/02/22-rdf-syntax-ns#type https://statsroyale.com/es/troop\n",
      "https://statsroyale.com/es/card/Skeleton+Barrel https://statsroyale.com/es/speed https://statsroyale.com/es/fast\n",
      "https://statsroyale.com/es/card/Tornado http://www.w3.org/1999/02/22-rdf-syntax-ns#type https://statsroyale.com/es/spell\n",
      "https://statsroyale.com/es/card/Bowler https://statsroyale.com/es/damage 95\n",
      "https://statsroyale.com/es/card/Mortar https://statsroyale.com/es/objective https://statsroyale.com/es/ground\n",
      "https://statsroyale.com/es/card/Inferno+Tower https://statsroyale.com/es/quality https://statsroyale.com/es/rare\n"
     ]
    }
   ],
   "source": [
    "#imprimir tripletas\n",
    "for s, p, o in g:\n",
    "    print(s, p, o)"
   ]
  },
  {
   "cell_type": "markdown",
   "metadata": {},
   "source": [
    "# TEST : Remover Tripletas\n",
    "for s, p, o in g:\n",
    "    g.remove((s, p, o))"
   ]
  },
  {
   "cell_type": "markdown",
   "metadata": {},
   "source": [
    "# inferencias"
   ]
  },
  {
   "cell_type": "markdown",
   "metadata": {},
   "source": [
    "#### Clases superiores"
   ]
  },
  {
   "cell_type": "code",
   "execution_count": 32,
   "metadata": {},
   "outputs": [
    {
     "name": "stdout",
     "output_type": "stream",
     "text": [
      "tropas\n",
      "cartas\n"
     ]
    }
   ],
   "source": [
    "clase_base = n.troop\n",
    "for s in g.transitive_objects(clase_base, RDFS.subClassOf):\n",
    "    print(g.value(s, name))"
   ]
  },
  {
   "cell_type": "markdown",
   "metadata": {},
   "source": [
    "##### Clases inferiores"
   ]
  },
  {
   "cell_type": "code",
   "execution_count": null,
   "metadata": {},
   "outputs": [],
   "source": [
    "clase_base = n.card\n",
    "for s in g.transitive_subjects (RDFS.subClassOf,clase_base):\n",
    "    print(g.value(s, name))"
   ]
  },
  {
   "cell_type": "markdown",
   "metadata": {},
   "source": [
    "#### clases de recurso"
   ]
  },
  {
   "cell_type": "code",
   "execution_count": null,
   "metadata": {},
   "outputs": [],
   "source": [
    "recurso = URIRef(lista_diccionario[1]['link'])\n",
    "for s in g.transitive_objects(recurso, RDF.type):\n",
    "  print(g.value(s, name))"
   ]
  },
  {
   "cell_type": "markdown",
   "metadata": {},
   "source": [
    "#### Obtener la calidad de una carta"
   ]
  },
  {
   "cell_type": "code",
   "execution_count": null,
   "metadata": {},
   "outputs": [],
   "source": [
    "#obtener calidad\n",
    "carta = URIRef(lista_diccionario[1]['link'])\n",
    "for s in g.objects(carta,quality):\n",
    "    print(g.value(s,quality))"
   ]
  },
  {
   "cell_type": "markdown",
   "metadata": {},
   "source": [
    "#### Obtener todos los atributos de la carta"
   ]
  },
  {
   "cell_type": "code",
   "execution_count": null,
   "metadata": {},
   "outputs": [],
   "source": [
    "def atributos(card):\n",
    "    atributos = list(lista_diccionario[1].keys())\n",
    "    for s in g.transitive_subjects(None,card):\n",
    "        for i in range(len(atributos)):\n",
    "            if(g.value(s,atributos[i])!= 'None'):\n",
    "                print(atributos[i],\":\",g.value(s,atributos[i]))"
   ]
  },
  {
   "cell_type": "markdown",
   "metadata": {},
   "source": [
    "##### Obtener los daños de cada carta"
   ]
  },
  {
   "cell_type": "code",
   "execution_count": 35,
   "metadata": {},
   "outputs": [
    {
     "name": "stdout",
     "output_type": "stream",
     "text": [
      "Requirement already satisfied: tabulate in c:\\users\\jose-\\python\\python39\\lib\\site-packages (0.8.9)\n",
      "Nombre de la carta      Tipo de daño      Daño\n",
      "----------------------  ----------------  ------------------------------------------------------------\n",
      "Puercos reales          Daño              49\n",
      "Lanzarrocas             Daño              95\n",
      "Mini P.E.K.K.A.         Daño              351\n",
      "Pandilla de duendes     Daño              90\n",
      "Sabueso de lava         Daño              34\n",
      "Murciélagos             Daño              51\n",
      "Espíritu eléctrico      Daño por segundo  82\n",
      "Bandida                 Daño              160\n",
      "Arquero mágico          Daño              100\n",
      "Bruja                   Daño              100\n",
      "Bombardero              Daño              102\n",
      "Montapuercos            Daño              165\n",
      "Mago eléctrico          Daño en Área      75\n",
      "Dragón infernal         Daño              75–875\n",
      "Bárbaros                Daño              113\n",
      "Dragones esqueleto      Daño              70\n",
      "Bruja madre             Daño              100\n",
      "Megaesbirro             Daño              161\n",
      "Duendes con lanza       Daño              39\n",
      "Leñador                 Daño              250\n",
      "Verdugo                 Daño              58\n",
      "                                                                                                    x2\n",
      "Pillos                  Daño              73\n",
      "Mago                    Daño              167\n",
      "Bebé dragón             Daño              88\n",
      "Espíritus de fuego      Daño en Área      178\n",
      "Minero                  Daño              133\n",
      "Guardias                Daño              90\n",
      "Ariete de batalla       Daño por segundo  220\n",
      "Gólem de elixir         Daño              162\n",
      "Espíritu de hielo       Daño en Área      91\n",
      "Megacaballero           Daño              130\n",
      "Gólem                   Daño              103\n",
      "Cañón con ruedas        Daño              176\n",
      "Caballero               Daño              139\n",
      "Arqueras                Daño              74\n",
      "Gigante noble           Daño              149\n",
      "Máquina voladora        Daño              129\n",
      "Gigante eléctrico       Daño              75\n",
      "Electrocutadores        Daño              45\n",
      "Ejército de esqueletos  Daño              67\n",
      "Dragón eléctrico        Daño              75\n",
      "Esqueleto gigante       Daño              148\n",
      "Trío de mosqueteras     Daño              164\n",
      "Horda de esbirros       Daño              84\n",
      "Rompemuros              Daño en Área      325\n",
      "Gólem de hielo          Daño              28\n",
      "Duende gigante          Daño              97\n",
      "Chispitas               Daño              275\n",
      "Montacarneros           Daño              122\n",
      "P.E.K.K.A.              Daño              376\n",
      "Cazador                 Daño              31\n",
      "Globo bombástico        Daño              266\n",
      "Esbirros                Daño              84\n",
      "Reclutas reales         Daño              84\n",
      "Esqueletos              Daño              67\n",
      "Bárbaros de élite       Daño              227\n",
      "Príncipe oscuro         Daño              158\n",
      "Curandera guerrera      Daño              82\n",
      "Mosquetera              Daño              164\n",
      "Valquiria               Daño              147\n",
      "Bruja nocturna          Daño              173\n",
      "Duendes                 Daño              90\n",
      "Princesa                Daño              46\n",
      "Gigante                 Daño              140\n",
      "Pescador                Daño              123\n",
      "Fantasma real           Daño              120\n",
      "Duende lanzadardos      Daño              142\n",
      "Mago de hielo           Daño              44\n",
      "Príncipe                Daño              232\n",
      "Torre Tesla             Daño              172\n",
      "Torre bombardera        Daño              115\n",
      "Cañón                   Daño              175\n",
      "Torre infernal          Daño              87–1760\n",
      "Mortero                 Daño              44\n",
      "Ballesta                Daño              113\n",
      "El Tronco               Daño por segundo  240\n",
      "Bola de fuego           Daño en Área      572\n",
      "Cohete                  Daño en Área      1232\n",
      "Cementerio              Daño              67\n",
      "Descarga                Daño en Área      159\n",
      "Hielo                   Daño en Área      95\n",
      "Bola de nieve           Daño en Área      159\n",
      "Flechas                 Daño en Área      101\n",
      "WARNING: You are using pip version 21.0.1; however, version 21.1.1 is available.\n",
      "You should consider upgrading via the 'c:\\users\\jose-\\python\\python39\\python.exe -m pip install --upgrade pip' command.\n"
     ]
    }
   ],
   "source": [
    "#Obtener los daños de cada carta\n",
    "!pip install tabulate\n",
    "from tabulate import tabulate\n",
    "#Daños\n",
    "tipos = [n.troop,n.build,n.spell]\n",
    "lista=[[]]\n",
    "for tipo in tipos:\n",
    "    for carta in g.subjects(RDF.type,tipo):\n",
    "        if g.value(carta, damage)!=None:\n",
    "            lista.append([g.value(carta, name),'Daño',g.value(carta, damage)])\n",
    "        elif g.value(carta, areadamage)!=None:\n",
    "            lista.append([g.value(carta, name),'Daño en Área',g.value(carta, areadamage)])\n",
    "        elif g.value(carta, hurt)!=None:\n",
    "            lista.append([g.value(carta, name),'Daño por segundo',g.value(carta, hurt)])\n",
    "print(tabulate(lista,headers=['Nombre de la carta', 'Tipo de daño','Daño']))\n"
   ]
  },
  {
   "cell_type": "markdown",
   "metadata": {},
   "source": [
    "#### Clasificar por clase tropas, estructuras y hechizos"
   ]
  },
  {
   "cell_type": "code",
   "execution_count": 36,
   "metadata": {},
   "outputs": [
    {
     "name": "stdout",
     "output_type": "stream",
     "text": [
      "............... TROPAS ...............\n",
      "Puercos reales\n",
      "Lanzarrocas\n",
      "Mini P.E.K.K.A.\n",
      "Barril de esqueletos\n",
      "Pandilla de duendes\n",
      "Sabueso de lava\n",
      "Murciélagos\n",
      "Espíritu eléctrico\n",
      "Bandida\n",
      "Arquero mágico\n",
      "Bruja\n",
      "Bombardero\n",
      "Montapuercos\n",
      "Mago eléctrico\n",
      "Dragón infernal\n",
      "Bárbaros\n",
      "Dragones esqueleto\n",
      "Bruja madre\n",
      "Megaesbirro\n",
      "Duendes con lanza\n",
      "Leñador\n",
      "Verdugo\n",
      "Pillos\n",
      "Mago\n",
      "Bebé dragón\n",
      "Espíritus de fuego\n",
      "Lanzafuegos\n",
      "Minero\n",
      "Guardias\n",
      "Ariete de batalla\n",
      "Gólem de elixir\n",
      "Espíritu de hielo\n",
      "Megacaballero\n",
      "Gólem\n",
      "Cañón con ruedas\n",
      "Caballero\n",
      "Arqueras\n",
      "Gigante noble\n",
      "Máquina voladora\n",
      "Gigante eléctrico\n",
      "Electrocutadores\n",
      "Ejército de esqueletos\n",
      "Dragón eléctrico\n",
      "Esqueleto gigante\n",
      "Trío de mosqueteras\n",
      "Horda de esbirros\n",
      "Rompemuros\n",
      "Gólem de hielo\n",
      "Duende gigante\n",
      "Chispitas\n",
      "Montacarneros\n",
      "P.E.K.K.A.\n",
      "Cazador\n",
      "Globo bombástico\n",
      "Esbirros\n",
      "Reclutas reales\n",
      "Esqueletos\n",
      "Bárbaros de élite\n",
      "Príncipe oscuro\n",
      "Curandera guerrera\n",
      "Mosquetera\n",
      "Valquiria\n",
      "Bruja nocturna\n",
      "Duendes\n",
      "Princesa\n",
      "Gigante\n",
      "Pescador\n",
      "Fantasma real\n",
      "Duende lanzadardos\n",
      "Mago de hielo\n",
      "Príncipe\n",
      "............... ESTRUCTURAS ...............\n",
      "Horno\n",
      "Choza de bárbaros\n",
      "Torre Tesla\n",
      "Torre bombardera\n",
      "Choza de duendes\n",
      "Cañón\n",
      "Jaula del forzudo\n",
      "Recolector de elixir\n",
      "Torre infernal\n",
      "Mortero\n",
      "Lápida\n",
      "Ballesta\n",
      "............... HECHIZOS ...............\n",
      "El Tronco\n",
      "Paquete real\n",
      "Bola de fuego\n",
      "Veneno\n",
      "Cohete\n",
      "Clon\n",
      "Terremoto\n",
      "Espíritu sanador\n",
      "Cementerio\n",
      "Espejo\n",
      "Descarga\n",
      "Hielo\n",
      "Furia\n",
      "Rayo\n",
      "Barril de duendes\n",
      "Barril de bárbaro\n",
      "Tornado\n",
      "Bola de nieve\n",
      "Flechas\n"
     ]
    }
   ],
   "source": [
    "#Clasificar por clase tropas, estructuras y hechizos\n",
    "tipos = [n.troop,n.build,n.spell]\n",
    "for tipo in tipos:\n",
    "    print(\"...............\",(g.value(tipo, name)).upper(),\"...............\")\n",
    "    for carta in g.subjects(RDF.type,tipo):\n",
    "        print(g.value(carta, name))"
   ]
  },
  {
   "cell_type": "markdown",
   "metadata": {},
   "source": [
    "##### Subir nivel a una carta"
   ]
  },
  {
   "cell_type": "code",
   "execution_count": 37,
   "metadata": {},
   "outputs": [],
   "source": [
    "#Subir nivel a una carta\n",
    "def agregarNivel(x):\n",
    "    for s,d,o in g.triples((x,RDF.type,None)):\n",
    "        nameX=g.value(s,name)\n",
    "        nivelX=int(g.value(s,level))\n",
    "        nivelX+=1\n",
    "    return nivelX"
   ]
  },
  {
   "cell_type": "code",
   "execution_count": 38,
   "metadata": {},
   "outputs": [
    {
     "data": {
      "text/plain": [
       "10"
      ]
     },
     "execution_count": 38,
     "metadata": {},
     "output_type": "execute_result"
    }
   ],
   "source": [
    "#Prueba de subir nivel\n",
    "agregarNivel(URIRef(\"https://statsroyale.com/es/card/Musketeer\"))"
   ]
  },
  {
   "cell_type": "markdown",
   "metadata": {},
   "source": [
    "#### Pelea entre dos cartas."
   ]
  },
  {
   "cell_type": "code",
   "execution_count": 1,
   "metadata": {},
   "outputs": [],
   "source": [
    "#funcion combate\n",
    "def combat(x,lifeX,y,lifeY):\n",
    "    for s,d,o in g.triples((x,RDF.type,None)):\n",
    "        nameX=g.value(s,name)\n",
    "        if g.value(s,damage)==None:\n",
    "            damX=int(g.value(s,damage))\n",
    "        elif g.value(s,areadamage)!=None:\n",
    "            damX=int(g.value(s,areadamage))\n",
    "        elif g.value(s,hurt)!=None:\n",
    "            damX=int(g.value(s,hurt))\n",
    "    for s,d,o in g.triples((y,RDF.type,None)):\n",
    "        nameY=g.value(s,name)\n",
    "        if g.value(s,damage)==None:\n",
    "            damY=int(g.value(s,damage))\n",
    "        elif g.value(s,areadamage)!=None:\n",
    "            damY=int(g.value(s,areadamage))\n",
    "        elif g.value(s,hurt)!=None:\n",
    "            damY=int(g.value(s,hurt))\n",
    "    lifeX-=damX\n",
    "    lifeY-=damY\n",
    "    if lifeX<=0:\n",
    "        print(nameX,' vencido')\n",
    "        return [0,lifeY]\n",
    "    elif lifeY<=0:\n",
    "        print(nameY,' vencido')\n",
    "        return [lifeX,0]\n",
    "    else:\n",
    "        print('Ambos siguen luchando!')\n",
    "        return [lifeX,lifeY]"
   ]
  },
  {
   "cell_type": "code",
   "execution_count": 42,
   "metadata": {},
   "outputs": [
    {
     "name": "stdout",
     "output_type": "stream",
     "text": [
      "Ambos siguen luchando!\n",
      "219\n",
      "394\n"
     ]
    }
   ],
   "source": [
    "#prueba de combate\n",
    "musketer=URIRef(\"https://statsroyale.com/es/card/Musketeer\")\n",
    "GiantSkeleton=URIRef(\"https://statsroyale.com/es/card/Dark+Prince\")\n",
    "\n",
    "lifeMusketer,lifeGiantSkeleton=combat(musketer,400,GiantSkeleton,600)\n",
    "print(lifeMusketer)\n",
    "print(lifeGiantSkeleton)"
   ]
  },
  {
   "cell_type": "code",
   "execution_count": null,
   "metadata": {},
   "outputs": [],
   "source": []
  }
 ],
 "metadata": {
  "kernelspec": {
   "display_name": "Python 3",
   "language": "python",
   "name": "python3"
  },
  "language_info": {
   "codemirror_mode": {
    "name": "ipython",
    "version": 3
   },
   "file_extension": ".py",
   "mimetype": "text/x-python",
   "name": "python",
   "nbconvert_exporter": "python",
   "pygments_lexer": "ipython3",
   "version": "3.8.5"
  },
  "metadata": {
   "interpreter": {
    "hash": "7b3028809255e6447bc44597884dfb1c7e3cb310a15cce81f99ede3a01349aef"
   }
  }
 },
 "nbformat": 4,
 "nbformat_minor": 5
}
