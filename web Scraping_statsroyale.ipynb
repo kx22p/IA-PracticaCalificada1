{
 "cells": [
  {
   "cell_type": "code",
   "execution_count": 1,
   "id": "137ba487",
   "metadata": {
    "collapsed": true
   },
   "outputs": [
    {
     "name": "stdout",
     "output_type": "stream",
     "text": [
      "Requirement already satisfied: requests in c:\\users\\dulce hogar\\appdata\\local\\programs\\python\\python39\\lib\\site-packages (2.25.1)"
     ]
    },
    {
     "name": "stderr",
     "output_type": "stream",
     "text": [
      "WARNING: Value for scheme.headers does not match. Please report this to <https://github.com/pypa/pip/issues/9617>\n",
      "distutils: c:\\users\\dulce hogar\\appdata\\local\\programs\\python\\python39\\Include\\UNKNOWN\n",
      "sysconfig: c:\\users\\dulce hogar\\appdata\\local\\programs\\python\\python39\\Include\n",
      "WARNING: Additional context:\n",
      "user = False\n",
      "home = None\n",
      "root = None\n",
      "prefix = None\n",
      "WARNING: Value for scheme.headers does not match. Please report this to <https://github.com/pypa/pip/issues/9617>\n",
      "distutils: c:\\users\\dulce hogar\\appdata\\local\\programs\\python\\python39\\Include\\UNKNOWN\n",
      "sysconfig: c:\\users\\dulce hogar\\appdata\\local\\programs\\python\\python39\\Include\n",
      "WARNING: Additional context:\n",
      "user = False\n",
      "home = None\n",
      "root = None\n",
      "prefix = None\n"
     ]
    },
    {
     "name": "stdout",
     "output_type": "stream",
     "text": [
      "\n",
      "Requirement already satisfied: certifi>=2017.4.17 in c:\\users\\dulce hogar\\appdata\\local\\programs\\python\\python39\\lib\\site-packages (from requests) (2020.12.5)\n",
      "Requirement already satisfied: idna<3,>=2.5 in c:\\users\\dulce hogar\\appdata\\local\\programs\\python\\python39\\lib\\site-packages (from requests) (2.10)\n",
      "Requirement already satisfied: chardet<5,>=3.0.2 in c:\\users\\dulce hogar\\appdata\\local\\programs\\python\\python39\\lib\\site-packages (from requests) (4.0.0)\n",
      "Requirement already satisfied: urllib3<1.27,>=1.21.1 in c:\\users\\dulce hogar\\appdata\\local\\programs\\python\\python39\\lib\\site-packages (from requests) (1.26.4)\n",
      "Requirement already satisfied: bs4 in c:\\users\\dulce hogar\\appdata\\local\\programs\\python\\python39\\lib\\site-packages (0.0.1)\n",
      "Requirement already satisfied: beautifulsoup4 in c:\\users\\dulce hogar\\appdata\\local\\programs\\python\\python39\\lib\\site-packages (from bs4) (4.9.3)\n",
      "Requirement already satisfied: soupsieve>1.2 in c:\\users\\dulce hogar\\appdata\\local\\programs\\python\\python39\\lib\\site-packages (from beautifulsoup4->bs4) (2.2.1)\n"
     ]
    },
    {
     "name": "stderr",
     "output_type": "stream",
     "text": [
      "WARNING: Value for scheme.headers does not match. Please report this to <https://github.com/pypa/pip/issues/9617>\n",
      "distutils: c:\\users\\dulce hogar\\appdata\\local\\programs\\python\\python39\\Include\\UNKNOWN\n",
      "sysconfig: c:\\users\\dulce hogar\\appdata\\local\\programs\\python\\python39\\Include\n",
      "WARNING: Additional context:\n",
      "user = False\n",
      "home = None\n",
      "root = None\n",
      "prefix = None\n",
      "WARNING: Value for scheme.headers does not match. Please report this to <https://github.com/pypa/pip/issues/9617>\n",
      "distutils: c:\\users\\dulce hogar\\appdata\\local\\programs\\python\\python39\\Include\\UNKNOWN\n",
      "sysconfig: c:\\users\\dulce hogar\\appdata\\local\\programs\\python\\python39\\Include\n",
      "WARNING: Additional context:\n",
      "user = False\n",
      "home = None\n",
      "root = None\n",
      "prefix = None\n"
     ]
    },
    {
     "name": "stdout",
     "output_type": "stream",
     "text": [
      "Requirement already satisfied: beautifulsoup4 in c:\\users\\dulce hogar\\appdata\\local\\programs\\python\\python39\\lib\\site-packages (4.9.3)\n",
      "Requirement already satisfied: soupsieve>1.2 in c:\\users\\dulce hogar\\appdata\\local\\programs\\python\\python39\\lib\\site-packages (from beautifulsoup4) (2.2.1)\n"
     ]
    },
    {
     "name": "stderr",
     "output_type": "stream",
     "text": [
      "WARNING: Value for scheme.headers does not match. Please report this to <https://github.com/pypa/pip/issues/9617>\n",
      "distutils: c:\\users\\dulce hogar\\appdata\\local\\programs\\python\\python39\\Include\\UNKNOWN\n",
      "sysconfig: c:\\users\\dulce hogar\\appdata\\local\\programs\\python\\python39\\Include\n",
      "WARNING: Additional context:\n",
      "user = False\n",
      "home = None\n",
      "root = None\n",
      "prefix = None\n",
      "WARNING: Value for scheme.headers does not match. Please report this to <https://github.com/pypa/pip/issues/9617>\n",
      "distutils: c:\\users\\dulce hogar\\appdata\\local\\programs\\python\\python39\\Include\\UNKNOWN\n",
      "sysconfig: c:\\users\\dulce hogar\\appdata\\local\\programs\\python\\python39\\Include\n",
      "WARNING: Additional context:\n",
      "user = False\n",
      "home = None\n",
      "root = None\n",
      "prefix = None\n"
     ]
    },
    {
     "name": "stdout",
     "output_type": "stream",
     "text": [
      "Requirement already satisfied: lxml in c:\\users\\dulce hogar\\appdata\\local\\programs\\python\\python39\\lib\\site-packages (4.6.3)\n"
     ]
    },
    {
     "name": "stderr",
     "output_type": "stream",
     "text": [
      "WARNING: Value for scheme.headers does not match. Please report this to <https://github.com/pypa/pip/issues/9617>\n",
      "distutils: c:\\users\\dulce hogar\\appdata\\local\\programs\\python\\python39\\Include\\UNKNOWN\n",
      "sysconfig: c:\\users\\dulce hogar\\appdata\\local\\programs\\python\\python39\\Include\n",
      "WARNING: Additional context:\n",
      "user = False\n",
      "home = None\n",
      "root = None\n",
      "prefix = None\n",
      "WARNING: Value for scheme.headers does not match. Please report this to <https://github.com/pypa/pip/issues/9617>\n",
      "distutils: c:\\users\\dulce hogar\\appdata\\local\\programs\\python\\python39\\Include\\UNKNOWN\n",
      "sysconfig: c:\\users\\dulce hogar\\appdata\\local\\programs\\python\\python39\\Include\n",
      "WARNING: Additional context:\n",
      "user = False\n",
      "home = None\n",
      "root = None\n",
      "prefix = None\n"
     ]
    },
    {
     "name": "stdout",
     "output_type": "stream",
     "text": [
      "Requirement already satisfied: html5lib in c:\\users\\dulce hogar\\appdata\\local\\programs\\python\\python39\\lib\\site-packages (1.1)\n",
      "Requirement already satisfied: webencodings in c:\\users\\dulce hogar\\appdata\\local\\programs\\python\\python39\\lib\\site-packages (from html5lib) (0.5.1)\n",
      "Requirement already satisfied: six>=1.9 in c:\\users\\dulce hogar\\appdata\\local\\programs\\python\\python39\\lib\\site-packages (from html5lib) (1.15.0)\n"
     ]
    },
    {
     "name": "stderr",
     "output_type": "stream",
     "text": [
      "WARNING: Value for scheme.headers does not match. Please report this to <https://github.com/pypa/pip/issues/9617>\n",
      "distutils: c:\\users\\dulce hogar\\appdata\\local\\programs\\python\\python39\\Include\\UNKNOWN\n",
      "sysconfig: c:\\users\\dulce hogar\\appdata\\local\\programs\\python\\python39\\Include\n",
      "WARNING: Additional context:\n",
      "user = False\n",
      "home = None\n",
      "root = None\n",
      "prefix = None\n",
      "WARNING: Value for scheme.headers does not match. Please report this to <https://github.com/pypa/pip/issues/9617>\n",
      "distutils: c:\\users\\dulce hogar\\appdata\\local\\programs\\python\\python39\\Include\\UNKNOWN\n",
      "sysconfig: c:\\users\\dulce hogar\\appdata\\local\\programs\\python\\python39\\Include\n",
      "WARNING: Additional context:\n",
      "user = False\n",
      "home = None\n",
      "root = None\n",
      "prefix = None\n"
     ]
    }
   ],
   "source": [
    "!pip install requests\n",
    "!pip install bs4\n",
    "!pip install beautifulsoup4\n",
    "!pip install lxml\n",
    "!pip install html5lib"
   ]
  },
  {
   "cell_type": "code",
   "execution_count": null,
   "id": "8bf5dc9e",
   "metadata": {},
   "outputs": [],
   "source": [
    "Importamos las librerias que vamos a necesitar"
   ]
  },
  {
   "cell_type": "code",
   "execution_count": 2,
   "id": "338dc77c",
   "metadata": {},
   "outputs": [],
   "source": [
    "import requests\n",
    "from bs4 import BeautifulSoup\n",
    "from lxml import etree\n",
    "import bs4"
   ]
  },
  {
   "cell_type": "raw",
   "id": "b4523286",
   "metadata": {},
   "source": [
    "Importamos url base"
   ]
  },
  {
   "cell_type": "code",
   "execution_count": 3,
   "id": "bd2dc507",
   "metadata": {},
   "outputs": [],
   "source": [
    "baseurl ='https://statsroyale.com/es'"
   ]
  },
  {
   "cell_type": "markdown",
   "id": "42435bbe",
   "metadata": {},
   "source": [
    "Conseguimos un agente de usuario que pueda enviar con cada solicitud, por lo qque de \n",
    "forma predeterminada cuando el usuario solicita si envia a una pagina el agente de \n",
    "usuario es la solicitud de Python y creo que eso puede obtener mas bloques a menudo, así\n",
    "que en realidad vamos a anular y eligí este aqui desde este sitio web es común que se envíe y diga que estamos en windows y estamso usando MOZILLA \n"
   ]
  },
  {
   "cell_type": "code",
   "execution_count": 4,
   "id": "a85283b0",
   "metadata": {},
   "outputs": [],
   "source": [
    "headers ={'User-Agent':'Mozilla/5.0 (iPhone; CPU iPhone OS 10_0 like Mac OS X) AppleWebKit/602.4.6 (KHTML, like Gecko) Version/10.0 Mobile/14A346 Safari/E7FBAF'}"
   ]
  },
  {
   "cell_type": "markdown",
   "id": "5c27322b",
   "metadata": {},
   "source": [
    "Ponemos la URL  de la web de donde comenzaremos a sacar la informacion "
   ]
  },
  {
   "cell_type": "code",
   "execution_count": 5,
   "id": "9d3cc5ad",
   "metadata": {},
   "outputs": [],
   "source": [
    "r = requests.get('https://statsroyale.com/es/cards')"
   ]
  },
  {
   "cell_type": "markdown",
   "id": "3a5d7480",
   "metadata": {},
   "source": [
    "usamos beatifulsoup para obtener todo de la pagina y voy a usar el analizador XML earle en "
   ]
  },
  {
   "cell_type": "code",
   "execution_count": 6,
   "id": "cae7e874",
   "metadata": {},
   "outputs": [],
   "source": [
    "soup = BeautifulSoup(r.content, 'lxml')"
   ]
  },
  {
   "cell_type": "markdown",
   "id": "13660776",
   "metadata": {},
   "source": [
    "Extraemos todos los link que encontramos que se relacionan directamente con la informacion que queremos extraer"
   ]
  },
  {
   "cell_type": "code",
   "execution_count": 7,
   "id": "788c775d",
   "metadata": {},
   "outputs": [],
   "source": [
    "cardlist =soup.find_all('div',class_=\"cards__card\")"
   ]
  },
  {
   "cell_type": "markdown",
   "id": "519ff96e",
   "metadata": {},
   "source": [
    "guardamos los links"
   ]
  },
  {
   "cell_type": "code",
   "execution_count": 8,
   "id": "4e37a9cc",
   "metadata": {},
   "outputs": [],
   "source": [
    "cardlinks =[]\n",
    "for item in cardlist:\n",
    "    for link in item.find_all('a', href= True): \n",
    "        cardlinks.append(link['href'])"
   ]
  },
  {
   "cell_type": "markdown",
   "id": "d5a985c2",
   "metadata": {},
   "source": [
    "Verificamos la cantidad de link que extraemos "
   ]
  },
  {
   "cell_type": "code",
   "execution_count": 9,
   "id": "010b0e42",
   "metadata": {},
   "outputs": [
    {
     "name": "stdout",
     "output_type": "stream",
     "text": [
      "Numero de links: 102\n"
     ]
    }
   ],
   "source": [
    "print('Numero de links:',len(cardlinks))"
   ]
  },
  {
   "cell_type": "markdown",
   "id": "4b0fe0d7",
   "metadata": {},
   "source": [
    "En esta parte se comienza a extraer la informaciond de cada carta "
   ]
  },
  {
   "cell_type": "code",
   "execution_count": 10,
   "id": "805179c3",
   "metadata": {},
   "outputs": [],
   "source": [
    "lista_diccionario = []"
   ]
  },
  {
   "cell_type": "markdown",
   "id": "c5f470ab",
   "metadata": {},
   "source": [
    "### Lista de atributos que se extraeran:\n",
    "    nombre                             name\n",
    "    nivel                              level\n",
    "    calidad                            quality\n",
    "    objetivo                           objective\n",
    "    alcance                            scope\n",
    "    velocidad                          speed\n",
    "    velocidad de la letra              letter speed\n",
    "    radio                              radio\n",
    "    tiempo de vida                     tiem of life\n",
    "    Puntos de vida                     Life points\n",
    "    Daño                               Hurt\n",
    "    Daño\\s                             Damage\n",
    "    Daño de área                       Area damage\n",
    "    Daños a las torres de la corona    Damage to crown towers\n",
    "    Daño mortal                        Deadly damage\n",
    "    Daños a la carga                   Cargo damage"
   ]
  },
  {
   "cell_type": "code",
   "execution_count": 12,
   "id": "59b2e5be",
   "metadata": {},
   "outputs": [],
   "source": [
    "for link in cardlinks:\n",
    "    r = requests.get(link, headers = headers)\n",
    "    soup = BeautifulSoup(r.content,'lxml')\n",
    "    #####################################################\n",
    "    #Creamos variables de aquella informacion que no tiene una clase ni etiqueta que los distinga \n",
    "    # ademas que puede o no que existan estas variable en cada uno de los links\n",
    "    Life_points = 'None'\n",
    "    Hurt = 'None'\n",
    "    Damage = 'None'\n",
    "    Area_damage = 'None'\n",
    "    Damage_to_crown_towers= 'None'\n",
    "    Deadly_damage= 'None'\n",
    "    Cargo_damage = 'None'\n",
    "    leve = soup.find('tbody')\n",
    "    \n",
    "    try:\n",
    "        #recorremos todos los valores de etiqueta con la clase CARD_TABLEVALUES\n",
    "        for item in leve.find_all('tr',class_='card__tableValues'):\n",
    "            if 'Puntos de vida'== item.find('strong').text.strip():\n",
    "                Life_points = item.find('td',class_ ='card__tableValue card__isActive').text.strip()\n",
    "            if 'Daño'== item.find('strong').text.strip():\n",
    "                Hurt = item.find('td',class_ ='card__tableValue card__isActive').text.strip()\n",
    "            if 'Daño/s'== item.find('strong').text.strip():\n",
    "                Damage = item.find('td',class_ ='card__tableValue card__isActive').text.strip()\n",
    "            if 'Daño de área' == item.find('strong').text.strip():\n",
    "                Area_damage = item.find('td',class_ ='card__tableValue card__isActive').text.strip()\n",
    "            if 'Daño a torres de coronas' == item.find('strong').text.strip():\n",
    "                Damage_to_crown_towers= item.find('td',class_ ='card__tableValue card__isActive').text.strip()\n",
    "            if 'Daño mortal' == item.find('strong').text.strip():\n",
    "                Deadly_damage= item.find('td',class_ ='card__tableValue card__isActive').text.strip()  \n",
    "            if 'Daño de carga' == item.find('strong').text.strip():\n",
    "                Cargo_damage = item.find('td',class_ ='card__tableValue card__isActive').text.strip()\n",
    "            #print(type(item.find('strong').text.strip()))\n",
    "            #print(item.find('strong').text.strip(), item.find('td',class_ ='card__tableValue card__isActive').text.strip())\n",
    "            #print(item.find('td',class_ ='card__tableValue card__isActive').text)\n",
    "    except:\n",
    "        Life_points = 'None'\n",
    "        Hurt = 'None'\n",
    "        Damage = 'None'\n",
    "        Area_damage = 'None'\n",
    "        Damage_to_crown_towers= 'None'\n",
    "        Deadly_damage= 'None'\n",
    "        Cargo_damage = 'None'\n",
    "####################################################################\n",
    "\n",
    "    name =soup.find('div',class_='ui__headerMedium card__cardName').text.strip()\n",
    "    try:\n",
    "        level = soup.find('th', class_='card__tableHeader card__isActiveHeader').text.strip()\n",
    "    except:\n",
    "        level = 'None'\n",
    "    try:\n",
    "        quality = soup.find('span',class_='card__rare').text.strip()\n",
    "    except:\n",
    "        try:\n",
    "            quality = soup.find('span',class_='card__legendary').text.strip()\n",
    "        except:\n",
    "            try:\n",
    "                quality = soup.find('span',class_='card__epic').text.strip()\n",
    "            except:\n",
    "                try:\n",
    "                    quality = soup.find('span',class_='card__common').text.strip()\n",
    "                except:\n",
    "                    quality = 'None'\n",
    "    try:\n",
    "        objective = soup.find('div', class_='card__metric card__target').find('div',class_='ui__mediumText card__count').text.strip()\n",
    "    except:\n",
    "        objective = 'None'\n",
    "    try:\n",
    "        scope = soup.find('div',class_='card__metric card__range').find('div',class_='ui__mediumText card__count').text.strip()\n",
    "    except:\n",
    "        scope = 'None'\n",
    "    try:\n",
    "        speed = soup.find('div',class_ ='card__metric card__movementSpeed').find('div',class_='ui__mediumText card__count').text.strip()\n",
    "    except:\n",
    "        speed = 'None'\n",
    "    try:\n",
    "        letter_speed = soup.find('tbody').find('td',class_='card__tableValue card__isActive').text.strip()\n",
    "    except:\n",
    "        letter_speed = 'None'\n",
    "    try:\n",
    "        radio = soup.find('div',class_='card__metric card__radius').find('div',class_='ui__mediumText card__count').text.strip()\n",
    "    except:\n",
    "        radio = 'None'\n",
    "    try:\n",
    "        time_of_life = soup.find('div',class_ = 'card__metric card__durationLifetime').find('div',class_='ui__mediumText card__count').text.strip()\n",
    "    except:\n",
    "        time_of_life = 'None'\n",
    "#Creamos la estructura del diccionario\n",
    "    CARDS ={\n",
    "        'name':name,\n",
    "        'level':level,\n",
    "        'quality':quality,\n",
    "        'objective': objective,\n",
    "        'scope':scope,\n",
    "        'speed':speed,\n",
    "        'letter_speed':letter_speed,\n",
    "        'radio': radio,\n",
    "        'tiem_of_life':time_of_life,\n",
    "        ######################################\n",
    "        'Life_points' : Life_points,\n",
    "        'Hurt' : Hurt,\n",
    "        'Damage' : Damage,\n",
    "        'Area_damage' : Area_damage,\n",
    "        'Damage_to_crown_towers' : Damage_to_crown_towers,\n",
    "        'Deadly_damage' : Deadly_damage,\n",
    "        'Cargo_damage' : Cargo_damage,\n",
    "        'Link':link\n",
    "    }\n",
    "    #guardamos los diccionarios en una lista\n",
    "    lista_diccionario.append(CARDS)"
   ]
  },
  {
   "cell_type": "markdown",
   "id": "6a6755ec",
   "metadata": {},
   "source": [
    "Verificamos la cantidad de diccionarios en la lista"
   ]
  },
  {
   "cell_type": "code",
   "execution_count": 13,
   "id": "ab5fb81f",
   "metadata": {},
   "outputs": [
    {
     "name": "stdout",
     "output_type": "stream",
     "text": [
      "102\n"
     ]
    }
   ],
   "source": [
    "print(len(lista_diccionario))"
   ]
  },
  {
   "cell_type": "markdown",
   "id": "09a53822",
   "metadata": {},
   "source": [
    "Una muestra de ejemplo de la lista "
   ]
  },
  {
   "cell_type": "code",
   "execution_count": 16,
   "id": "7f0d7356",
   "metadata": {},
   "outputs": [
    {
     "name": "stdout",
     "output_type": "stream",
     "text": [
      "{'name': 'Gólem', 'level': '9', 'quality': 'Épica', 'objective': 'Estructuras', 'scope': 'Cuerpo a cuerpo', 'speed': 'Baja', 'letter_speed': '4256', 'radio': 'None', 'tiem_of_life': 'None', 'Life_points': '4256', 'Hurt': '259', 'Damage': '103', 'Area_damage': 'None', 'Damage_to_crown_towers': 'None', 'Deadly_damage': '259', 'Cargo_damage': 'None', 'Link': 'https://statsroyale.com/es/card/Golem'}\n"
     ]
    }
   ],
   "source": [
    "print(lista_diccionario[1])"
   ]
  },
  {
   "cell_type": "code",
   "execution_count": null,
   "id": "144a350f",
   "metadata": {},
   "outputs": [],
   "source": []
  }
 ],
 "metadata": {
  "kernelspec": {
   "display_name": "Python 3",
   "language": "python",
   "name": "python3"
  },
  "language_info": {
   "codemirror_mode": {
    "name": "ipython",
    "version": 3
   },
   "file_extension": ".py",
   "mimetype": "text/x-python",
   "name": "python",
   "nbconvert_exporter": "python",
   "pygments_lexer": "ipython3",
   "version": "3.9.4"
  }
 },
 "nbformat": 4,
 "nbformat_minor": 5
}
